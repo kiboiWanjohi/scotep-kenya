{
 "cells": [
  {
   "cell_type": "markdown",
   "metadata": {},
   "source": [
    "### Breast Histopathology Images "
   ]
  },
  {
   "cell_type": "code",
   "execution_count": null,
   "metadata": {},
   "outputs": [],
   "source": [
    "! pip install kaggle "
   ]
  },
  {
   "cell_type": "code",
   "execution_count": null,
   "metadata": {},
   "outputs": [],
   "source": [
    "from google.colab import drive\n",
    "drive.mount('/content/drive')"
   ]
  },
  {
   "cell_type": "code",
   "execution_count": null,
   "metadata": {},
   "outputs": [],
   "source": [
    "! mkdir ~/.kaggle"
   ]
  },
  {
   "cell_type": "code",
   "execution_count": null,
   "metadata": {},
   "outputs": [],
   "source": [
    "! cp /content/drive/MyDrive/Stat_Docs/kaggle.json ~/.kaggle/kaggle.json"
   ]
  },
  {
   "cell_type": "code",
   "execution_count": null,
   "metadata": {},
   "outputs": [],
   "source": [
    "# Change permission\n",
    "! chmod 600 ~/.kaggle/kaggle.json"
   ]
  },
  {
   "cell_type": "markdown",
   "metadata": {},
   "source": [
    "### Download Histopathology Dataset\n",
    "\n",
    "Link To Breast Histopathology Dataset [Here](https://www.kaggle.com/datasets/paultimothymooney/breast-histopathology-images)"
   ]
  },
  {
   "cell_type": "code",
   "execution_count": null,
   "metadata": {},
   "outputs": [],
   "source": [
    "# unzip content\n",
    "! unzip /content/breast-histopathology-images.zip -d /content/breast-histopathology-images"
   ]
  },
  {
   "cell_type": "code",
   "execution_count": null,
   "metadata": {},
   "outputs": [],
   "source": [
    "# check disk usage\n",
    "! df -h"
   ]
  },
  {
   "cell_type": "code",
   "execution_count": null,
   "metadata": {},
   "outputs": [],
   "source": [
    "import numpy as np\n",
    "import pandas as pd\n",
    "import matplotlib.pyplot as plt\n",
    "import seaborn as sns\n",
    "import glob \n",
    "from sklearn.model_selection import train_test_split\n",
    "from sklearn.metrics import confusion_matrix\n",
    "from skimage.io import imread\n",
    "import cv2"
   ]
  },
  {
   "cell_type": "code",
   "execution_count": null,
   "metadata": {},
   "outputs": [],
   "source": [
    "breast_imgs = glob.glob('/content/breast-histopathology-images/IDC_regular_ps50_idx5/**/*.png', recursive = True)\n",
    "breast_imgs[0]"
   ]
  },
  {
   "cell_type": "code",
   "execution_count": null,
   "metadata": {},
   "outputs": [],
   "source": [
    "# Plot random images\n",
    "fig, axes = plt.subplots(3, 3, figsize = (10, 10))\n",
    "for i in range(5):\n",
    "    img = cv2.imread(breast_imgs[i])\n",
    "    axes[i].imshow(img)"
   ]
  },
  {
   "cell_type": "code",
   "execution_count": null,
   "metadata": {},
   "outputs": [],
   "source": [
    "# Get data insights from dataframe\n",
    "df = pd.DataFrame(index=np.arrange(0, len(breast_imgs)), columns=['path', 'target'])\n",
    "for i in range(len(breast_imgs)):\n",
    "    df.loc[i, 'path'] = breast_imgs[i]\n",
    "    df.loc[i, 'target'] = int(breast_imgs[i][-5])"
   ]
  },
  {
   "cell_type": "code",
   "execution_count": null,
   "metadata": {},
   "outputs": [],
   "source": [
    "df"
   ]
  },
  {
   "cell_type": "code",
   "execution_count": null,
   "metadata": {},
   "outputs": [],
   "source": [
    "pos = df[df['target'] == 1]\n",
    "neg = df[df['target'] == 0]"
   ]
  },
  {
   "cell_type": "code",
   "execution_count": null,
   "metadata": {},
   "outputs": [],
   "source": [
    "pos.shape\n",
    "\n",
    "neg.shape"
   ]
  },
  {
   "cell_type": "code",
   "execution_count": null,
   "metadata": {},
   "outputs": [],
   "source": [
    "# print cancer images \n",
    "fig, axes = plt.subplots(4, 10, figsize=(20,10))\n",
    "fig.suptitle('Cancer', fontsize=20)\n",
    "for i in range(4):\n",
    "    for j in range(10):        \n",
    "        image = imread(pos.iloc[j + 10*i][\"path\"])\n",
    "        axes[i,j].imshow(image)\n",
    "plt.tight_layout(rect=[0, 0, 1, 0.96])"
   ]
  },
  {
   "cell_type": "code",
   "execution_count": null,
   "metadata": {},
   "outputs": [],
   "source": [
    "# print non-cancer images \n",
    "fig, axes = plt.subplots(4, 10, figsize=(20,10))\n",
    "fig.suptitle('No Cancer', fontsize=20)\n",
    "for i in range(4):\n",
    "    for j in range(10):        \n",
    "        image = imread(neg.iloc[j + 10*i][\"path\"])\n",
    "        axes[i,j].imshow(image)\n",
    "plt.tight_layout(rect=[0, 0, 1, 0.96])"
   ]
  },
  {
   "cell_type": "code",
   "execution_count": null,
   "metadata": {},
   "outputs": [],
   "source": [
    "# insights from dataframe\n",
    "plt.figure(figsize=(10, 5))\n",
    "ax = sns.barplot(x=df['target'].value_counts().index, y = df['target'].value_counts(), palette='Set1')\n",
    "plt.xlabel('State of Cancer')\n",
    "plt.ylabel('Number of Patients')\n",
    "plt.title('Distribution of Cancer States')\n",
    "plt.legend(handles=ax.patches[:2], labels=['0 = No Cancer', '1 = Cancer'], loc='upper right')\n",
    "plt.show()"
   ]
  }
 ],
 "metadata": {
  "kernelspec": {
   "display_name": "Python 3",
   "language": "python",
   "name": "python3"
  },
  "language_info": {
   "name": "python",
   "version": "3.12.4"
  }
 },
 "nbformat": 4,
 "nbformat_minor": 2
}
