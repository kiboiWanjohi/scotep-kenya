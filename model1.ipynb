{
  "nbformat": 4,
  "nbformat_minor": 0,
  "metadata": {
    "colab": {
      "provenance": [],
      "authorship_tag": "ABX9TyNMqyHM5z9hwtNev4E0VzLy",
      "include_colab_link": true
    },
    "kernelspec": {
      "name": "python3",
      "display_name": "Python 3"
    },
    "language_info": {
      "name": "python"
    }
  },
  "cells": [
    {
      "cell_type": "markdown",
      "metadata": {
        "id": "view-in-github",
        "colab_type": "text"
      },
      "source": [
        "<a href=\"https://colab.research.google.com/github/kiboiWanjohi/scotep-kenya/blob/main/model1.ipynb\" target=\"_parent\"><img src=\"https://colab.research.google.com/assets/colab-badge.svg\" alt=\"Open In Colab\"/></a>"
      ]
    },
    {
      "cell_type": "code",
      "execution_count": 1,
      "metadata": {
        "colab": {
          "base_uri": "https://localhost:8080/"
        },
        "id": "ZqeDKcIxD59a",
        "outputId": "22a6a5ba-916e-42a1-ec4e-93748e8095cd"
      },
      "outputs": [
        {
          "output_type": "stream",
          "name": "stdout",
          "text": [
            "Requirement already satisfied: kaggle in /usr/local/lib/python3.10/dist-packages (1.6.17)\n",
            "Requirement already satisfied: six>=1.10 in /usr/local/lib/python3.10/dist-packages (from kaggle) (1.16.0)\n",
            "Requirement already satisfied: certifi>=2023.7.22 in /usr/local/lib/python3.10/dist-packages (from kaggle) (2024.7.4)\n",
            "Requirement already satisfied: python-dateutil in /usr/local/lib/python3.10/dist-packages (from kaggle) (2.8.2)\n",
            "Requirement already satisfied: requests in /usr/local/lib/python3.10/dist-packages (from kaggle) (2.32.3)\n",
            "Requirement already satisfied: tqdm in /usr/local/lib/python3.10/dist-packages (from kaggle) (4.66.5)\n",
            "Requirement already satisfied: python-slugify in /usr/local/lib/python3.10/dist-packages (from kaggle) (8.0.4)\n",
            "Requirement already satisfied: urllib3 in /usr/local/lib/python3.10/dist-packages (from kaggle) (2.0.7)\n",
            "Requirement already satisfied: bleach in /usr/local/lib/python3.10/dist-packages (from kaggle) (6.1.0)\n",
            "Requirement already satisfied: webencodings in /usr/local/lib/python3.10/dist-packages (from bleach->kaggle) (0.5.1)\n",
            "Requirement already satisfied: text-unidecode>=1.3 in /usr/local/lib/python3.10/dist-packages (from python-slugify->kaggle) (1.3)\n",
            "Requirement already satisfied: charset-normalizer<4,>=2 in /usr/local/lib/python3.10/dist-packages (from requests->kaggle) (3.3.2)\n",
            "Requirement already satisfied: idna<4,>=2.5 in /usr/local/lib/python3.10/dist-packages (from requests->kaggle) (3.7)\n"
          ]
        }
      ],
      "source": [
        "! pip install kaggle"
      ]
    },
    {
      "cell_type": "code",
      "source": [
        "from google.colab import drive\n",
        "drive.mount('/content/drive')"
      ],
      "metadata": {
        "colab": {
          "base_uri": "https://localhost:8080/"
        },
        "id": "syNnKlXkHZoC",
        "outputId": "a2e684ae-bccb-4871-f0e1-790aeca888e9"
      },
      "execution_count": 2,
      "outputs": [
        {
          "output_type": "stream",
          "name": "stdout",
          "text": [
            "Mounted at /content/drive\n"
          ]
        }
      ]
    },
    {
      "cell_type": "code",
      "source": [
        "! mkdir ~/.kaggle"
      ],
      "metadata": {
        "id": "Un-H0ZFiIHa5"
      },
      "execution_count": 3,
      "outputs": []
    },
    {
      "cell_type": "code",
      "source": [
        "! cp /content/drive/MyDrive/Stat_Docs/kaggle.json ~/.kaggle/kaggle.json"
      ],
      "metadata": {
        "id": "iP4Y1Tu4IZuH"
      },
      "execution_count": 4,
      "outputs": []
    },
    {
      "cell_type": "code",
      "source": [
        "# Change permission\n",
        "! chmod 600 ~/.kaggle/kaggle.json"
      ],
      "metadata": {
        "id": "SD_gnLXtIrKA"
      },
      "execution_count": 5,
      "outputs": []
    },
    {
      "cell_type": "markdown",
      "source": [
        "### Try Downloading Dataset\n",
        "\n",
        "Link to dataset https://www.kaggle.com/datasets/cheddad/miniddsm2?resource=download-directory\n",
        "\n"
      ],
      "metadata": {
        "id": "W1p4gFxgI6iX"
      }
    },
    {
      "cell_type": "code",
      "source": [
        "! kaggle datasets list"
      ],
      "metadata": {
        "colab": {
          "base_uri": "https://localhost:8080/"
        },
        "id": "Y95YQmVdM0Yn",
        "outputId": "d476c298-9d78-467c-aa6f-165846b19df3"
      },
      "execution_count": 10,
      "outputs": [
        {
          "output_type": "stream",
          "name": "stdout",
          "text": [
            "ref                                                            title                                               size  lastUpdated          downloadCount  voteCount  usabilityRating  \n",
            "-------------------------------------------------------------  -------------------------------------------------  -----  -------------------  -------------  ---------  ---------------  \n",
            "muhammadehsan000/healthcare-dataset-2019-2024                  Healthcare Dataset (2019-2024)                       3MB  2024-08-09 17:52:25           2726         62  1.0              \n",
            "arpit2712/amazonsalesreport                                    AmazonSalesReport                                    3MB  2024-08-07 19:15:47           1591         29  1.0              \n",
            "muhammadehsan000/global-electric-vehicle-sales-data-2010-2024  Global Electric Vehicle Sales Data (2010-2024)      83KB  2024-08-09 16:39:22           2070         41  1.0              \n",
            "emreksz/software-engineer-jobs-and-salaries-2024               Software Engineer Jobs & Salaries 2024              23KB  2024-08-12 00:08:03           1043         29  1.0              \n",
            "myrios/cost-of-living-index-by-country-by-number-2024          Cost of Living Index by Country                      3KB  2024-07-19 06:25:42           5114         76  1.0              \n",
            "umerhaddii/imdb-summer-movies-data                             IMDb Summer Movies Data                             40KB  2024-08-09 14:58:41            682         23  1.0              \n",
            "krishujeniya/heart-diseae                                      Heart Disease Prediction Dataset                     3KB  2024-07-28 14:46:19           1494         34  1.0              \n",
            "muhammadehsan000/olympic-historical-dataset-1896-2020          Olympic Historical Dataset (1896 - 2022)            27MB  2024-08-06 16:46:08           2934         63  1.0              \n",
            "srinrealyf/india-ev-market-data                                Detailed India EV Market Data 2001 - 2024           28KB  2024-08-14 05:28:50            830         21  1.0              \n",
            "waqi786/heart-attack-dataset                                   ❤️ Heart Attack Risk Factors Dataset                 9KB  2024-08-06 10:57:42           2295         38  1.0              \n",
            "youssefismail20/olympic-games-1994-2024                        Olympic Games (1994-2024) 🏅🌍                        16KB  2024-08-11 20:19:04           2321         43  1.0              \n",
            "raminhuseyn/dataset-from-tiktok                                Dataset from TikTok                                794KB  2024-07-27 19:14:02           1373         24  1.0              \n",
            "muhammadroshaanriaz/global-best-selling-phone-sales            World's Best-Selling Phone's Sales                   2KB  2024-07-23 19:59:39           1228         22  1.0              \n",
            "muhammadehsan000/us-airline-industry-dataset-1993-2024         US Airline Industry Dataset (1993-2024)             13MB  2024-08-06 06:12:03            727         24  1.0              \n",
            "piterfm/paris-2024-olympic-summer-games                        Paris 2024 Olympic Summer Games                      3MB  2024-08-15 22:36:42           6776        165  1.0              \n",
            "sajkazmi/paris-olympics-2024-games-dataset-updated-daily       Paris Olympics 2024 Games Dataset (updated daily)    6MB  2024-08-13 02:25:23           1361         34  0.8235294        \n",
            "abdallahwagih/company-employees                                Company Employees                                   68KB  2024-08-10 12:13:08           1280         36  0.8235294        \n",
            "preethamgouda/banglore-smart-building                          Banglore Smart Building                             73KB  2024-08-12 17:43:14            813         24  1.0              \n",
            "waqi786/cats-dataset                                           🐾 Cats Dataset                                       6KB  2024-07-31 06:12:49           2891         55  1.0              \n",
            "waqi786/stars-dataset                                          ⭐ Stars Dataset ⭐                                   40KB  2024-08-08 15:21:26            408         23  1.0              \n"
          ]
        }
      ]
    },
    {
      "cell_type": "code",
      "source": [
        "!kaggle datasets download -d cheddad/miniddsm2"
      ],
      "metadata": {
        "colab": {
          "base_uri": "https://localhost:8080/"
        },
        "id": "ihSOIwqiOngf",
        "outputId": "92aba0bb-470e-4e9f-d7fa-48ebe1bf469e"
      },
      "execution_count": 11,
      "outputs": [
        {
          "output_type": "stream",
          "name": "stdout",
          "text": [
            "Dataset URL: https://www.kaggle.com/datasets/cheddad/miniddsm2\n",
            "License(s): Attribution-NoDerivatives 4.0 International (CC BY-ND 4.0)\n",
            "Downloading miniddsm2.zip to /content\n",
            "100% 49.1G/49.1G [11:04<00:00, 87.4MB/s]\n",
            "100% 49.1G/49.1G [11:04<00:00, 79.3MB/s]\n"
          ]
        }
      ]
    },
    {
      "cell_type": "code",
      "source": [
        "!df -h"
      ],
      "metadata": {
        "colab": {
          "base_uri": "https://localhost:8080/"
        },
        "id": "5DcuK1SGU3pZ",
        "outputId": "6ecf04bb-fa96-442d-8ce9-4c74a6a21f03"
      },
      "execution_count": 13,
      "outputs": [
        {
          "output_type": "stream",
          "name": "stdout",
          "text": [
            "Filesystem      Size  Used Avail Use% Mounted on\n",
            "overlay         108G   80G   28G  75% /\n",
            "tmpfs            64M     0   64M   0% /dev\n",
            "shm             5.8G     0  5.8G   0% /dev/shm\n",
            "/dev/root       2.0G  1.2G  820M  59% /usr/sbin/docker-init\n",
            "tmpfs           6.4G  532K  6.4G   1% /var/colab\n",
            "/dev/sda1       114G   82G   33G  72% /etc/hosts\n",
            "tmpfs           6.4G     0  6.4G   0% /proc/acpi\n",
            "tmpfs           6.4G     0  6.4G   0% /proc/scsi\n",
            "tmpfs           6.4G     0  6.4G   0% /sys/firmware\n",
            "drive            15G  2.7G   13G  18% /content/drive\n"
          ]
        }
      ]
    },
    {
      "cell_type": "code",
      "source": [
        "cd '/content/miniddsm2.zip'"
      ],
      "metadata": {
        "colab": {
          "base_uri": "https://localhost:8080/"
        },
        "id": "3ETsUL8ZVj3B",
        "outputId": "21a725f7-1b2d-47c0-f125-821a166d6034"
      },
      "execution_count": 16,
      "outputs": [
        {
          "output_type": "stream",
          "name": "stdout",
          "text": [
            "[Errno 20] Not a directory: '/content/miniddsm2.zip'\n",
            "/content\n"
          ]
        }
      ]
    },
    {
      "cell_type": "code",
      "source": [
        "!unzip \"/content/miniddsm2.zip\""
      ],
      "metadata": {
        "colab": {
          "base_uri": "https://localhost:8080/"
        },
        "id": "b-7ya-JnWIGX",
        "outputId": "44078d8e-364a-41ff-9788-36496cf44e59"
      },
      "execution_count": 19,
      "outputs": [
        {
          "output_type": "stream",
          "name": "stdout",
          "text": [
            "Archive:  /content/miniddsm2.zip\n",
            "replace Data-MoreThanTwoMasks/Benign/0236/C_0236_1.RIGHT_CC_Mask3.png? [y]es, [n]o, [A]ll, [N]one, [r]ename: "
          ]
        }
      ]
    },
    {
      "cell_type": "code",
      "source": [
        "import pandas as pd"
      ],
      "metadata": {
        "id": "lyoWfngkMKKt"
      },
      "execution_count": 8,
      "outputs": []
    },
    {
      "cell_type": "code",
      "source": [
        "dicom_data = pd.read_excel('/content/Data-MoreThanTwoMasks/Data-MoreThanTwoMasks.xlsx')"
      ],
      "metadata": {
        "id": "hcI0pQxcJSO8"
      },
      "execution_count": 21,
      "outputs": []
    },
    {
      "cell_type": "code",
      "source": [
        "dicom_data.head()"
      ],
      "metadata": {
        "colab": {
          "base_uri": "https://localhost:8080/",
          "height": 226
        },
        "id": "uVkufDhHjYec",
        "outputId": "c7a98f0a-44b9-482b-85d8-f8e939014b6b"
      },
      "execution_count": 22,
      "outputs": [
        {
          "output_type": "execute_result",
          "data": {
            "text/plain": [
              "                             fullPath                fileName View   Side  \\\n",
              "0    Benign\\0029\\C_0029_1.LEFT_CC.png    C_0029_1.LEFT_CC.png   CC   LEFT   \n",
              "1   Benign\\0029\\C_0029_1.LEFT_MLO.png   C_0029_1.LEFT_MLO.png  MLO   LEFT   \n",
              "2   Benign\\0029\\C_0029_1.RIGHT_CC.png   C_0029_1.RIGHT_CC.png   CC  RIGHT   \n",
              "3  Benign\\0029\\C_0029_1.RIGHT_MLO.png  C_0029_1.RIGHT_MLO.png  MLO  RIGHT   \n",
              "4    Benign\\0033\\C_0033_1.LEFT_CC.png    C_0033_1.LEFT_CC.png   CC   LEFT   \n",
              "\n",
              "   Status   Age  Density                          Tumour_Contour  \\\n",
              "0  Benign  66.0        3   Benign\\0029\\C_0029_1.LEFT_CC_Mask.png   \n",
              "1  Benign  66.0        3  Benign\\0029\\C_0029_1.LEFT_MLO_Mask.png   \n",
              "2  Benign  66.0        3                                       -   \n",
              "3  Benign  66.0        3                                       -   \n",
              "4  Benign  60.0        3                                       -   \n",
              "\n",
              "  Tumour_Contour2 Tumour_Contour3 Tumour_Contour4 Tumour_Contour5  \\\n",
              "0               -             NaN             NaN             NaN   \n",
              "1               -             NaN             NaN             NaN   \n",
              "2               -             NaN             NaN             NaN   \n",
              "3               -             NaN             NaN             NaN   \n",
              "4               -             NaN             NaN             NaN   \n",
              "\n",
              "  Tumour_Contour6  \n",
              "0             NaN  \n",
              "1             NaN  \n",
              "2             NaN  \n",
              "3             NaN  \n",
              "4             NaN  "
            ],
            "text/html": [
              "\n",
              "  <div id=\"df-61138c15-4651-4861-9f5b-cca864834561\" class=\"colab-df-container\">\n",
              "    <div>\n",
              "<style scoped>\n",
              "    .dataframe tbody tr th:only-of-type {\n",
              "        vertical-align: middle;\n",
              "    }\n",
              "\n",
              "    .dataframe tbody tr th {\n",
              "        vertical-align: top;\n",
              "    }\n",
              "\n",
              "    .dataframe thead th {\n",
              "        text-align: right;\n",
              "    }\n",
              "</style>\n",
              "<table border=\"1\" class=\"dataframe\">\n",
              "  <thead>\n",
              "    <tr style=\"text-align: right;\">\n",
              "      <th></th>\n",
              "      <th>fullPath</th>\n",
              "      <th>fileName</th>\n",
              "      <th>View</th>\n",
              "      <th>Side</th>\n",
              "      <th>Status</th>\n",
              "      <th>Age</th>\n",
              "      <th>Density</th>\n",
              "      <th>Tumour_Contour</th>\n",
              "      <th>Tumour_Contour2</th>\n",
              "      <th>Tumour_Contour3</th>\n",
              "      <th>Tumour_Contour4</th>\n",
              "      <th>Tumour_Contour5</th>\n",
              "      <th>Tumour_Contour6</th>\n",
              "    </tr>\n",
              "  </thead>\n",
              "  <tbody>\n",
              "    <tr>\n",
              "      <th>0</th>\n",
              "      <td>Benign\\0029\\C_0029_1.LEFT_CC.png</td>\n",
              "      <td>C_0029_1.LEFT_CC.png</td>\n",
              "      <td>CC</td>\n",
              "      <td>LEFT</td>\n",
              "      <td>Benign</td>\n",
              "      <td>66.0</td>\n",
              "      <td>3</td>\n",
              "      <td>Benign\\0029\\C_0029_1.LEFT_CC_Mask.png</td>\n",
              "      <td>-</td>\n",
              "      <td>NaN</td>\n",
              "      <td>NaN</td>\n",
              "      <td>NaN</td>\n",
              "      <td>NaN</td>\n",
              "    </tr>\n",
              "    <tr>\n",
              "      <th>1</th>\n",
              "      <td>Benign\\0029\\C_0029_1.LEFT_MLO.png</td>\n",
              "      <td>C_0029_1.LEFT_MLO.png</td>\n",
              "      <td>MLO</td>\n",
              "      <td>LEFT</td>\n",
              "      <td>Benign</td>\n",
              "      <td>66.0</td>\n",
              "      <td>3</td>\n",
              "      <td>Benign\\0029\\C_0029_1.LEFT_MLO_Mask.png</td>\n",
              "      <td>-</td>\n",
              "      <td>NaN</td>\n",
              "      <td>NaN</td>\n",
              "      <td>NaN</td>\n",
              "      <td>NaN</td>\n",
              "    </tr>\n",
              "    <tr>\n",
              "      <th>2</th>\n",
              "      <td>Benign\\0029\\C_0029_1.RIGHT_CC.png</td>\n",
              "      <td>C_0029_1.RIGHT_CC.png</td>\n",
              "      <td>CC</td>\n",
              "      <td>RIGHT</td>\n",
              "      <td>Benign</td>\n",
              "      <td>66.0</td>\n",
              "      <td>3</td>\n",
              "      <td>-</td>\n",
              "      <td>-</td>\n",
              "      <td>NaN</td>\n",
              "      <td>NaN</td>\n",
              "      <td>NaN</td>\n",
              "      <td>NaN</td>\n",
              "    </tr>\n",
              "    <tr>\n",
              "      <th>3</th>\n",
              "      <td>Benign\\0029\\C_0029_1.RIGHT_MLO.png</td>\n",
              "      <td>C_0029_1.RIGHT_MLO.png</td>\n",
              "      <td>MLO</td>\n",
              "      <td>RIGHT</td>\n",
              "      <td>Benign</td>\n",
              "      <td>66.0</td>\n",
              "      <td>3</td>\n",
              "      <td>-</td>\n",
              "      <td>-</td>\n",
              "      <td>NaN</td>\n",
              "      <td>NaN</td>\n",
              "      <td>NaN</td>\n",
              "      <td>NaN</td>\n",
              "    </tr>\n",
              "    <tr>\n",
              "      <th>4</th>\n",
              "      <td>Benign\\0033\\C_0033_1.LEFT_CC.png</td>\n",
              "      <td>C_0033_1.LEFT_CC.png</td>\n",
              "      <td>CC</td>\n",
              "      <td>LEFT</td>\n",
              "      <td>Benign</td>\n",
              "      <td>60.0</td>\n",
              "      <td>3</td>\n",
              "      <td>-</td>\n",
              "      <td>-</td>\n",
              "      <td>NaN</td>\n",
              "      <td>NaN</td>\n",
              "      <td>NaN</td>\n",
              "      <td>NaN</td>\n",
              "    </tr>\n",
              "  </tbody>\n",
              "</table>\n",
              "</div>\n",
              "    <div class=\"colab-df-buttons\">\n",
              "\n",
              "  <div class=\"colab-df-container\">\n",
              "    <button class=\"colab-df-convert\" onclick=\"convertToInteractive('df-61138c15-4651-4861-9f5b-cca864834561')\"\n",
              "            title=\"Convert this dataframe to an interactive table.\"\n",
              "            style=\"display:none;\">\n",
              "\n",
              "  <svg xmlns=\"http://www.w3.org/2000/svg\" height=\"24px\" viewBox=\"0 -960 960 960\">\n",
              "    <path d=\"M120-120v-720h720v720H120Zm60-500h600v-160H180v160Zm220 220h160v-160H400v160Zm0 220h160v-160H400v160ZM180-400h160v-160H180v160Zm440 0h160v-160H620v160ZM180-180h160v-160H180v160Zm440 0h160v-160H620v160Z\"/>\n",
              "  </svg>\n",
              "    </button>\n",
              "\n",
              "  <style>\n",
              "    .colab-df-container {\n",
              "      display:flex;\n",
              "      gap: 12px;\n",
              "    }\n",
              "\n",
              "    .colab-df-convert {\n",
              "      background-color: #E8F0FE;\n",
              "      border: none;\n",
              "      border-radius: 50%;\n",
              "      cursor: pointer;\n",
              "      display: none;\n",
              "      fill: #1967D2;\n",
              "      height: 32px;\n",
              "      padding: 0 0 0 0;\n",
              "      width: 32px;\n",
              "    }\n",
              "\n",
              "    .colab-df-convert:hover {\n",
              "      background-color: #E2EBFA;\n",
              "      box-shadow: 0px 1px 2px rgba(60, 64, 67, 0.3), 0px 1px 3px 1px rgba(60, 64, 67, 0.15);\n",
              "      fill: #174EA6;\n",
              "    }\n",
              "\n",
              "    .colab-df-buttons div {\n",
              "      margin-bottom: 4px;\n",
              "    }\n",
              "\n",
              "    [theme=dark] .colab-df-convert {\n",
              "      background-color: #3B4455;\n",
              "      fill: #D2E3FC;\n",
              "    }\n",
              "\n",
              "    [theme=dark] .colab-df-convert:hover {\n",
              "      background-color: #434B5C;\n",
              "      box-shadow: 0px 1px 3px 1px rgba(0, 0, 0, 0.15);\n",
              "      filter: drop-shadow(0px 1px 2px rgba(0, 0, 0, 0.3));\n",
              "      fill: #FFFFFF;\n",
              "    }\n",
              "  </style>\n",
              "\n",
              "    <script>\n",
              "      const buttonEl =\n",
              "        document.querySelector('#df-61138c15-4651-4861-9f5b-cca864834561 button.colab-df-convert');\n",
              "      buttonEl.style.display =\n",
              "        google.colab.kernel.accessAllowed ? 'block' : 'none';\n",
              "\n",
              "      async function convertToInteractive(key) {\n",
              "        const element = document.querySelector('#df-61138c15-4651-4861-9f5b-cca864834561');\n",
              "        const dataTable =\n",
              "          await google.colab.kernel.invokeFunction('convertToInteractive',\n",
              "                                                    [key], {});\n",
              "        if (!dataTable) return;\n",
              "\n",
              "        const docLinkHtml = 'Like what you see? Visit the ' +\n",
              "          '<a target=\"_blank\" href=https://colab.research.google.com/notebooks/data_table.ipynb>data table notebook</a>'\n",
              "          + ' to learn more about interactive tables.';\n",
              "        element.innerHTML = '';\n",
              "        dataTable['output_type'] = 'display_data';\n",
              "        await google.colab.output.renderOutput(dataTable, element);\n",
              "        const docLink = document.createElement('div');\n",
              "        docLink.innerHTML = docLinkHtml;\n",
              "        element.appendChild(docLink);\n",
              "      }\n",
              "    </script>\n",
              "  </div>\n",
              "\n",
              "\n",
              "<div id=\"df-6f6d171b-e18b-451d-82ab-ceb9c0f5fe1b\">\n",
              "  <button class=\"colab-df-quickchart\" onclick=\"quickchart('df-6f6d171b-e18b-451d-82ab-ceb9c0f5fe1b')\"\n",
              "            title=\"Suggest charts\"\n",
              "            style=\"display:none;\">\n",
              "\n",
              "<svg xmlns=\"http://www.w3.org/2000/svg\" height=\"24px\"viewBox=\"0 0 24 24\"\n",
              "     width=\"24px\">\n",
              "    <g>\n",
              "        <path d=\"M19 3H5c-1.1 0-2 .9-2 2v14c0 1.1.9 2 2 2h14c1.1 0 2-.9 2-2V5c0-1.1-.9-2-2-2zM9 17H7v-7h2v7zm4 0h-2V7h2v10zm4 0h-2v-4h2v4z\"/>\n",
              "    </g>\n",
              "</svg>\n",
              "  </button>\n",
              "\n",
              "<style>\n",
              "  .colab-df-quickchart {\n",
              "      --bg-color: #E8F0FE;\n",
              "      --fill-color: #1967D2;\n",
              "      --hover-bg-color: #E2EBFA;\n",
              "      --hover-fill-color: #174EA6;\n",
              "      --disabled-fill-color: #AAA;\n",
              "      --disabled-bg-color: #DDD;\n",
              "  }\n",
              "\n",
              "  [theme=dark] .colab-df-quickchart {\n",
              "      --bg-color: #3B4455;\n",
              "      --fill-color: #D2E3FC;\n",
              "      --hover-bg-color: #434B5C;\n",
              "      --hover-fill-color: #FFFFFF;\n",
              "      --disabled-bg-color: #3B4455;\n",
              "      --disabled-fill-color: #666;\n",
              "  }\n",
              "\n",
              "  .colab-df-quickchart {\n",
              "    background-color: var(--bg-color);\n",
              "    border: none;\n",
              "    border-radius: 50%;\n",
              "    cursor: pointer;\n",
              "    display: none;\n",
              "    fill: var(--fill-color);\n",
              "    height: 32px;\n",
              "    padding: 0;\n",
              "    width: 32px;\n",
              "  }\n",
              "\n",
              "  .colab-df-quickchart:hover {\n",
              "    background-color: var(--hover-bg-color);\n",
              "    box-shadow: 0 1px 2px rgba(60, 64, 67, 0.3), 0 1px 3px 1px rgba(60, 64, 67, 0.15);\n",
              "    fill: var(--button-hover-fill-color);\n",
              "  }\n",
              "\n",
              "  .colab-df-quickchart-complete:disabled,\n",
              "  .colab-df-quickchart-complete:disabled:hover {\n",
              "    background-color: var(--disabled-bg-color);\n",
              "    fill: var(--disabled-fill-color);\n",
              "    box-shadow: none;\n",
              "  }\n",
              "\n",
              "  .colab-df-spinner {\n",
              "    border: 2px solid var(--fill-color);\n",
              "    border-color: transparent;\n",
              "    border-bottom-color: var(--fill-color);\n",
              "    animation:\n",
              "      spin 1s steps(1) infinite;\n",
              "  }\n",
              "\n",
              "  @keyframes spin {\n",
              "    0% {\n",
              "      border-color: transparent;\n",
              "      border-bottom-color: var(--fill-color);\n",
              "      border-left-color: var(--fill-color);\n",
              "    }\n",
              "    20% {\n",
              "      border-color: transparent;\n",
              "      border-left-color: var(--fill-color);\n",
              "      border-top-color: var(--fill-color);\n",
              "    }\n",
              "    30% {\n",
              "      border-color: transparent;\n",
              "      border-left-color: var(--fill-color);\n",
              "      border-top-color: var(--fill-color);\n",
              "      border-right-color: var(--fill-color);\n",
              "    }\n",
              "    40% {\n",
              "      border-color: transparent;\n",
              "      border-right-color: var(--fill-color);\n",
              "      border-top-color: var(--fill-color);\n",
              "    }\n",
              "    60% {\n",
              "      border-color: transparent;\n",
              "      border-right-color: var(--fill-color);\n",
              "    }\n",
              "    80% {\n",
              "      border-color: transparent;\n",
              "      border-right-color: var(--fill-color);\n",
              "      border-bottom-color: var(--fill-color);\n",
              "    }\n",
              "    90% {\n",
              "      border-color: transparent;\n",
              "      border-bottom-color: var(--fill-color);\n",
              "    }\n",
              "  }\n",
              "</style>\n",
              "\n",
              "  <script>\n",
              "    async function quickchart(key) {\n",
              "      const quickchartButtonEl =\n",
              "        document.querySelector('#' + key + ' button');\n",
              "      quickchartButtonEl.disabled = true;  // To prevent multiple clicks.\n",
              "      quickchartButtonEl.classList.add('colab-df-spinner');\n",
              "      try {\n",
              "        const charts = await google.colab.kernel.invokeFunction(\n",
              "            'suggestCharts', [key], {});\n",
              "      } catch (error) {\n",
              "        console.error('Error during call to suggestCharts:', error);\n",
              "      }\n",
              "      quickchartButtonEl.classList.remove('colab-df-spinner');\n",
              "      quickchartButtonEl.classList.add('colab-df-quickchart-complete');\n",
              "    }\n",
              "    (() => {\n",
              "      let quickchartButtonEl =\n",
              "        document.querySelector('#df-6f6d171b-e18b-451d-82ab-ceb9c0f5fe1b button');\n",
              "      quickchartButtonEl.style.display =\n",
              "        google.colab.kernel.accessAllowed ? 'block' : 'none';\n",
              "    })();\n",
              "  </script>\n",
              "</div>\n",
              "\n",
              "    </div>\n",
              "  </div>\n"
            ],
            "application/vnd.google.colaboratory.intrinsic+json": {
              "type": "dataframe",
              "variable_name": "dicom_data",
              "summary": "{\n  \"name\": \"dicom_data\",\n  \"rows\": 7808,\n  \"fields\": [\n    {\n      \"column\": \"fullPath\",\n      \"properties\": {\n        \"dtype\": \"string\",\n        \"num_unique_values\": 7808,\n        \"samples\": [\n          \"Cancer\\\\1624\\\\A_1624_1.LEFT_MLO.png\",\n          \"Normal\\\\2038\\\\A_2038_1.RIGHT_CC.png\",\n          \"Normal\\\\0268\\\\A_0268_1.LEFT_CC.png\"\n        ],\n        \"semantic_type\": \"\",\n        \"description\": \"\"\n      }\n    },\n    {\n      \"column\": \"fileName\",\n      \"properties\": {\n        \"dtype\": \"string\",\n        \"num_unique_values\": 7808,\n        \"samples\": [\n          \"A_1624_1.LEFT_MLO.png\",\n          \"A_2038_1.RIGHT_CC.png\",\n          \"A_0268_1.LEFT_CC.png\"\n        ],\n        \"semantic_type\": \"\",\n        \"description\": \"\"\n      }\n    },\n    {\n      \"column\": \"View\",\n      \"properties\": {\n        \"dtype\": \"category\",\n        \"num_unique_values\": 2,\n        \"samples\": [\n          \"MLO\",\n          \"CC\"\n        ],\n        \"semantic_type\": \"\",\n        \"description\": \"\"\n      }\n    },\n    {\n      \"column\": \"Side\",\n      \"properties\": {\n        \"dtype\": \"category\",\n        \"num_unique_values\": 2,\n        \"samples\": [\n          \"RIGHT\",\n          \"LEFT\"\n        ],\n        \"semantic_type\": \"\",\n        \"description\": \"\"\n      }\n    },\n    {\n      \"column\": \"Status\",\n      \"properties\": {\n        \"dtype\": \"category\",\n        \"num_unique_values\": 3,\n        \"samples\": [\n          \"Benign\",\n          \"Cancer\"\n        ],\n        \"semantic_type\": \"\",\n        \"description\": \"\"\n      }\n    },\n    {\n      \"column\": \"Age\",\n      \"properties\": {\n        \"dtype\": \"number\",\n        \"std\": 12.671803425873724,\n        \"min\": 27.0,\n        \"max\": 89.0,\n        \"num_unique_values\": 61,\n        \"samples\": [\n          66.0,\n          67.0\n        ],\n        \"semantic_type\": \"\",\n        \"description\": \"\"\n      }\n    },\n    {\n      \"column\": \"Density\",\n      \"properties\": {\n        \"dtype\": \"number\",\n        \"std\": 0,\n        \"min\": 0,\n        \"max\": 4,\n        \"num_unique_values\": 5,\n        \"samples\": [\n          2,\n          0\n        ],\n        \"semantic_type\": \"\",\n        \"description\": \"\"\n      }\n    },\n    {\n      \"column\": \"Tumour_Contour\",\n      \"properties\": {\n        \"dtype\": \"category\",\n        \"num_unique_values\": 2831,\n        \"samples\": [\n          \"Cancer\\\\1640\\\\A_1640_1.RIGHT_CC_Mask.png\",\n          \"Benign\\\\4052\\\\D_4052_1.RIGHT_MLO_Mask.png\"\n        ],\n        \"semantic_type\": \"\",\n        \"description\": \"\"\n      }\n    },\n    {\n      \"column\": \"Tumour_Contour2\",\n      \"properties\": {\n        \"dtype\": \"category\",\n        \"num_unique_values\": 235,\n        \"samples\": [\n          \"Benign\\\\3165\\\\B_3165_1.LEFT_CC_MASK2.png\",\n          \"Cancer\\\\3371\\\\B_3371_1.LEFT_MLO_MASK2.png\"\n        ],\n        \"semantic_type\": \"\",\n        \"description\": \"\"\n      }\n    },\n    {\n      \"column\": \"Tumour_Contour3\",\n      \"properties\": {\n        \"dtype\": \"category\",\n        \"num_unique_values\": 50,\n        \"samples\": [\n          \"Benign\\\\1917\\\\A_1917_1.RIGHT_CC_Mask3.png\",\n          \"Cancer\\\\3052\\\\B_3052_1.LEFT_MLO_Mask3.png\"\n        ],\n        \"semantic_type\": \"\",\n        \"description\": \"\"\n      }\n    },\n    {\n      \"column\": \"Tumour_Contour4\",\n      \"properties\": {\n        \"dtype\": \"category\",\n        \"num_unique_values\": 8,\n        \"samples\": [\n          \"Benign\\\\0364\\\\C_0364_1.LEFT_MLO_Mask4.png\",\n          \"Cancer\\\\3025\\\\B_3025_1.RIGHT_MLO_Mask4.png\"\n        ],\n        \"semantic_type\": \"\",\n        \"description\": \"\"\n      }\n    },\n    {\n      \"column\": \"Tumour_Contour5\",\n      \"properties\": {\n        \"dtype\": \"category\",\n        \"num_unique_values\": 2,\n        \"samples\": [\n          \"Cancer\\\\3029\\\\B_3029_1.LEFT_MLO_Mask5.png\",\n          \"Cancer\\\\0078\\\\C_0078_1.LEFT_CC_Mask5.png\"\n        ],\n        \"semantic_type\": \"\",\n        \"description\": \"\"\n      }\n    },\n    {\n      \"column\": \"Tumour_Contour6\",\n      \"properties\": {\n        \"dtype\": \"category\",\n        \"num_unique_values\": 2,\n        \"samples\": [\n          \"Cancer\\\\0025\\\\C_0025_1.RIGHT_MLO_Mask6.png\",\n          \"Cancer\\\\0025\\\\C_0025_1.RIGHT_CC_Mask6.png\"\n        ],\n        \"semantic_type\": \"\",\n        \"description\": \"\"\n      }\n    }\n  ]\n}"
            }
          },
          "metadata": {},
          "execution_count": 22
        }
      ]
    },
    {
      "source": [
        "# title Status\n",
        "\n",
        "from matplotlib import pyplot as plt\n",
        "import seaborn as sns\n",
        "dicom_data.groupby('Status').size().plot(kind='barh', color=sns.palettes.mpl_palette('Dark2'))\n",
        "plt.gca().spines[['top', 'right',]].set_visible(False)"
      ],
      "cell_type": "code",
      "execution_count": 23,
      "outputs": [
        {
          "output_type": "display_data",
          "data": {
            "text/plain": [
              "<Figure size 640x480 with 1 Axes>"
            ],
            "image/png": "[encoded data removed]"
          },
          "metadata": {}
        }
      ],
      "metadata": {
        "colab": {
          "base_uri": "https://localhost:8080/",
          "height": 430
        },
        "id": "BDxKcEtrjuJb",
        "outputId": "d62393ad-0609-4a4e-9938-ab7d9131619c"
      }
    },
    {
      "cell_type": "code",
      "source": [
        "def Normalization(image):\n",
        "  normalized_image = (image - image.min()) / (image.max() - image.min())\n",
        "  return normalized_image"
      ],
      "metadata": {
        "id": "eW-CUjD7j1T4"
      },
      "execution_count": 24,
      "outputs": []
    },
    {
      "cell_type": "code",
      "source": [
        "cancer ="
      ],
      "metadata": {
        "id": "kPFmXWqckO7M"
      },
      "execution_count": null,
      "outputs": []
    }
  ]
}