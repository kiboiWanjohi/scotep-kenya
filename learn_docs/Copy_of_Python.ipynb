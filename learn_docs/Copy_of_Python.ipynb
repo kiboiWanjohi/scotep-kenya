{
  "nbformat": 4,
  "nbformat_minor": 0,
  "metadata": {
    "colab": {
      "provenance": [],
      "toc_visible": true,
      "include_colab_link": true
    },
    "kernelspec": {
      "display_name": "Python 3",
      "name": "python3"
    },
    "language_info": {
      "name": "python"
    }
  },
  "cells": [
    {
      "cell_type": "markdown",
      "metadata": {
        "id": "view-in-github",
        "colab_type": "text"
      },
      "source": [
        "<a href=\"https://colab.research.google.com/github/kiboiWanjohi/scotep-kenya/blob/main/Copy_of_Python.ipynb\" target=\"_parent\"><img src=\"https://colab.research.google.com/assets/colab-badge.svg\" alt=\"Open In Colab\"/></a>"
      ]
    },
    {
      "cell_type": "markdown",
      "metadata": {
        "id": "f9SK8j8FmCYZ"
      },
      "source": [
        "<font color='red'>$\\Huge{\\textbf{School of Computational Techniques}}$\n",
        "$\\Huge{\\textbf{for Physics Students in Kenya}}$\n",
        "\n",
        "$\\Huge{\\text{Introduction to Python}}$\n",
        "\n",
        "Lorenzo Capriotti,\n",
        "Livingstone Ochilo,\n",
        "Kiplabat Tarus"
      ]
    },
    {
      "cell_type": "markdown",
      "source": [
        "# <font color='red'>**Basic operations and variables**\n"
      ],
      "metadata": {
        "id": "9dApNpZVDmKo"
      }
    },
    {
      "cell_type": "markdown",
      "metadata": {
        "id": "u1vgXX8lUoLf"
      },
      "source": [
        "##**Integer and decimal numbers**\n",
        "\n",
        "We start this course with a simple introduction to the basics of programming through a simple yet powerful programming language: [Python](https://www.python.org/).\n",
        "\n",
        "Python is one of the most widely used programming languages in the world, due to its very intuitive syntax and to a large number of external libraries built by its massive community. There are several examples online and almost always you will find an answer to your question with a quick Google search; however, if you have any questions, you are always welcome to ask.\n",
        "\n",
        "Let us start with the basic commands. Starting from now, we will execute code commands and mathematical operations through *command lines* as the one you can see here below. Pressing the *play* button in the top left corner of the code cell or the button combination `shift+Enter` you will be able to execute the commands which you will write in the *command line*.\n",
        "\n",
        "\n",
        "---\n",
        "\n"
      ]
    },
    {
      "cell_type": "code",
      "metadata": {
        "id": "p_0R4MGLVjyX",
        "colab": {
          "base_uri": "https://localhost:8080/"
        },
        "outputId": "9dbfe41e-8fa3-48b8-b83c-9b7108b3c09d"
      },
      "source": [
        "#As a first command let us start with the simplest thing: a sum of two numbers. Notice that this is a comment and it\n",
        "#is not executed by the command line.\n",
        "#All the lines starting with the symbol # are not considered as executable code and will be ignored.\n",
        "2+3"
      ],
      "execution_count": null,
      "outputs": [
        {
          "output_type": "execute_result",
          "data": {
            "text/plain": [
              "5"
            ]
          },
          "metadata": {},
          "execution_count": 1
        }
      ]
    },
    {
      "cell_type": "markdown",
      "metadata": {
        "id": "n76pEpQjV8yv"
      },
      "source": [
        "---\n",
        "As you can see below, it is extremely easy also to execute more complex operations.\n",
        "\n",
        "**N.B.:** Remember that the Python *command line* follows the usual order of mathematical operations, so the result of the operation:\n",
        "\n",
        "\n",
        "---"
      ]
    },
    {
      "cell_type": "code",
      "metadata": {
        "id": "u61rlDtiWBtO",
        "colab": {
          "base_uri": "https://localhost:8080/"
        },
        "outputId": "fc66c1ae-67ab-47b8-f42b-4b5c5b9d315e"
      },
      "source": [
        "(2+3)*4/2"
      ],
      "execution_count": null,
      "outputs": [
        {
          "output_type": "execute_result",
          "data": {
            "text/plain": [
              "10.0"
            ]
          },
          "metadata": {},
          "execution_count": 2
        }
      ]
    },
    {
      "cell_type": "markdown",
      "metadata": {
        "id": "3fVZbKZSUDaf"
      },
      "source": [
        "is different from the result of the operation:\n",
        "\n",
        "---"
      ]
    },
    {
      "cell_type": "code",
      "metadata": {
        "id": "wrDktAoVUH3v",
        "colab": {
          "base_uri": "https://localhost:8080/"
        },
        "outputId": "f7db474e-1cf7-4103-ab4a-8331a896232a"
      },
      "source": [
        "2+3*4/2"
      ],
      "execution_count": null,
      "outputs": [
        {
          "output_type": "execute_result",
          "data": {
            "text/plain": [
              "8.0"
            ]
          },
          "metadata": {},
          "execution_count": 3
        }
      ]
    },
    {
      "cell_type": "markdown",
      "metadata": {
        "id": "r48MKNlkWX7B"
      },
      "source": [
        "---\n",
        "\n",
        "Of course, it is possible to execute more complex operations as square roots and much more; however, in order to do so, it is necessary to import the corresponding *modules*. Think of the *modules* as containers of functions which you will be able to use once these containers have been imported in the *command line*.\n",
        "For instance, the vast majority of mathematical operations can be found in the module called `math`. Let us try to import the square root function from the `math` module.\n",
        "\n",
        "**N.B.:** To execute commands in succession you can just write them in different lines. To start a new line you can simply press `Enter`.\n",
        "\n",
        "\n",
        "---"
      ]
    },
    {
      "cell_type": "code",
      "metadata": {
        "id": "BaTM6ArGWiL8",
        "colab": {
          "base_uri": "https://localhost:8080/"
        },
        "outputId": "0041f691-1f6b-49a1-b2b9-93fdda049b78"
      },
      "source": [
        "#importing the square root from the math module\n",
        "from math import *\n",
        "#let's go!\n",
        "sqrt(2)"
      ],
      "execution_count": null,
      "outputs": [
        {
          "output_type": "execute_result",
          "data": {
            "text/plain": [
              "1.4142135623730951"
            ]
          },
          "metadata": {},
          "execution_count": 6
        }
      ]
    },
    {
      "cell_type": "markdown",
      "metadata": {
        "id": "1H9no6YbXR6Q"
      },
      "source": [
        "---\n",
        "\n",
        "As you can see it is extremely easy. The square root operator is a function: if is defined by a specific name - sqrt - and is followed by brackets that contain the operand. We will see many other functions in the future and you can also write your own!\n",
        "\n",
        "We can also import all mathematical operations in a single line by executing the following:\n",
        "\n",
        "\n",
        "\n",
        "---"
      ]
    },
    {
      "cell_type": "code",
      "metadata": {
        "id": "Gsu5f0ceXEmr",
        "colab": {
          "base_uri": "https://localhost:8080/"
        },
        "outputId": "72439a89-f935-49c8-dc12-2d0e2634c388"
      },
      "source": [
        "#in most modern programming languages, the symbol '*' can often be used as a wild card\n",
        "#to mean \"everything\"\n",
        "from math import *\n",
        "#log is the natural logarithm\n",
        "sqrt(2)*log(3)"
      ],
      "execution_count": null,
      "outputs": [
        {
          "output_type": "execute_result",
          "data": {
            "text/plain": [
              "1.5536723984241867"
            ]
          },
          "metadata": {},
          "execution_count": 7
        }
      ]
    },
    {
      "cell_type": "markdown",
      "metadata": {
        "id": "RPLxPuPjXgFB"
      },
      "source": [
        "---\n",
        "\n",
        "The exponentiation operation has a peculiar syntax: the first number represents the base, and the second one the exponent. They are separated by two `**`.\n",
        "\n",
        "\n",
        "---"
      ]
    },
    {
      "cell_type": "code",
      "metadata": {
        "id": "RxLCJlXoXlpV",
        "colab": {
          "base_uri": "https://localhost:8080/"
        },
        "outputId": "af0fc828-2a15-4228-a5f5-ddaf56f0c946"
      },
      "source": [
        "10**5 ##same as 10*10"
      ],
      "execution_count": null,
      "outputs": [
        {
          "output_type": "execute_result",
          "data": {
            "text/plain": [
              "100000"
            ]
          },
          "metadata": {},
          "execution_count": 9
        }
      ]
    },
    {
      "cell_type": "markdown",
      "metadata": {
        "id": "lpiGP3rcX6zp"
      },
      "source": [
        "---\n",
        "\n",
        "We will import and use other very useful modules later.\n",
        "\n",
        "As in most programming languages, you can assign a value to a given *variable* instead of writing the numbers directly in the command line.\n",
        "\n",
        "\n",
        "---"
      ]
    },
    {
      "cell_type": "code",
      "metadata": {
        "id": "XL512pKmYE3_",
        "colab": {
          "base_uri": "https://localhost:8080/"
        },
        "outputId": "9fd9bd9e-8ef7-4eda-b48d-3d97aa564d6e"
      },
      "source": [
        "a=2\n",
        "b=3\n",
        "a+b"
      ],
      "execution_count": null,
      "outputs": [
        {
          "output_type": "execute_result",
          "data": {
            "text/plain": [
              "5"
            ]
          },
          "metadata": {},
          "execution_count": 10
        }
      ]
    },
    {
      "cell_type": "markdown",
      "metadata": {
        "id": "91cmvTv8YMi0"
      },
      "source": [
        "---\n",
        "\n",
        "Changing a variable in a subsequent cell will change the result accordingly. Everything that has been executed before this cell is in memory, especially allocated variables.  \n",
        "\n",
        "\n",
        "---"
      ]
    },
    {
      "cell_type": "code",
      "metadata": {
        "id": "SbiLWYXuYVpM",
        "colab": {
          "base_uri": "https://localhost:8080/"
        },
        "outputId": "78f7f1ed-f739-47d3-a013-5719d923fd02"
      },
      "source": [
        "a=5 #now a is equal to 5 and not to 2 anymore\n",
        "a+b"
      ],
      "execution_count": null,
      "outputs": [
        {
          "output_type": "execute_result",
          "data": {
            "text/plain": [
              "8"
            ]
          },
          "metadata": {},
          "execution_count": 11
        }
      ]
    },
    {
      "cell_type": "markdown",
      "metadata": {
        "id": "p9lHYCMJZKI9"
      },
      "source": [
        "---\n",
        "\n",
        "\n",
        "You can also assign the result of a complicated expression as a variable.\n",
        "\n",
        "\n",
        "---"
      ]
    },
    {
      "cell_type": "code",
      "metadata": {
        "id": "uRLGU6GbZrYB",
        "colab": {
          "base_uri": "https://localhost:8080/"
        },
        "outputId": "cbcc43a2-a5e6-49db-e844-0d7a8475416f"
      },
      "source": [
        "# find the solutions of the equation ax**2 + bx + c = 0\n",
        "a = 11\n",
        "b = -77\n",
        "c = -17\n",
        "pos = (-b + sqrt(b*b - 4*a*c))/(2*a)\n",
        "neg = (-b - sqrt(b*b - 4*a*c))/(2*a)\n"
      ],
      "execution_count": null,
      "outputs": [
        {
          "output_type": "execute_result",
          "data": {
            "text/plain": [
              "-0.21422327619847695"
            ]
          },
          "metadata": {},
          "execution_count": 14
        }
      ]
    },
    {
      "cell_type": "markdown",
      "source": [
        "##**Strings and the print function**"
      ],
      "metadata": {
        "id": "1PHRrHA-D09R"
      }
    },
    {
      "cell_type": "markdown",
      "source": [
        "\n",
        "The variables in Python can be of different `types`. Here is the list of all the data types which are built-in in Python:\n",
        "\n",
        "```\n",
        "Text Type:\t     str\n",
        "Numeric Types:\t int, float, complex\n",
        "Sequence Types:\tlist, tuple, range\n",
        "Mapping Type:\t  dict\n",
        "Set Types:\t     set, frozenset\n",
        "Boolean Type:\t  bool\n",
        "Binary Types:  \tbytes, bytearray, memoryview\n",
        "None Type:    \t NoneType\n",
        "```\n",
        "\n",
        "We have already encounter integer numbers (`int`) and decimal or floating numbers (`float`). We will encounter a few other of them during these lectures.\n",
        "\n",
        "Variables of the same `type` can be manipulated together, while for variables of different `type` this is not always true. For instance, you can add two `int`, you can add two `float`, you can add two `str`. You can even add an `int` and a `float` because Python will automatically convert the integer number to a floating number (so the result will be a `float`). But you cannot add a `str` and an `int` or a `str` and a `float`. Many other combinations are allowed and many other are not allowed.\n",
        "\n",
        "\n"
      ],
      "metadata": {
        "id": "hfovXYF-mYxE"
      }
    },
    {
      "cell_type": "markdown",
      "metadata": {
        "id": "EA-XAvXEaj5J"
      },
      "source": [
        "---\n",
        "\n",
        "Let's go back to the variables. You can also assign an alphanumeric character, or several alphanumeric characters - aka words or sentences - to a variable. These are called strings.\n",
        "\n",
        "\n",
        "---"
      ]
    },
    {
      "cell_type": "code",
      "source": [
        "#characters or strings must be defined within a pair of quotation marks \"...\" or apices '...'\n",
        "#there is no difference between the two methods, you can choose whatever you prefer!\n",
        "st1 = \"this is a string\"\n",
        "st2 = 'this is a string'\n",
        "#in this example, st1 and st2 are two different variables with the same content"
      ],
      "metadata": {
        "id": "XQmznLsbMVpH"
      },
      "execution_count": null,
      "outputs": []
    },
    {
      "cell_type": "markdown",
      "source": [
        "---\n",
        "\n",
        "Let's now introduce another useful function: the `print` function. It is already built in Python so you do not need to import any module in order to use it. This is used to print a number, a character or a string of characters on the screen. If you want to print alphabetic characters they have to be contained within a pair of `\"\"` or `''` symbols. So for instance:\n",
        "\n",
        "\n",
        "---"
      ],
      "metadata": {
        "id": "hlGzI6DAMVec"
      }
    },
    {
      "cell_type": "code",
      "source": [
        "#print(23)\n",
        "#print(5.5)\n",
        "#print(\"5.5\")\n",
        "#print(\"wow!\")\n",
        "#print('brilliant!')\n",
        "#print(\"how about \\nstarting a new line?\") #\\n is a special symbol that means \"start a new line\"\n",
        "#print(\"yuresxdrutyburvd\")\n",
        "#print(\"\\n\")\n",
        "#print(\"kpijomuhniuyfxxe\")\n",
        "#if you want to print special symbols, like \" or \\n, you can use two methods:\n",
        "#either use the \\ symbol before the special symbol, or put an \"r\" before the string you want to print\n",
        "print(\"New line\\nhere, no new line\\\\n here\")\n",
        "print(r\"Anything in here will be printed, like \\, \\\\, \\n, \\\" \")"
      ],
      "metadata": {
        "colab": {
          "base_uri": "https://localhost:8080/"
        },
        "id": "A_JHJ9EJrLYl",
        "outputId": "0743ea55-cc27-4a0e-a227-036d0ecfcf89"
      },
      "execution_count": null,
      "outputs": [
        {
          "output_type": "stream",
          "name": "stdout",
          "text": [
            "New line\n",
            "here, no new line\\n here\n",
            "Anything in here will be printed, like \\, \\\\, \\n, \\\" \n"
          ]
        }
      ]
    },
    {
      "cell_type": "markdown",
      "source": [
        "---\n",
        "\n",
        "In the command line below we will print two lines, one with the positive solution and one with the negative solution that we found before. The `%f` symbols are placeholders for float numbers and they will be substituted by the value of the variables `pos` and `neg` (following the order with which they are written between parentheses).\n",
        "\n",
        "---"
      ],
      "metadata": {
        "id": "TO0AO43irL2W"
      }
    },
    {
      "cell_type": "code",
      "metadata": {
        "id": "q--fT6uyatvW",
        "colab": {
          "base_uri": "https://localhost:8080/"
        },
        "outputId": "cfb2134b-5bbb-4322-d3e9-d9376ae89f8a"
      },
      "source": [
        "print(\"Positive solution: %f \\nNegative solution: %f\" % (pos, neg))"
      ],
      "execution_count": null,
      "outputs": [
        {
          "output_type": "stream",
          "name": "stdout",
          "text": [
            "Positive solution: 7.214223 \n",
            "Negative solution: -0.214223\n"
          ]
        }
      ]
    },
    {
      "cell_type": "markdown",
      "metadata": {
        "id": "oT9myE1LcEZI"
      },
      "source": [
        "---\n",
        "\n",
        "As we already said before, Python variables can contain much more than simple numbers. For instance, we can assign a string of characters - the placeholder symbol in this case becomes `%s`.\n",
        "\n",
        "\n",
        "---"
      ]
    },
    {
      "cell_type": "code",
      "metadata": {
        "id": "w11egXULcNPa",
        "colab": {
          "base_uri": "https://localhost:8080/"
        },
        "outputId": "7d646ca4-9b1c-4c21-cccf-25dbbcb5397d"
      },
      "source": [
        "a = 'What a'\n",
        "b = 'nice day!'\n",
        "print(\"%s %s\" % (a,b))\n",
        "#remember that the order is important!\n",
        "print(\"\\n\")\n",
        "print(\"%s %s\" % (b,a))"
      ],
      "execution_count": null,
      "outputs": [
        {
          "output_type": "stream",
          "name": "stdout",
          "text": [
            "What a nice day!\n",
            "\n",
            "\n",
            "nice day! What a\n"
          ]
        }
      ]
    },
    {
      "cell_type": "markdown",
      "metadata": {
        "id": "DurkEujrcZeQ"
      },
      "source": [
        "---\n",
        "\n",
        "We can execute operations between character strings. In the following, the placeholders `%s` are substituted with the sum of the strings `a` and `b` in the first case, and in the sum of the strings `a` and `c` in the second case.\n",
        "\n",
        "\n",
        "---"
      ]
    },
    {
      "cell_type": "code",
      "metadata": {
        "id": "NgVEqlLFcd5u",
        "colab": {
          "base_uri": "https://localhost:8080/"
        },
        "outputId": "945ef38c-f790-4ebe-8718-b058c76c5937"
      },
      "source": [
        "a = 'My favourite film is '\n",
        "b = 'Jurassic Park!'\n",
        "c = 'Casablanca!'\n",
        "print(\"%s \\n%s\" % (a+b, a+c))"
      ],
      "execution_count": null,
      "outputs": [
        {
          "output_type": "stream",
          "name": "stdout",
          "text": [
            "Jurassic Park!My favourite film is  \n",
            "My favourite film is Casablanca!\n"
          ]
        }
      ]
    },
    {
      "cell_type": "markdown",
      "metadata": {
        "id": "60rhWbmedAiA"
      },
      "source": [
        "---\n",
        "\n",
        "Many more operations are possible with the strings. For instance, we can select single characters from a string through their position within the string itself. We will see more in the next sections.\n",
        "\n",
        "---"
      ]
    },
    {
      "cell_type": "markdown",
      "source": [
        "# <font color='red'>**Lists and dictionaries**\n"
      ],
      "metadata": {
        "id": "q7LGn3I8FGZ8"
      }
    },
    {
      "cell_type": "markdown",
      "source": [
        "##**Lists and tuples**\n",
        "\n",
        "Lists in Python are very powerful and versatile objects. They are basically containers of several ordered objects that can be accessed by their positional index. As with several programming languages, the first object of a list has positional index 0.\n",
        "\n",
        "---"
      ],
      "metadata": {
        "id": "pX6KZ9Nw0Boj"
      }
    },
    {
      "cell_type": "code",
      "source": [
        "the_list = ['This', 'list', 'contains', 'five', 'elements']\n",
        "print(\"From the beginning: %s %s %s\\n\" % (the_list[0], the_list[2],the_list[4]))\n",
        "##We can also access the elements of the list backwards, starting from the end\n",
        "print(\"From the end: %s %s %s\\n\" % (the_list[-1], the_list[-3], the_list[-5]))\n",
        "print(the_list[1])"
      ],
      "metadata": {
        "colab": {
          "base_uri": "https://localhost:8080/"
        },
        "id": "JQdAUz_4HTqh",
        "outputId": "bb9e0907-2ee7-4b31-80e1-edeec9a6a0f9"
      },
      "execution_count": null,
      "outputs": [
        {
          "output_type": "stream",
          "name": "stdout",
          "text": [
            "From the beginning: This contains elements\n",
            "\n",
            "From the end: elements contains This\n",
            "\n",
            "list\n"
          ]
        }
      ]
    },
    {
      "cell_type": "markdown",
      "source": [
        "---\n",
        "\n",
        "Lists support also another operation called slicing: it consists of selecting all the elements of a list in an user-defined interval, instead of selecting them one by one with their indices.\n",
        "\n",
        "---"
      ],
      "metadata": {
        "id": "BjMGgL8bH0nh"
      }
    },
    {
      "cell_type": "code",
      "source": [
        "list_redux = the_list[0:2] #select all elements from index 0 (included) to index 2 (excluded)\n",
        "print(list_redux)\n",
        "list_redux = the_list[2:] #select all elements from index 2 (included) onwards\n",
        "print(list_redux)\n",
        "list_redux = the_list[:2] #select all elements up to index 2 (excluded)\n",
        "print(list_redux)"
      ],
      "metadata": {
        "id": "jeZFJREqHx6I",
        "colab": {
          "base_uri": "https://localhost:8080/"
        },
        "outputId": "835d9d9a-e530-4dbd-eb3f-eed2049fa271"
      },
      "execution_count": null,
      "outputs": [
        {
          "output_type": "stream",
          "name": "stdout",
          "text": [
            "['This', 'list']\n",
            "['contains', 'five', 'elements']\n",
            "['This', 'list']\n"
          ]
        }
      ]
    },
    {
      "cell_type": "markdown",
      "source": [
        "---\n",
        "\n",
        "In Python, a string of characters is in fact a list, so all operations that work on lists will also work on strings. Let's have a look!\n",
        "\n",
        "---"
      ],
      "metadata": {
        "id": "pFzcXPX-IBLl"
      }
    },
    {
      "cell_type": "code",
      "source": [
        "the_string = \"Welcome to Nairobi\"\n",
        "print(\"First letter: \" + the_string[0])\n",
        "print(\"Two consecutive letters: \" + the_string[4] + the_string[5])\n",
        "print(\"All characters from the 12th onwards: \" + the_string[11:])\n",
        "\n",
        "kenya_cities = [\"Nairobi\", \"Mombasa\", \"Nakuru\", \"Ruiru\", \"Eldoret\"]\n",
        "city = kenya_cities[1]\n",
        "print(city)\n",
        "print(city[4])\n",
        "print(kenya_cities[1][4])\n"
      ],
      "metadata": {
        "id": "W4YV2L_hLuKU",
        "colab": {
          "base_uri": "https://localhost:8080/"
        },
        "outputId": "7e69bf25-c546-4d40-975f-236e71cb7402"
      },
      "execution_count": null,
      "outputs": [
        {
          "output_type": "stream",
          "name": "stdout",
          "text": [
            "First letter: W\n",
            "Two consecutive letters: om\n",
            "All characters from the 12th onwards: Nairobi\n",
            "Mombasa\n",
            "a\n",
            "a\n"
          ]
        }
      ]
    },
    {
      "cell_type": "markdown",
      "source": [
        "---\n",
        "\n",
        "Let's have a look at other operations that can be done with lists.\n",
        "\n",
        "\n",
        "---"
      ],
      "metadata": {
        "id": "eqIEGCytVfYJ"
      }
    },
    {
      "cell_type": "code",
      "source": [
        "animals = ['dog', 'cat', 'goldfish', 'tiger']\n",
        "print(animals)\n",
        "\n",
        "#lists and many other objects in python have so-called methods associated to them\n",
        "#methods are functions that ‘belong’ to an object and are defined within the specific data types\n",
        "#for example, the data type 'list' contains several methods: let's have a look at some of them\n",
        "#NB: sometimes different data types have methods with the same name, so context is important\n",
        "\n",
        "animals.append(\"penguin\") #append method: adds the element to the end of the list\n",
        "print(animals)\n",
        "\n",
        "animals.sort() #sort method: sorts the elements of the list\n",
        "print(animals)\n",
        "\n",
        "#instead of using the append method, one can also use the \"+\" symbol to add two lists\n",
        "more_animals = animals + [\"elephant\"]\n",
        "print(more_animals)\n",
        "\n",
        "colours = [\"red\", \"blue\", \"yellow\"]\n",
        "mix = animals + colours\n",
        "print(mix)\n",
        "\n",
        "zoo = animals * 2\n",
        "print(zoo)"
      ],
      "metadata": {
        "id": "LOV6RKUfdVQj",
        "colab": {
          "base_uri": "https://localhost:8080/"
        },
        "outputId": "89be930d-ec7a-4e73-f05a-d937b491638f"
      },
      "execution_count": null,
      "outputs": [
        {
          "output_type": "stream",
          "name": "stdout",
          "text": [
            "['dog', 'cat', 'goldfish', 'tiger']\n",
            "['dog', 'cat', 'goldfish', 'tiger', 'penguin']\n",
            "['cat', 'dog', 'goldfish', 'penguin', 'tiger']\n",
            "['cat', 'dog', 'goldfish', 'penguin', 'tiger', 'elephant']\n",
            "['cat', 'dog', 'goldfish', 'penguin', 'tiger', 'red', 'blue', 'yellow']\n",
            "['cat', 'dog', 'goldfish', 'penguin', 'tiger', 'cat', 'dog', 'goldfish', 'penguin', 'tiger']\n"
          ]
        }
      ]
    },
    {
      "cell_type": "markdown",
      "source": [
        "---\n",
        "\n",
        "A special kind of list is the `tuple`: it is basically a list where the elements cannot be changed. This is useful to avoid to overwrite or delete elements of a list by mistake. The syntax is very similar to a list:\n",
        "\n",
        "---"
      ],
      "metadata": {
        "id": "306xQajkzjLF"
      }
    },
    {
      "cell_type": "code",
      "source": [
        "this_is_a_list = [1,5,2,7]\n",
        "this_is_a_tuple = (1,5,2,7)\n",
        "\n",
        "print(this_is_a_list)\n",
        "print(this_is_a_tuple)\n",
        "\n",
        "print(\"\\n\")\n",
        "\n",
        "print(this_is_a_list[3])\n",
        "print(this_is_a_tuple[3])\n",
        "\n",
        "print(\"\\n\")\n",
        "\n",
        "this_is_a_list[3] = 99\n",
        "this_is_a_tuple[3] = 99"
      ],
      "metadata": {
        "id": "NAJ2jW5tz7qw",
        "colab": {
          "base_uri": "https://localhost:8080/",
          "height": 323
        },
        "outputId": "5a55b586-46ea-4e49-fcf9-2e821c839f8a"
      },
      "execution_count": null,
      "outputs": [
        {
          "output_type": "stream",
          "name": "stdout",
          "text": [
            "[1, 5, 2, 7]\n",
            "(1, 5, 2, 7)\n",
            "\n",
            "\n",
            "7\n",
            "7\n",
            "\n",
            "\n"
          ]
        },
        {
          "output_type": "error",
          "ename": "TypeError",
          "evalue": "'tuple' object does not support item assignment",
          "traceback": [
            "\u001b[0;31m---------------------------------------------------------------------------\u001b[0m",
            "\u001b[0;31mTypeError\u001b[0m                                 Traceback (most recent call last)",
            "\u001b[0;32m<ipython-input-21-4680f7f653ee>\u001b[0m in \u001b[0;36m<cell line: 15>\u001b[0;34m()\u001b[0m\n\u001b[1;32m     13\u001b[0m \u001b[0;34m\u001b[0m\u001b[0m\n\u001b[1;32m     14\u001b[0m \u001b[0mthis_is_a_list\u001b[0m\u001b[0;34m[\u001b[0m\u001b[0;36m3\u001b[0m\u001b[0;34m]\u001b[0m \u001b[0;34m=\u001b[0m \u001b[0;36m99\u001b[0m\u001b[0;34m\u001b[0m\u001b[0;34m\u001b[0m\u001b[0m\n\u001b[0;32m---> 15\u001b[0;31m \u001b[0mthis_is_a_tuple\u001b[0m\u001b[0;34m[\u001b[0m\u001b[0;36m3\u001b[0m\u001b[0;34m]\u001b[0m \u001b[0;34m=\u001b[0m \u001b[0;36m99\u001b[0m\u001b[0;34m\u001b[0m\u001b[0;34m\u001b[0m\u001b[0m\n\u001b[0m",
            "\u001b[0;31mTypeError\u001b[0m: 'tuple' object does not support item assignment"
          ]
        }
      ]
    },
    {
      "cell_type": "markdown",
      "source": [
        "##**Dictionaries**\n",
        "\n",
        "A sort of special kind of list is the so-called `dictionary`. We can use a `dictionary` to store key-value pairs and identify an entry by its key rather than its positional index.\n",
        "\n",
        "---"
      ],
      "metadata": {
        "id": "DNW60O0kio_z"
      }
    },
    {
      "cell_type": "code",
      "source": [
        "personal_details = {\n",
        "    \"name\" : \"Lorenzo\",\n",
        "    \"surname\" : \"Capriotti\",\n",
        "    \"age\" : 35,\n",
        "    \"nationality\" : \"Italian\",\n",
        "}\n",
        "\n",
        "print(personal_details[\"name\"])\n",
        "print(personal_details[\"age\"])\n",
        "\n",
        "personal_details[\"age\"] = 27\n",
        "print(personal_details[\"age\"])"
      ],
      "metadata": {
        "id": "qd8WjUF8ioR2",
        "colab": {
          "base_uri": "https://localhost:8080/"
        },
        "outputId": "35056a37-1c53-49c2-f780-52b8da4ed4fe"
      },
      "execution_count": null,
      "outputs": [
        {
          "output_type": "stream",
          "name": "stdout",
          "text": [
            "Lorenzo\n",
            "35\n",
            "27\n"
          ]
        }
      ]
    },
    {
      "cell_type": "markdown",
      "source": [
        "---\n",
        "\n",
        "Let's see what else we can do with dictionaries!\n",
        "\n",
        "---"
      ],
      "metadata": {
        "id": "Jp-KS9Ywx2am"
      }
    },
    {
      "cell_type": "code",
      "source": [
        "#we are not restricted to strings: keys can be any type as long as they are immutable\n",
        "#for instance we can even use tuples as keys!\n",
        "battleship = {\n",
        "    (\"C\", 4): \"Miss\",\n",
        "    (\"E\", 6): \"Hit\",\n",
        "    (\"E\", 5): \"Hit\",\n",
        "    (\"E\", 4): \"Hit\",\n",
        "    (\"E\", 3): \"Miss\",\n",
        "    (\"A\", 5): \"Miss\"\n",
        "}\n",
        "\n",
        "print(\"A5 is: \" + battleship[(\"A\", 5)])\n",
        "\n",
        "#we can add several items to the dictionary at once\n",
        "battleship.update({(\"B\",1) : \"Miss\", (\"B\",2) : \"Miss\", (\"B\",3) : \"Miss\"})\n",
        "\n",
        "#we can retrieve all the keys or all the values in the dictionary at once\n",
        "print(list(battleship.keys()))\n",
        "print(battleship.values())\n",
        "\n",
        "#we can check if a given key is in the dictionary or not\n",
        "print(\"age\" in personal_details)\n",
        "print(\"heigth\" in personal_details)\n",
        "print((\"A\",5) in battleship)"
      ],
      "metadata": {
        "id": "nm1_pwhiyGSe",
        "colab": {
          "base_uri": "https://localhost:8080/"
        },
        "outputId": "64822cc6-f2a4-4312-ad0f-2f7847c85991"
      },
      "execution_count": null,
      "outputs": [
        {
          "output_type": "stream",
          "name": "stdout",
          "text": [
            "A5 is: Miss\n",
            "[('C', 4), ('E', 6), ('E', 5), ('E', 4), ('E', 3), ('A', 5), ('B', 1), ('B', 2), ('B', 3)]\n",
            "dict_values(['Miss', 'Hit', 'Hit', 'Hit', 'Miss', 'Miss', 'Miss', 'Miss', 'Miss'])\n",
            "True\n",
            "False\n",
            "True\n"
          ]
        }
      ]
    },
    {
      "cell_type": "markdown",
      "source": [
        "##**The range function**\n",
        "\n",
        "Let's introduce now a special kind of function, the `range` function. This is built-in in Python and it is used to generate numbers in a sequence. The `range` function will generate one number at a time as it is needed instead of generating all numbers at the same time: we will see where we can exploit this feature later. You can automatically convert this sequence into a `list` by just telling Python that the object you created must be a list. Here is how it is done:"
      ],
      "metadata": {
        "id": "J8n6c5CR_e4x"
      }
    },
    {
      "cell_type": "code",
      "source": [
        "range(10)\n",
        "print(list(range(10))) #all numbers between 0 (included) and 10 (excluded)\n",
        "print(list(range(5,27)))#all numbers between 5 (included) and 27 (excluded)\n",
        "print(list(range(0,50,5)))#once every 5 numbers between 0 (included) and 50 (excluded)"
      ],
      "metadata": {
        "id": "Qfyq-1f5AEGb",
        "colab": {
          "base_uri": "https://localhost:8080/"
        },
        "outputId": "ffd00f3c-8919-4871-ee61-79ea4299181d"
      },
      "execution_count": null,
      "outputs": [
        {
          "output_type": "stream",
          "name": "stdout",
          "text": [
            "[0, 1, 2, 3, 4, 5, 6, 7, 8, 9]\n",
            "[5, 6, 7, 8, 9, 10, 11, 12, 13, 14, 15, 16, 17, 18, 19, 20, 21, 22, 23, 24, 25, 26]\n",
            "[0, 5, 10, 15, 20, 25, 30, 35, 40, 45]\n"
          ]
        }
      ]
    },
    {
      "cell_type": "markdown",
      "source": [
        "# <font color='red'>**Conditional statements**\n"
      ],
      "metadata": {
        "id": "E9kJAH61Aa7r"
      }
    },
    {
      "cell_type": "markdown",
      "source": [
        "##**If statements**\n",
        "\n",
        "In this chapter we will learn about conditional statements, which allow a program to choose whether to execute certain instructions or not. For example, a program might choose how to proceed on the basis of the user’s input. As you will be able to see, such statements make a program more versatile.\n",
        "\n",
        "Every time we make a decision, what we do is to perform a two step process: first we decide what to do based on a criterion, and then we take an action.\n",
        "\n",
        "Decision-making by a computer is based on the same two-step process. In Python, decisions are made with the `if` statement, also known as the conditional or selection statement. When processing an `if` statement, the computer first evaluates some criterion or condition. If the condition is met, the specified action is performed. Here is how it works:\n",
        "\n",
        "---"
      ],
      "metadata": {
        "id": "UBMPHi7RmC4K"
      }
    },
    {
      "cell_type": "code",
      "source": [
        "age = 3\n",
        "\n",
        "#notice how the instructions to be processed within an if statement must be indented\n",
        "#with respect to the original position of the code\n",
        "\n",
        "print(\"Welcome to driving school\")\n",
        "if (age<18):\n",
        "  print(\"Sorry, you are too young to drive\")\n",
        "  print(\"Please come back when you are 18\")\n",
        "print(\"Have a nice day!\")\n"
      ],
      "metadata": {
        "id": "rs4zPCtFuoca",
        "colab": {
          "base_uri": "https://localhost:8080/"
        },
        "outputId": "d6cb3ad8-4431-40fd-8027-8ff35c243e86"
      },
      "execution_count": null,
      "outputs": [
        {
          "output_type": "stream",
          "name": "stdout",
          "text": [
            "Welcome to driving school\n",
            "Sorry, you are too young to drive\n",
            "Please come back when you are 18\n",
            "Have a nice day!\n"
          ]
        }
      ]
    },
    {
      "cell_type": "markdown",
      "source": [
        "---\n",
        "\n",
        "In the example above, we have used the `<` operator to compare two values. If the result of the comparison is true, then the indented instructions are processed, otherwise if it is false they will all be ignored. There are other relational operators that can be used:\n",
        "\n",
        "* `==` equal to\n",
        "* `!=` not equal to\n",
        "* `>` greater than\n",
        "* `<` less than\n",
        "* `>=` greater or equal to\n",
        "* `<=` less or equal to\n",
        "\n",
        "Please notice that the symbol `=` is NOT used to compare values but to assign a value to a variable so it will not work in this context.\n",
        "\n",
        "Other than numbers, you can compare also strings or other variable type, although the operators `>` and `<` might have non trivial meanings. For instance:\n",
        "\n",
        "---"
      ],
      "metadata": {
        "id": "9X_hWsve4FD-"
      }
    },
    {
      "cell_type": "code",
      "source": [
        "a = \"Monday\"\n",
        "b = \"Tuesday\"\n",
        "c = \"Monday\"\n",
        "d = \"Mondays\"\n",
        "\n",
        "if (a==b):\n",
        "  print(\"This should not be printed\")\n",
        "if (a==c):\n",
        "  print(\"This should be printed\")\n",
        "if (d>c):\n",
        "  print(\"This should also be printed because d is longer than c\")"
      ],
      "metadata": {
        "id": "U3XLsQbR6Voo",
        "colab": {
          "base_uri": "https://localhost:8080/"
        },
        "outputId": "72c7ee80-3600-4bce-99e5-3052bb5463e2"
      },
      "execution_count": null,
      "outputs": [
        {
          "output_type": "stream",
          "name": "stdout",
          "text": [
            "This should be printed\n",
            "This should also be printed because d is longer than c\n"
          ]
        }
      ]
    },
    {
      "cell_type": "markdown",
      "source": [
        "##**The else and elif clauses**\n",
        "\n",
        "An optional part of an if statement is the `else` clause. It allows us to specify an alternative instruction (or set of instructions) to be executed if the condition is not met.\n",
        "\n",
        "---"
      ],
      "metadata": {
        "id": "DR4mr8qJ7LfB"
      }
    },
    {
      "cell_type": "code",
      "source": [
        "#if statements can also be nested one into another if you need to make a decision based\n",
        "#on the result of a previous decision. Remember that the indentations must be done\n",
        "#with respect to the original position of the code, which changes after the first if!\n",
        "weight = 10000\n",
        "\n",
        "if weight <= 1000:\n",
        "    if weight <= 300:\n",
        "        cost = 5\n",
        "    else: #we could have also used 'if weight > 300'\n",
        "        cost = 9\n",
        "    print(\"Your parcel will cost %d$.\" % cost)\n",
        "\n",
        "else: #we could have also used 'if weight > 1000'\n",
        "    print(\"Maximum weight for small parcel exceeded.\")\n",
        "    print(\"Use large parcel service instead.\")"
      ],
      "metadata": {
        "id": "FgcfBhQb7Wgz",
        "colab": {
          "base_uri": "https://localhost:8080/"
        },
        "outputId": "c300eb8c-c7aa-49c4-f784-3785cea848ce"
      },
      "execution_count": null,
      "outputs": [
        {
          "output_type": "stream",
          "name": "stdout",
          "text": [
            "Maximum weight for small parcel exceeded.\n",
            "Use large parcel service instead.\n"
          ]
        }
      ]
    },
    {
      "cell_type": "markdown",
      "source": [
        "---\n",
        "\n",
        "If you need to write a series of nested mutually exclusive `if` statements, a faster way of doing it is to use the `elif` (aka \"else if\") statements:\n",
        "\n",
        "---"
      ],
      "metadata": {
        "id": "nPrEgquH9u0w"
      }
    },
    {
      "cell_type": "code",
      "source": [
        "#let's write a piece of code which translates a mark score into a letter grade.\n",
        "#we want the grade A to correspond to a mark >= 80, a grade B between 65 and 80,\n",
        "#a grade C between 50 and 65 and a grade D for marks below 50. We could do this:\n",
        "\n",
        "mark=99\n",
        "\n",
        "if mark >= 80:\n",
        "    grade = \"A\"\n",
        "else:\n",
        "    if mark >= 65:\n",
        "        grade = \"B\"\n",
        "    else:\n",
        "        if mark >= 50:\n",
        "            grade = \"C\"\n",
        "        else:\n",
        "            grade = \"D\"\n",
        "\n",
        "print(\"Mark is %d corresponding to grade %s\" % (mark, grade))\n",
        "\n",
        "#alternatively, we could have used a much simpler and compact code like this:\n",
        "\n",
        "if mark >= 80:\n",
        "    grade = \"A\"\n",
        "elif mark >= 65:\n",
        "    grade = \"B\"\n",
        "elif mark >= 50:\n",
        "    grade = \"C\"\n",
        "else:\n",
        "    grade = \"D\"\n",
        "print(\"Mark is %d corresponding to grade %s\" % (mark, grade))\n"
      ],
      "metadata": {
        "id": "CYwCOX1K-ABY",
        "colab": {
          "base_uri": "https://localhost:8080/"
        },
        "outputId": "8ab8166a-faad-43e8-cb23-aa3618570dae"
      },
      "execution_count": null,
      "outputs": [
        {
          "output_type": "stream",
          "name": "stdout",
          "text": [
            "Mark is 99 corresponding to grade A\n",
            "Mark is 99 corresponding to grade A\n"
          ]
        }
      ]
    },
    {
      "cell_type": "markdown",
      "source": [
        "##**Boolean variables and operators**\n",
        "\n",
        "In Python there is a value type for variables which can either be true or false: the boolean type, `bool`. The true value is `True` and the false value is `False`. Python will implicitly convert any other value type to a boolean if we use it like a boolean, for example as a condition in an `if` statement. So what really happens in an conditional statement is that when the condition is evaluated, it is given a boolean value and if the value is `True` then the instructions within the statement are processed. Notice also that, for historical reasons, the numbers 0 and 0.0 are actually equal to False and 1 and 1.0 are equal to True. You can check this explicitly:\n",
        "\n",
        "---"
      ],
      "metadata": {
        "id": "ee_cIE0jDSlv"
      }
    },
    {
      "cell_type": "code",
      "source": [
        "b = True\n",
        "d = False\n",
        "\n",
        "if b:\n",
        "  print(\"Print this\")\n",
        "else:\n",
        "  print(\"Do not print this\")\n",
        "\n",
        "if d:\n",
        "  print(\"Do not print this\")\n",
        "else:\n",
        "  print(\"Print also this\")\n",
        "\n",
        "if 1:\n",
        "  print(\"Lastly, print this\")\n",
        "if 0:\n",
        "  print(\"Do not print this\")"
      ],
      "metadata": {
        "id": "IP5IyNnwGDy1",
        "colab": {
          "base_uri": "https://localhost:8080/"
        },
        "outputId": "e248b119-e291-44b3-c532-ad01bc305450"
      },
      "execution_count": null,
      "outputs": [
        {
          "output_type": "stream",
          "name": "stdout",
          "text": [
            "Print this\n",
            "Print also this\n",
            "Lastly, print this\n"
          ]
        }
      ]
    },
    {
      "cell_type": "markdown",
      "source": [
        "---\n",
        "\n",
        "Sometimes you want to use a conditional statement based on a series of different conditions all happening at the same time. In these cases it is very practical to use the boolean operators `and`, `or`, `not`. Let's have a look!\n",
        "\n",
        "---"
      ],
      "metadata": {
        "id": "mcWNN_RRG9NW"
      }
    },
    {
      "cell_type": "code",
      "source": [
        "#if we take back the example we did before, we wanted to assign a grade B for a\n",
        "#mark value between 65 and 80. This can be done easily like this:\n",
        "mark = 59\n",
        "if mark >= 50 and mark < 65:\n",
        "    print(\"Grade B\")\n",
        "\n",
        "#if instead we want the condition to be determined by at least one of many but not necessarily all them\n",
        "#you can use the or operator:\n",
        "\n",
        "if mark<0 or mark>100:\n",
        "  print(\"This mark does not make sense\")\n",
        "\n",
        "if not (mark<0 or mark>100):\n",
        "  print(\"This mark makes sense\")\n"
      ],
      "metadata": {
        "id": "SyOHDIIsJEH4"
      },
      "execution_count": null,
      "outputs": []
    },
    {
      "cell_type": "markdown",
      "source": [
        "---\n",
        "\n",
        "Python is all about making your code compact and easily readable. For this reason there is another way to write conditional statements: by using the *conditional operator*.\n",
        "\n",
        "---"
      ],
      "metadata": {
        "id": "ZasEWrN5-CbF"
      }
    },
    {
      "cell_type": "code",
      "source": [
        "#our students will pass their test if their mark is at least 60%. Let's write this as:\n",
        "\n",
        "result = \"\"\n",
        "\n",
        "if (mark > 60):\n",
        "  result = \"Pass\"\n",
        "else:\n",
        "  result = \"Fail\"\n",
        "\n",
        "#but we could also use this compact single line to do the same thing!\n",
        "result = \"Pass\" if (mark >= 60) else \"Fail\""
      ],
      "metadata": {
        "id": "XGnnfRHp-Qu9"
      },
      "execution_count": null,
      "outputs": []
    },
    {
      "cell_type": "markdown",
      "source": [
        "# <font color='red'>**Loop statements**\n",
        "\n",
        "In this chapter we will see how to make the computer execute a group of statements over and over as long as certain criterion holds. The group of statements being executed repeatedly is called a loop. In Python there are two different ways of writing loop statements and they have two slightly different applications, based on whether you know how many loops you need to process or not: we will see both of them."
      ],
      "metadata": {
        "id": "XngAc233PgP6"
      }
    },
    {
      "cell_type": "markdown",
      "metadata": {
        "id": "6FcHJ9RUdtqs"
      },
      "source": [
        "##**The while command**\n",
        "\n",
        "If you don't know how long a program should run, i.e. you don't know a priori how many loops you need to fulfill your operation, then you can use the `while` command.\n",
        "\n",
        "The loop consists of three important parts: the initialisation, the condition, and the update. In the initialisation step, you set up the variable which you’re going to use in the condition. In the condition step, you perform a test on the variable to see whether you should terminate the loop or execute the body another time. Then, after each successfully completed execution of the loop body, you update your variable.\n",
        "\n",
        "Note that the condition is checked before the loop body is executed for the first time - if the condition is false at the start, the loop body will never be executed at all.\n",
        "\n",
        "Let's say we want to add numbers from 0 to N until their sum exceeds 1000. We do not know in principle what number N is.\n",
        "\n",
        "**N.B.:** The command `+=` and all its variants `-=`, `*=` and `/=` are used to execute a given operation on a variable and to assign the result of the operation to the variable itself at the same time.\n",
        "\n",
        "\n",
        "---\n"
      ]
    },
    {
      "cell_type": "code",
      "source": [
        "sum = 0\n",
        "N = 0\n",
        "\n",
        "while sum<1000:\n",
        "  N+=1 # N = N+1\n",
        "  sum+=N # sum = sum+N\n",
        "\n",
        "print(\"The value of N is \" + str(N))"
      ],
      "metadata": {
        "id": "NvCup7j1Jo9z",
        "colab": {
          "base_uri": "https://localhost:8080/"
        },
        "outputId": "f6a64eae-c592-4eab-a361-4e1e70797e48"
      },
      "execution_count": null,
      "outputs": [
        {
          "output_type": "stream",
          "name": "stdout",
          "text": [
            "The value of N is 45\n"
          ]
        }
      ]
    },
    {
      "cell_type": "markdown",
      "source": [
        "---\n",
        "\n",
        "WARNING: when working with loops, there can be several situations where the condition check always returns `True` and the loop never ends. This problem is called ***infinite loop*** and can occurr for a variety of reasons. Here are a few common errors that will cause an infinite loop:\n",
        "\n",
        "\n",
        "---\n"
      ],
      "metadata": {
        "id": "-wWYcKEwL0lc"
      }
    },
    {
      "cell_type": "code",
      "source": [
        "#example 1\n",
        "x = 0\n",
        "y=0\n",
        "while x < 3:\n",
        "    y += 1 # wrong variable updated\n",
        "\n",
        "\n",
        "#example 2\n",
        "product = 1\n",
        "count = 1\n",
        "\n",
        "while count <= 10:\n",
        "    product *= count\n",
        "    # forgot to update count\n",
        "\n",
        "#example 3\n",
        "x = 0\n",
        "while x < 5:\n",
        "    print(x)\n",
        "x += 1 # update statement is indented one level too little, so it's outside the loop body\n",
        "\n",
        "\n",
        "#example 4\n",
        "x = 0\n",
        "while x != 5:\n",
        "    print(x)\n",
        "    x += 2 # x will never equal 5, because we are counting in even numbers!"
      ],
      "metadata": {
        "id": "ScGXLCgHL3K5"
      },
      "execution_count": null,
      "outputs": []
    },
    {
      "cell_type": "markdown",
      "source": [
        "---\n",
        "\n",
        "In particular, if you actually want a loop to run indefinitely - for whatever reason - you can just set the condition to `True`. Furthermore, to forcefully break a loop cycle you can use the `break` command: this gives you the ability to include a second condition separately from the first one, although you can always use the boolean operators for more articolated conditions.\n",
        "\n",
        "---"
      ],
      "metadata": {
        "id": "l77DdkdMDPVM"
      }
    },
    {
      "cell_type": "code",
      "source": [
        "var = 0\n",
        "while 1:\n",
        "  var+=1 #adds 1 to var at each cycle\n",
        "  print(var)\n",
        "  if var==100:\n",
        "    print(\"BREAK!\")\n",
        "    break\n",
        "\n",
        "print(\"\\n\")\n",
        "var=0\n",
        "while True:\n",
        "  var+=1 #same thing\n",
        "  print(var)\n",
        "  if var>12:\n",
        "    print(\"BREAK!\")\n",
        "    break\n"
      ],
      "metadata": {
        "id": "_MiYTStaDY1n",
        "colab": {
          "base_uri": "https://localhost:8080/"
        },
        "outputId": "eb15da50-47bf-4bfb-f31f-3d715d33621d"
      },
      "execution_count": null,
      "outputs": [
        {
          "output_type": "stream",
          "name": "stdout",
          "text": [
            "1\n",
            "2\n",
            "3\n",
            "4\n",
            "5\n",
            "6\n",
            "7\n",
            "8\n",
            "9\n",
            "10\n",
            "11\n",
            "12\n",
            "13\n",
            "14\n",
            "15\n",
            "16\n",
            "17\n",
            "18\n",
            "19\n",
            "20\n",
            "21\n",
            "22\n",
            "23\n",
            "24\n",
            "25\n",
            "26\n",
            "27\n",
            "28\n",
            "29\n",
            "30\n",
            "31\n",
            "32\n",
            "33\n",
            "34\n",
            "35\n",
            "36\n",
            "37\n",
            "38\n",
            "39\n",
            "40\n",
            "41\n",
            "42\n",
            "43\n",
            "44\n",
            "45\n",
            "46\n",
            "47\n",
            "48\n",
            "49\n",
            "50\n",
            "51\n",
            "52\n",
            "53\n",
            "54\n",
            "55\n",
            "56\n",
            "57\n",
            "58\n",
            "59\n",
            "60\n",
            "61\n",
            "62\n",
            "63\n",
            "64\n",
            "65\n",
            "66\n",
            "67\n",
            "68\n",
            "69\n",
            "70\n",
            "71\n",
            "72\n",
            "73\n",
            "74\n",
            "75\n",
            "76\n",
            "77\n",
            "78\n",
            "79\n",
            "80\n",
            "81\n",
            "82\n",
            "83\n",
            "84\n",
            "85\n",
            "86\n",
            "87\n",
            "88\n",
            "89\n",
            "90\n",
            "91\n",
            "92\n",
            "93\n",
            "94\n",
            "95\n",
            "96\n",
            "97\n",
            "98\n",
            "99\n",
            "100\n",
            "BREAK!\n",
            "\n",
            "\n",
            "1\n",
            "2\n",
            "3\n",
            "4\n",
            "5\n",
            "6\n",
            "7\n",
            "8\n",
            "9\n",
            "10\n",
            "11\n",
            "12\n",
            "13\n",
            "BREAK!\n"
          ]
        }
      ]
    },
    {
      "cell_type": "markdown",
      "source": [
        "##**The for command**\n",
        "\n",
        "The second way to set up a loop in Python is through the `for` command. The main difference with the `while` command is that `for` runs over the elements of a sequence, so it can be used to run a fixed number of cycles: for instance, by dynamically generating a sequence with the `range` function, or by counting the elements of a `list`, etc.\n",
        "\n",
        "Let's see some examples:\n",
        "\n",
        "---"
      ],
      "metadata": {
        "id": "rKL56P5zNvEK"
      }
    },
    {
      "cell_type": "code",
      "metadata": {
        "id": "dzfODAHhp2tv",
        "colab": {
          "base_uri": "https://localhost:8080/"
        },
        "outputId": "f1ead6e6-c67d-42d7-8199-ac28a026448f"
      },
      "source": [
        "#print the sum of the first 100 numbers\n",
        "\n",
        "sum = 0\n",
        "for i in range(1,101): #i takes the value generated by range at each cycle\n",
        "  sum += i\n",
        "  print('Summing %d to sum. Now sum is: %d' % (i, sum))\n",
        "print('\\nThe final result is ' + str(sum))\n"
      ],
      "execution_count": null,
      "outputs": [
        {
          "output_type": "stream",
          "name": "stdout",
          "text": [
            "Summing 1 to sum. Now sum is: 1\n",
            "Summing 2 to sum. Now sum is: 3\n",
            "Summing 3 to sum. Now sum is: 6\n",
            "Summing 4 to sum. Now sum is: 10\n",
            "Summing 5 to sum. Now sum is: 15\n",
            "Summing 6 to sum. Now sum is: 21\n",
            "Summing 7 to sum. Now sum is: 28\n",
            "Summing 8 to sum. Now sum is: 36\n",
            "Summing 9 to sum. Now sum is: 45\n",
            "Summing 10 to sum. Now sum is: 55\n",
            "Summing 11 to sum. Now sum is: 66\n",
            "Summing 12 to sum. Now sum is: 78\n",
            "Summing 13 to sum. Now sum is: 91\n",
            "Summing 14 to sum. Now sum is: 105\n",
            "Summing 15 to sum. Now sum is: 120\n",
            "Summing 16 to sum. Now sum is: 136\n",
            "Summing 17 to sum. Now sum is: 153\n",
            "Summing 18 to sum. Now sum is: 171\n",
            "Summing 19 to sum. Now sum is: 190\n",
            "Summing 20 to sum. Now sum is: 210\n",
            "Summing 21 to sum. Now sum is: 231\n",
            "Summing 22 to sum. Now sum is: 253\n",
            "Summing 23 to sum. Now sum is: 276\n",
            "Summing 24 to sum. Now sum is: 300\n",
            "Summing 25 to sum. Now sum is: 325\n",
            "Summing 26 to sum. Now sum is: 351\n",
            "Summing 27 to sum. Now sum is: 378\n",
            "Summing 28 to sum. Now sum is: 406\n",
            "Summing 29 to sum. Now sum is: 435\n",
            "Summing 30 to sum. Now sum is: 465\n",
            "Summing 31 to sum. Now sum is: 496\n",
            "Summing 32 to sum. Now sum is: 528\n",
            "Summing 33 to sum. Now sum is: 561\n",
            "Summing 34 to sum. Now sum is: 595\n",
            "Summing 35 to sum. Now sum is: 630\n",
            "Summing 36 to sum. Now sum is: 666\n",
            "Summing 37 to sum. Now sum is: 703\n",
            "Summing 38 to sum. Now sum is: 741\n",
            "Summing 39 to sum. Now sum is: 780\n",
            "Summing 40 to sum. Now sum is: 820\n",
            "Summing 41 to sum. Now sum is: 861\n",
            "Summing 42 to sum. Now sum is: 903\n",
            "Summing 43 to sum. Now sum is: 946\n",
            "Summing 44 to sum. Now sum is: 990\n",
            "Summing 45 to sum. Now sum is: 1035\n",
            "Summing 46 to sum. Now sum is: 1081\n",
            "Summing 47 to sum. Now sum is: 1128\n",
            "Summing 48 to sum. Now sum is: 1176\n",
            "Summing 49 to sum. Now sum is: 1225\n",
            "Summing 50 to sum. Now sum is: 1275\n",
            "Summing 51 to sum. Now sum is: 1326\n",
            "Summing 52 to sum. Now sum is: 1378\n",
            "Summing 53 to sum. Now sum is: 1431\n",
            "Summing 54 to sum. Now sum is: 1485\n",
            "Summing 55 to sum. Now sum is: 1540\n",
            "Summing 56 to sum. Now sum is: 1596\n",
            "Summing 57 to sum. Now sum is: 1653\n",
            "Summing 58 to sum. Now sum is: 1711\n",
            "Summing 59 to sum. Now sum is: 1770\n",
            "Summing 60 to sum. Now sum is: 1830\n",
            "Summing 61 to sum. Now sum is: 1891\n",
            "Summing 62 to sum. Now sum is: 1953\n",
            "Summing 63 to sum. Now sum is: 2016\n",
            "Summing 64 to sum. Now sum is: 2080\n",
            "Summing 65 to sum. Now sum is: 2145\n",
            "Summing 66 to sum. Now sum is: 2211\n",
            "Summing 67 to sum. Now sum is: 2278\n",
            "Summing 68 to sum. Now sum is: 2346\n",
            "Summing 69 to sum. Now sum is: 2415\n",
            "Summing 70 to sum. Now sum is: 2485\n",
            "Summing 71 to sum. Now sum is: 2556\n",
            "Summing 72 to sum. Now sum is: 2628\n",
            "Summing 73 to sum. Now sum is: 2701\n",
            "Summing 74 to sum. Now sum is: 2775\n",
            "Summing 75 to sum. Now sum is: 2850\n",
            "Summing 76 to sum. Now sum is: 2926\n",
            "Summing 77 to sum. Now sum is: 3003\n",
            "Summing 78 to sum. Now sum is: 3081\n",
            "Summing 79 to sum. Now sum is: 3160\n",
            "Summing 80 to sum. Now sum is: 3240\n",
            "Summing 81 to sum. Now sum is: 3321\n",
            "Summing 82 to sum. Now sum is: 3403\n",
            "Summing 83 to sum. Now sum is: 3486\n",
            "Summing 84 to sum. Now sum is: 3570\n",
            "Summing 85 to sum. Now sum is: 3655\n",
            "Summing 86 to sum. Now sum is: 3741\n",
            "Summing 87 to sum. Now sum is: 3828\n",
            "Summing 88 to sum. Now sum is: 3916\n",
            "Summing 89 to sum. Now sum is: 4005\n",
            "Summing 90 to sum. Now sum is: 4095\n",
            "Summing 91 to sum. Now sum is: 4186\n",
            "Summing 92 to sum. Now sum is: 4278\n",
            "Summing 93 to sum. Now sum is: 4371\n",
            "Summing 94 to sum. Now sum is: 4465\n",
            "Summing 95 to sum. Now sum is: 4560\n",
            "Summing 96 to sum. Now sum is: 4656\n",
            "Summing 97 to sum. Now sum is: 4753\n",
            "Summing 98 to sum. Now sum is: 4851\n",
            "Summing 99 to sum. Now sum is: 4950\n",
            "Summing 100 to sum. Now sum is: 5050\n",
            "\n",
            "The final result is 5050\n"
          ]
        }
      ]
    },
    {
      "cell_type": "markdown",
      "metadata": {
        "id": "RuxX1JacsuDW"
      },
      "source": [
        "---\n",
        "\n",
        "Suppose now you want to sum all numbers from 0 to 100, but separately between even and odd numbers. You can do it using the `if`...`else` statements.\n",
        "\n",
        "---"
      ]
    },
    {
      "cell_type": "code",
      "metadata": {
        "id": "VTixIqEdstcl",
        "colab": {
          "base_uri": "https://localhost:8080/"
        },
        "outputId": "fce0f9b7-8457-495e-fdd9-69d15074c65c"
      },
      "source": [
        "even_sum = 0\n",
        "odd_sum = 0\n",
        "for i in range(1,101):\n",
        "  if i%2==0: #modulo operation: calculates the remanider of the division between \"i\" and \"2\", if it is 0 it means that the number is even\n",
        "    even_sum += i\n",
        "    print('Summing %d to even_sum. Now even_sum is: %d' % (i, even_sum))\n",
        "  else:\n",
        "    odd_sum += i\n",
        "    print('summing %d to odd_sum. Now odd_sum is: %d' % (i, odd_sum))\n",
        "print('\\neven_sum is ' + str(even_sum))\n",
        "print('odd_sum is ' + str(odd_sum))\n"
      ],
      "execution_count": null,
      "outputs": [
        {
          "output_type": "stream",
          "name": "stdout",
          "text": [
            "summing 1 to odd_sum. Now odd_sum is: 1\n",
            "Summing 2 to even_sum. Now even_sum is: 2\n",
            "summing 3 to odd_sum. Now odd_sum is: 4\n",
            "Summing 4 to even_sum. Now even_sum is: 6\n",
            "summing 5 to odd_sum. Now odd_sum is: 9\n",
            "Summing 6 to even_sum. Now even_sum is: 12\n",
            "summing 7 to odd_sum. Now odd_sum is: 16\n",
            "Summing 8 to even_sum. Now even_sum is: 20\n",
            "summing 9 to odd_sum. Now odd_sum is: 25\n",
            "Summing 10 to even_sum. Now even_sum is: 30\n",
            "summing 11 to odd_sum. Now odd_sum is: 36\n",
            "Summing 12 to even_sum. Now even_sum is: 42\n",
            "summing 13 to odd_sum. Now odd_sum is: 49\n",
            "Summing 14 to even_sum. Now even_sum is: 56\n",
            "summing 15 to odd_sum. Now odd_sum is: 64\n",
            "Summing 16 to even_sum. Now even_sum is: 72\n",
            "summing 17 to odd_sum. Now odd_sum is: 81\n",
            "Summing 18 to even_sum. Now even_sum is: 90\n",
            "summing 19 to odd_sum. Now odd_sum is: 100\n",
            "Summing 20 to even_sum. Now even_sum is: 110\n",
            "summing 21 to odd_sum. Now odd_sum is: 121\n",
            "Summing 22 to even_sum. Now even_sum is: 132\n",
            "summing 23 to odd_sum. Now odd_sum is: 144\n",
            "Summing 24 to even_sum. Now even_sum is: 156\n",
            "summing 25 to odd_sum. Now odd_sum is: 169\n",
            "Summing 26 to even_sum. Now even_sum is: 182\n",
            "summing 27 to odd_sum. Now odd_sum is: 196\n",
            "Summing 28 to even_sum. Now even_sum is: 210\n",
            "summing 29 to odd_sum. Now odd_sum is: 225\n",
            "Summing 30 to even_sum. Now even_sum is: 240\n",
            "summing 31 to odd_sum. Now odd_sum is: 256\n",
            "Summing 32 to even_sum. Now even_sum is: 272\n",
            "summing 33 to odd_sum. Now odd_sum is: 289\n",
            "Summing 34 to even_sum. Now even_sum is: 306\n",
            "summing 35 to odd_sum. Now odd_sum is: 324\n",
            "Summing 36 to even_sum. Now even_sum is: 342\n",
            "summing 37 to odd_sum. Now odd_sum is: 361\n",
            "Summing 38 to even_sum. Now even_sum is: 380\n",
            "summing 39 to odd_sum. Now odd_sum is: 400\n",
            "Summing 40 to even_sum. Now even_sum is: 420\n",
            "summing 41 to odd_sum. Now odd_sum is: 441\n",
            "Summing 42 to even_sum. Now even_sum is: 462\n",
            "summing 43 to odd_sum. Now odd_sum is: 484\n",
            "Summing 44 to even_sum. Now even_sum is: 506\n",
            "summing 45 to odd_sum. Now odd_sum is: 529\n",
            "Summing 46 to even_sum. Now even_sum is: 552\n",
            "summing 47 to odd_sum. Now odd_sum is: 576\n",
            "Summing 48 to even_sum. Now even_sum is: 600\n",
            "summing 49 to odd_sum. Now odd_sum is: 625\n",
            "Summing 50 to even_sum. Now even_sum is: 650\n",
            "summing 51 to odd_sum. Now odd_sum is: 676\n",
            "Summing 52 to even_sum. Now even_sum is: 702\n",
            "summing 53 to odd_sum. Now odd_sum is: 729\n",
            "Summing 54 to even_sum. Now even_sum is: 756\n",
            "summing 55 to odd_sum. Now odd_sum is: 784\n",
            "Summing 56 to even_sum. Now even_sum is: 812\n",
            "summing 57 to odd_sum. Now odd_sum is: 841\n",
            "Summing 58 to even_sum. Now even_sum is: 870\n",
            "summing 59 to odd_sum. Now odd_sum is: 900\n",
            "Summing 60 to even_sum. Now even_sum is: 930\n",
            "summing 61 to odd_sum. Now odd_sum is: 961\n",
            "Summing 62 to even_sum. Now even_sum is: 992\n",
            "summing 63 to odd_sum. Now odd_sum is: 1024\n",
            "Summing 64 to even_sum. Now even_sum is: 1056\n",
            "summing 65 to odd_sum. Now odd_sum is: 1089\n",
            "Summing 66 to even_sum. Now even_sum is: 1122\n",
            "summing 67 to odd_sum. Now odd_sum is: 1156\n",
            "Summing 68 to even_sum. Now even_sum is: 1190\n",
            "summing 69 to odd_sum. Now odd_sum is: 1225\n",
            "Summing 70 to even_sum. Now even_sum is: 1260\n",
            "summing 71 to odd_sum. Now odd_sum is: 1296\n",
            "Summing 72 to even_sum. Now even_sum is: 1332\n",
            "summing 73 to odd_sum. Now odd_sum is: 1369\n",
            "Summing 74 to even_sum. Now even_sum is: 1406\n",
            "summing 75 to odd_sum. Now odd_sum is: 1444\n",
            "Summing 76 to even_sum. Now even_sum is: 1482\n",
            "summing 77 to odd_sum. Now odd_sum is: 1521\n",
            "Summing 78 to even_sum. Now even_sum is: 1560\n",
            "summing 79 to odd_sum. Now odd_sum is: 1600\n",
            "Summing 80 to even_sum. Now even_sum is: 1640\n",
            "summing 81 to odd_sum. Now odd_sum is: 1681\n",
            "Summing 82 to even_sum. Now even_sum is: 1722\n",
            "summing 83 to odd_sum. Now odd_sum is: 1764\n",
            "Summing 84 to even_sum. Now even_sum is: 1806\n",
            "summing 85 to odd_sum. Now odd_sum is: 1849\n",
            "Summing 86 to even_sum. Now even_sum is: 1892\n",
            "summing 87 to odd_sum. Now odd_sum is: 1936\n",
            "Summing 88 to even_sum. Now even_sum is: 1980\n",
            "summing 89 to odd_sum. Now odd_sum is: 2025\n",
            "Summing 90 to even_sum. Now even_sum is: 2070\n",
            "summing 91 to odd_sum. Now odd_sum is: 2116\n",
            "Summing 92 to even_sum. Now even_sum is: 2162\n",
            "summing 93 to odd_sum. Now odd_sum is: 2209\n",
            "Summing 94 to even_sum. Now even_sum is: 2256\n",
            "summing 95 to odd_sum. Now odd_sum is: 2304\n",
            "Summing 96 to even_sum. Now even_sum is: 2352\n",
            "summing 97 to odd_sum. Now odd_sum is: 2401\n",
            "Summing 98 to even_sum. Now even_sum is: 2450\n",
            "summing 99 to odd_sum. Now odd_sum is: 2500\n",
            "Summing 100 to even_sum. Now even_sum is: 2550\n",
            "\n",
            "even_sum is 2550\n",
            "odd_sum is 2500\n"
          ]
        }
      ]
    },
    {
      "cell_type": "markdown",
      "metadata": {
        "id": "Kl-MTuzmrgRg"
      },
      "source": [
        "---\n",
        "\n",
        "The `for` command can be used also to execute operations directly on lists! For instance:\n",
        "\n",
        "\n",
        "\n",
        "---"
      ]
    },
    {
      "cell_type": "code",
      "metadata": {
        "id": "a3nfHN3zrfqh",
        "colab": {
          "base_uri": "https://localhost:8080/"
        },
        "outputId": "8f87c3bb-2d52-4051-b67d-42b77b9a69e2"
      },
      "source": [
        "usa_states = [\"california\", \"alabama\", \"florida\", \"texas\", \"kansas\"]\n",
        "\n",
        "for state in usa_states:\n",
        "  print(state)"
      ],
      "execution_count": null,
      "outputs": [
        {
          "output_type": "stream",
          "name": "stdout",
          "text": [
            "california\n",
            "alabama\n",
            "florida\n",
            "texas\n",
            "kansas\n"
          ]
        }
      ]
    },
    {
      "cell_type": "markdown",
      "source": [
        "---\n",
        "\n",
        "One last very useful variation on the for command is the following. Imagine you want to iterate over all the elements of two different lists (with same size). How can you do it quickly and easily? There are several ways to do it,\n",
        "\n",
        "---"
      ],
      "metadata": {
        "id": "SZ-JizENfbZE"
      }
    },
    {
      "cell_type": "code",
      "source": [
        "daft = [\"work it \", \"make it \", \"do it \", \"makes us \"]\n",
        "punk = [\"harder\", \"better\", \"faster\", \"stronger\"]\n",
        "\n",
        "print(\"-------------\\n\")\n",
        "\n",
        "#len(list) returns the length of a list\n",
        "for k in range(len(daft)):\n",
        "  print(daft[k]+punk[k])\n",
        "\n",
        "print(\"\\n-------------\\n\")\n",
        "\n",
        "i = 0\n",
        "for word in daft:\n",
        "  print(word+punk[i])\n",
        "  i+=1\n",
        "\n",
        "print(\"\\n-------------\\n\")\n",
        "\n",
        "#the enumerate function returns both an element and its index iteratively\n",
        "for j,word in enumerate(daft):\n",
        "  print(word+punk[j])\n",
        "\n",
        "print(\"\\n-------------\\n\")\n",
        "\n",
        "#the zip loop will stop when one of the two lists stops so it's useful if the lengths are different!\n",
        "for a,b in zip(daft,punk):\n",
        "  print(a+b)\n",
        "\n",
        "print(\"\\n-------------\")\n"
      ],
      "metadata": {
        "id": "0pFxB4GGfx9e",
        "colab": {
          "base_uri": "https://localhost:8080/"
        },
        "outputId": "ea267ad6-2df7-4090-b1e4-9ac96ad7de73"
      },
      "execution_count": null,
      "outputs": [
        {
          "output_type": "stream",
          "name": "stdout",
          "text": [
            "-------------\n",
            "\n",
            "work it harder\n",
            "make it better\n",
            "do it faster\n",
            "makes us stronger\n",
            "\n",
            "-------------\n",
            "\n",
            "work it harder\n",
            "make it better\n",
            "do it faster\n",
            "makes us stronger\n",
            "\n",
            "-------------\n",
            "\n",
            "work it harder\n",
            "make it better\n",
            "do it faster\n",
            "makes us stronger\n",
            "\n",
            "-------------\n",
            "\n",
            "work it harder\n",
            "make it better\n",
            "do it faster\n",
            "makes us stronger\n",
            "\n",
            "-------------\n"
          ]
        }
      ]
    },
    {
      "cell_type": "markdown",
      "metadata": {
        "id": "efY7eG_evuYW"
      },
      "source": [
        "---\n",
        "\n",
        "\n",
        "Now try to do the following excercise. You will generate a list of 700 numbers randomly distributed between 0 and 1000. Using what you learned, write a code that loops over the numbers and looks for a target number, for instance the number 593. If the number is in the list, then it prints a message saying that the search was succesful and it also gives the positional index within the list. If the number is not found, it just prints a message saying so.\n",
        "\n",
        "\n",
        "---"
      ]
    },
    {
      "cell_type": "code",
      "metadata": {
        "id": "TIxbd5U_wKm_",
        "colab": {
          "base_uri": "https://localhost:8080/"
        },
        "outputId": "e8045b2c-244c-4080-af03-3d5d751af0c8"
      },
      "source": [
        "#let's generate a long random list of numbers\n",
        "from random import * #module to generate \"pseudorandom\" numbers\n",
        "seed(1)  #select which random sequence you will generate -- try to change it!\n",
        "randomlist = sample(range(0, 1000), 700) #a list of 700 random numbers between 0 and 1000\n",
        "print(\"List of random numbers:\", randomlist)\n",
        "print(\"\\n------\")\n",
        "\n",
        "#our target numer is:\n",
        "target = 593\n",
        "\n",
        "for number in randomlist:\n",
        "  if number == target:\n",
        "    print(f\"our target {target} is found! \")\n",
        "\n",
        "#signature: Janice Kariithi\n",
        "\n",
        "if target in randomlist:\n",
        "  print(target)\n",
        "else:\n",
        "  print(\"Not found\")\n",
        "#signature: David Nduta\n",
        "\n",
        "if target<0 or target>1000:\n",
        "  print(\"Target should be in the List\")\n",
        "if not target in randomlist:\n",
        "  print(\"Target not in the List\")\n",
        "else:\n",
        "  print(\"Target is in the List\")\n",
        "  print(\"It is in position\" + str(randomlist.index(target)))\n",
        "#signature: Juma Jay Baba"
      ],
      "execution_count": null,
      "outputs": [
        {
          "output_type": "stream",
          "name": "stdout",
          "text": [
            "List of random numbers: [137, 582, 867, 821, 782, 64, 261, 120, 507, 779, 460, 483, 667, 388, 807, 214, 96, 499, 29, 914, 855, 399, 443, 622, 780, 785, 2, 712, 456, 272, 738, 996, 234, 605, 104, 923, 325, 31, 22, 26, 665, 554, 9, 902, 390, 702, 221, 432, 743, 981, 540, 227, 995, 448, 991, 566, 238, 353, 236, 693, 224, 990, 470, 296, 961, 426, 857, 569, 657, 102, 190, 644, 741, 880, 303, 123, 760, 340, 917, 969, 728, 512, 952, 519, 849, 686, 194, 310, 290, 601, 903, 511, 866, 517, 402, 603, 873, 35, 491, 248, 761, 816, 413, 424, 680, 177, 375, 561, 719, 794, 690, 755, 383, 88, 449, 679, 520, 110, 797, 167, 533, 860, 905, 379, 501, 750, 30, 480, 44, 315, 720, 868, 629, 607, 592, 403, 662, 174, 172, 514, 232, 12, 789, 204, 552, 892, 237, 414, 526, 352, 591, 361, 937, 275, 675, 854, 623, 746, 5, 392, 802, 758, 524, 828, 132, 531, 796, 574, 210, 436, 57, 492, 373, 583, 567, 856, 516, 423, 496, 365, 896, 354, 1, 551, 553, 638, 805, 627, 339, 469, 614, 28, 235, 650, 181, 563, 598, 185, 93, 564, 993, 33, 689, 72, 85, 17, 463, 14, 772, 773, 287, 255, 846, 112, 639, 189, 850, 297, 71, 171, 163, 799, 949, 861, 672, 279, 663, 919, 301, 465, 891, 329, 508, 485, 116, 24, 319, 395, 351, 431, 192, 264, 111, 259, 747, 522, 984, 620, 442, 21, 230, 18, 406, 149, 36, 736, 164, 971, 721, 518, 694, 830, 557, 225, 645, 711, 528, 461, 228, 536, 664, 962, 404, 691, 589, 328, 845, 646, 920, 60, 305, 128, 217, 48, 313, 833, 78, 317, 769, 162, 934, 578, 258, 133, 8, 832, 38, 604, 222, 826, 471, 175, 637, 521, 703, 387, 205, 355, 101, 831, 587, 977, 966, 198, 504, 106, 681, 978, 925, 823, 908, 890, 333, 626, 411, 288, 748, 160, 940, 335, 576, 138, 347, 439, 218, 970, 98, 986, 560, 783, 547, 968, 545, 240, 66, 41, 86, 136, 173, 170, 898, 959, 274, 922, 809, 740, 778, 376, 346, 348, 765, 298, 656, 618, 500, 668, 593, 800, 684, 724, 40, 416, 74, 389, 150, 718, 349, 117, 910, 739, 713, 584, 804, 229, 579, 83, 273, 827, 302, 577, 659, 976, 468, 283, 882, 46, 611, 858, 792, 801, 822, 608, 997, 759, 245, 964, 165, 118, 732, 975, 247, 710, 105, 445, 752, 555, 771, 617, 756, 488, 322, 930, 212, 963, 597, 27, 10, 904, 327, 989, 400, 320, 408, 994, 65, 324, 466, 114, 256, 220, 636, 872, 364, 265, 187, 958, 610, 314, 203, 252, 369, 735, 933, 91, 458, 92, 987, 859, 682, 979, 42, 670, 191, 632, 912, 251, 342, 103, 94, 250, 744, 20, 249, 723, 812, 647, 714, 76, 935, 573, 947, 367, 505, 558, 157, 532, 513, 538, 619, 260, 486, 722, 886, 546, 397, 754, 523, 420, 688, 938, 156, 54, 363, 263, 427, 847, 308, 625, 944, 457, 881, 503, 774, 998, 549, 16, 541, 161, 502, 462, 763, 851, 344, 464, 606, 430, 382, 942, 489, 506, 153, 953, 787, 80, 764, 820, 441, 341, 126, 129, 398, 32, 843, 731, 897, 661, 281, 624, 277, 939, 435, 467, 542, 841, 202, 428, 651, 87, 835, 900, 602, 888, 330, 213, 292, 957, 791, 818, 813, 936, 70, 683, 901, 429, 793, 819, 141, 649, 674, 671, 945, 715, 45, 119, 440, 3, 90, 270, 588, 844, 332, 450, 899, 571, 374, 115, 122, 775, 253, 407, 595, 727, 737, 211, 776, 286, 312, 372, 334, 140, 437, 786, 770, 745, 643, 676, 188, 81, 385, 965, 159, 152, 921, 810, 282, 929, 84, 359, 840, 853, 304, 43, 63, 535, 658, 885, 193, 455, 79, 452, 648, 757, 291, 960, 401, 640, 201, 326, 178, 196, 476, 612, 278, 733, 268, 954, 130, 321, 51, 652, 539, 781, 870, 654, 948, 924, 195, 907, 422, 377, 166, 825, 495, 318, 527, 108, 61, 454, 307, 613, 209, 869, 151, 142, 127, 497, 394, 973, 97, 412, 630, 474, 883, 15, 124, 706, 699, 419, 145, 75]\n",
            "\n",
            "------\n",
            "our target 593 is found! \n",
            "593\n",
            "Target is in the List\n",
            "It is in position366\n"
          ]
        }
      ]
    },
    {
      "cell_type": "markdown",
      "source": [
        "# <font color='red'>**Functions**\n"
      ],
      "metadata": {
        "id": "MvGSnP5oYJoi"
      }
    },
    {
      "cell_type": "markdown",
      "source": [
        "##**Definition and call**\n",
        "\n",
        "A `function` is a sequence of statements or commands which performs some kind of task. We use functions to eliminate code duplication - instead of writing all the statements at every place in our code where we want to perform the same task, we define them in one place and refer to them by the function name. If we want to change how that task is performed, we will now mostly only need to change code in one place instead of going painfully through the code and change all the instances.\n",
        "\n",
        "Defining a function does not make it run - when the flow of control reaches the function definition and executes it, Python just learns about the function and what it will do when we run it. To run a function, we have to call it.\n",
        "\n",
        "Of course we have already used some of Python’s built-in functions, such as `print` and `range`. But let's try to define our own function.\n",
        "\n",
        "---"
      ],
      "metadata": {
        "id": "cr7r2ziiRjF3"
      }
    },
    {
      "cell_type": "code",
      "source": [
        "#we want to create a function that takes a number as argument and returns its square.\n",
        "\n",
        "#first we define the question: at this stage no calculation is performed\n",
        "def make_square(a,b):\n",
        "  print(\"Calculating the square of \" + str(a) + \"+\" + str(b)) #you can put a function inside another function!\n",
        "  return\n",
        "\n",
        "#then, at some point in the code, we call the function with its argument\n",
        "sq = make_square(47,34)\n",
        "print(sq)\n",
        "#or, alternatively\n",
        "print(make_square(25, 11))"
      ],
      "metadata": {
        "id": "EJMBLXOXRoPp",
        "colab": {
          "base_uri": "https://localhost:8080/"
        },
        "outputId": "9e708352-4d29-48ad-cc25-10fb69f9a9ba"
      },
      "execution_count": null,
      "outputs": [
        {
          "output_type": "stream",
          "name": "stdout",
          "text": [
            "Calculating the square of 47+34\n",
            "None\n",
            "Calculating the square of 25+11\n",
            "None\n"
          ]
        }
      ]
    },
    {
      "cell_type": "markdown",
      "source": [
        "---\n",
        "\n",
        "Functions can have more than one input parameter and it can be of any data type."
      ],
      "metadata": {
        "id": "bqUDfzH0HBl-"
      }
    },
    {
      "cell_type": "markdown",
      "source": [
        "##**Recursive functions**\n",
        "\n",
        "We saw already from the previous example that you can put a function inside the definition of another function. In fact you can do even more: you can put the same function inside itself! This is called a recursive function and it is quite useful when dealing with calculations through algorithms. A classical example is the calculation of the n-th element of the Fibonacci sequence:\n",
        "\n",
        "---"
      ],
      "metadata": {
        "id": "HW80EY1rWkr9"
      }
    },
    {
      "cell_type": "code",
      "source": [
        "#in the Fibonacci sequence, each element is the sum of the two previous ones\n",
        "def fibonacci(n):\n",
        "    if n == 0:\n",
        "        return 0\n",
        "\n",
        "    if n == 1:\n",
        "        return 1\n",
        "\n",
        "    return fibonacci(n - 1) + fibonacci(n - 2)\n",
        "\n",
        "\n",
        "print(fibonacci(99))"
      ],
      "metadata": {
        "id": "tUtGlNDgUyix",
        "colab": {
          "base_uri": "https://localhost:8080/",
          "height": 329
        },
        "outputId": "b85c64c9-3685-4169-f659-a84175370620"
      },
      "execution_count": null,
      "outputs": [
        {
          "output_type": "error",
          "ename": "KeyboardInterrupt",
          "evalue": "",
          "traceback": [
            "\u001b[0;31m---------------------------------------------------------------------------\u001b[0m",
            "\u001b[0;31mKeyboardInterrupt\u001b[0m                         Traceback (most recent call last)",
            "\u001b[0;32m<ipython-input-11-2d456ad5f440>\u001b[0m in \u001b[0;36m<cell line: 12>\u001b[0;34m()\u001b[0m\n\u001b[1;32m     10\u001b[0m \u001b[0;34m\u001b[0m\u001b[0m\n\u001b[1;32m     11\u001b[0m \u001b[0;34m\u001b[0m\u001b[0m\n\u001b[0;32m---> 12\u001b[0;31m \u001b[0mprint\u001b[0m\u001b[0;34m(\u001b[0m\u001b[0mfibonacci\u001b[0m\u001b[0;34m(\u001b[0m\u001b[0;36m99\u001b[0m\u001b[0;34m)\u001b[0m\u001b[0;34m)\u001b[0m\u001b[0;34m\u001b[0m\u001b[0;34m\u001b[0m\u001b[0m\n\u001b[0m",
            "\u001b[0;32m<ipython-input-11-2d456ad5f440>\u001b[0m in \u001b[0;36mfibonacci\u001b[0;34m(n)\u001b[0m\n\u001b[1;32m      7\u001b[0m         \u001b[0;32mreturn\u001b[0m \u001b[0;36m1\u001b[0m\u001b[0;34m\u001b[0m\u001b[0;34m\u001b[0m\u001b[0m\n\u001b[1;32m      8\u001b[0m \u001b[0;34m\u001b[0m\u001b[0m\n\u001b[0;32m----> 9\u001b[0;31m     \u001b[0;32mreturn\u001b[0m \u001b[0mfibonacci\u001b[0m\u001b[0;34m(\u001b[0m\u001b[0mn\u001b[0m \u001b[0;34m-\u001b[0m \u001b[0;36m1\u001b[0m\u001b[0;34m)\u001b[0m \u001b[0;34m+\u001b[0m \u001b[0mfibonacci\u001b[0m\u001b[0;34m(\u001b[0m\u001b[0mn\u001b[0m \u001b[0;34m-\u001b[0m \u001b[0;36m2\u001b[0m\u001b[0;34m)\u001b[0m\u001b[0;34m\u001b[0m\u001b[0;34m\u001b[0m\u001b[0m\n\u001b[0m\u001b[1;32m     10\u001b[0m \u001b[0;34m\u001b[0m\u001b[0m\n\u001b[1;32m     11\u001b[0m \u001b[0;34m\u001b[0m\u001b[0m\n",
            "\u001b[0;32m<ipython-input-11-2d456ad5f440>\u001b[0m in \u001b[0;36mfibonacci\u001b[0;34m(n)\u001b[0m\n\u001b[1;32m      7\u001b[0m         \u001b[0;32mreturn\u001b[0m \u001b[0;36m1\u001b[0m\u001b[0;34m\u001b[0m\u001b[0;34m\u001b[0m\u001b[0m\n\u001b[1;32m      8\u001b[0m \u001b[0;34m\u001b[0m\u001b[0m\n\u001b[0;32m----> 9\u001b[0;31m     \u001b[0;32mreturn\u001b[0m \u001b[0mfibonacci\u001b[0m\u001b[0;34m(\u001b[0m\u001b[0mn\u001b[0m \u001b[0;34m-\u001b[0m \u001b[0;36m1\u001b[0m\u001b[0;34m)\u001b[0m \u001b[0;34m+\u001b[0m \u001b[0mfibonacci\u001b[0m\u001b[0;34m(\u001b[0m\u001b[0mn\u001b[0m \u001b[0;34m-\u001b[0m \u001b[0;36m2\u001b[0m\u001b[0;34m)\u001b[0m\u001b[0;34m\u001b[0m\u001b[0;34m\u001b[0m\u001b[0m\n\u001b[0m\u001b[1;32m     10\u001b[0m \u001b[0;34m\u001b[0m\u001b[0m\n\u001b[1;32m     11\u001b[0m \u001b[0;34m\u001b[0m\u001b[0m\n",
            "\u001b[0;32m<ipython-input-11-2d456ad5f440>\u001b[0m in \u001b[0;36mfibonacci\u001b[0;34m(n)\u001b[0m\n\u001b[1;32m      7\u001b[0m         \u001b[0;32mreturn\u001b[0m \u001b[0;36m1\u001b[0m\u001b[0;34m\u001b[0m\u001b[0;34m\u001b[0m\u001b[0m\n\u001b[1;32m      8\u001b[0m \u001b[0;34m\u001b[0m\u001b[0m\n\u001b[0;32m----> 9\u001b[0;31m     \u001b[0;32mreturn\u001b[0m \u001b[0mfibonacci\u001b[0m\u001b[0;34m(\u001b[0m\u001b[0mn\u001b[0m \u001b[0;34m-\u001b[0m \u001b[0;36m1\u001b[0m\u001b[0;34m)\u001b[0m \u001b[0;34m+\u001b[0m \u001b[0mfibonacci\u001b[0m\u001b[0;34m(\u001b[0m\u001b[0mn\u001b[0m \u001b[0;34m-\u001b[0m \u001b[0;36m2\u001b[0m\u001b[0;34m)\u001b[0m\u001b[0;34m\u001b[0m\u001b[0;34m\u001b[0m\u001b[0m\n\u001b[0m\u001b[1;32m     10\u001b[0m \u001b[0;34m\u001b[0m\u001b[0m\n\u001b[1;32m     11\u001b[0m \u001b[0;34m\u001b[0m\u001b[0m\n",
            "\u001b[0;32m<ipython-input-11-2d456ad5f440>\u001b[0m in \u001b[0;36mfibonacci\u001b[0;34m(n)\u001b[0m\n\u001b[1;32m      7\u001b[0m         \u001b[0;32mreturn\u001b[0m \u001b[0;36m1\u001b[0m\u001b[0;34m\u001b[0m\u001b[0;34m\u001b[0m\u001b[0m\n\u001b[1;32m      8\u001b[0m \u001b[0;34m\u001b[0m\u001b[0m\n\u001b[0;32m----> 9\u001b[0;31m     \u001b[0;32mreturn\u001b[0m \u001b[0mfibonacci\u001b[0m\u001b[0;34m(\u001b[0m\u001b[0mn\u001b[0m \u001b[0;34m-\u001b[0m \u001b[0;36m1\u001b[0m\u001b[0;34m)\u001b[0m \u001b[0;34m+\u001b[0m \u001b[0mfibonacci\u001b[0m\u001b[0;34m(\u001b[0m\u001b[0mn\u001b[0m \u001b[0;34m-\u001b[0m \u001b[0;36m2\u001b[0m\u001b[0;34m)\u001b[0m\u001b[0;34m\u001b[0m\u001b[0;34m\u001b[0m\u001b[0m\n\u001b[0m\u001b[1;32m     10\u001b[0m \u001b[0;34m\u001b[0m\u001b[0m\n\u001b[1;32m     11\u001b[0m \u001b[0;34m\u001b[0m\u001b[0m\n",
            "\u001b[0;32m<ipython-input-11-2d456ad5f440>\u001b[0m in \u001b[0;36mfibonacci\u001b[0;34m(n)\u001b[0m\n\u001b[1;32m      7\u001b[0m         \u001b[0;32mreturn\u001b[0m \u001b[0;36m1\u001b[0m\u001b[0;34m\u001b[0m\u001b[0;34m\u001b[0m\u001b[0m\n\u001b[1;32m      8\u001b[0m \u001b[0;34m\u001b[0m\u001b[0m\n\u001b[0;32m----> 9\u001b[0;31m     \u001b[0;32mreturn\u001b[0m \u001b[0mfibonacci\u001b[0m\u001b[0;34m(\u001b[0m\u001b[0mn\u001b[0m \u001b[0;34m-\u001b[0m \u001b[0;36m1\u001b[0m\u001b[0;34m)\u001b[0m \u001b[0;34m+\u001b[0m \u001b[0mfibonacci\u001b[0m\u001b[0;34m(\u001b[0m\u001b[0mn\u001b[0m \u001b[0;34m-\u001b[0m \u001b[0;36m2\u001b[0m\u001b[0;34m)\u001b[0m\u001b[0;34m\u001b[0m\u001b[0;34m\u001b[0m\u001b[0m\n\u001b[0m\u001b[1;32m     10\u001b[0m \u001b[0;34m\u001b[0m\u001b[0m\n\u001b[1;32m     11\u001b[0m \u001b[0;34m\u001b[0m\u001b[0m\n",
            "\u001b[0;32m<ipython-input-11-2d456ad5f440>\u001b[0m in \u001b[0;36mfibonacci\u001b[0;34m(n)\u001b[0m\n\u001b[1;32m      7\u001b[0m         \u001b[0;32mreturn\u001b[0m \u001b[0;36m1\u001b[0m\u001b[0;34m\u001b[0m\u001b[0;34m\u001b[0m\u001b[0m\n\u001b[1;32m      8\u001b[0m \u001b[0;34m\u001b[0m\u001b[0m\n\u001b[0;32m----> 9\u001b[0;31m     \u001b[0;32mreturn\u001b[0m \u001b[0mfibonacci\u001b[0m\u001b[0;34m(\u001b[0m\u001b[0mn\u001b[0m \u001b[0;34m-\u001b[0m \u001b[0;36m1\u001b[0m\u001b[0;34m)\u001b[0m \u001b[0;34m+\u001b[0m \u001b[0mfibonacci\u001b[0m\u001b[0;34m(\u001b[0m\u001b[0mn\u001b[0m \u001b[0;34m-\u001b[0m \u001b[0;36m2\u001b[0m\u001b[0;34m)\u001b[0m\u001b[0;34m\u001b[0m\u001b[0;34m\u001b[0m\u001b[0m\n\u001b[0m\u001b[1;32m     10\u001b[0m \u001b[0;34m\u001b[0m\u001b[0m\n\u001b[1;32m     11\u001b[0m \u001b[0;34m\u001b[0m\u001b[0m\n",
            "\u001b[0;32m<ipython-input-11-2d456ad5f440>\u001b[0m in \u001b[0;36mfibonacci\u001b[0;34m(n)\u001b[0m\n\u001b[1;32m      7\u001b[0m         \u001b[0;32mreturn\u001b[0m \u001b[0;36m1\u001b[0m\u001b[0;34m\u001b[0m\u001b[0;34m\u001b[0m\u001b[0m\n\u001b[1;32m      8\u001b[0m \u001b[0;34m\u001b[0m\u001b[0m\n\u001b[0;32m----> 9\u001b[0;31m     \u001b[0;32mreturn\u001b[0m \u001b[0mfibonacci\u001b[0m\u001b[0;34m(\u001b[0m\u001b[0mn\u001b[0m \u001b[0;34m-\u001b[0m \u001b[0;36m1\u001b[0m\u001b[0;34m)\u001b[0m \u001b[0;34m+\u001b[0m \u001b[0mfibonacci\u001b[0m\u001b[0;34m(\u001b[0m\u001b[0mn\u001b[0m \u001b[0;34m-\u001b[0m \u001b[0;36m2\u001b[0m\u001b[0;34m)\u001b[0m\u001b[0;34m\u001b[0m\u001b[0;34m\u001b[0m\u001b[0m\n\u001b[0m\u001b[1;32m     10\u001b[0m \u001b[0;34m\u001b[0m\u001b[0m\n\u001b[1;32m     11\u001b[0m \u001b[0;34m\u001b[0m\u001b[0m\n",
            "\u001b[0;32m<ipython-input-11-2d456ad5f440>\u001b[0m in \u001b[0;36mfibonacci\u001b[0;34m(n)\u001b[0m\n\u001b[1;32m      7\u001b[0m         \u001b[0;32mreturn\u001b[0m \u001b[0;36m1\u001b[0m\u001b[0;34m\u001b[0m\u001b[0;34m\u001b[0m\u001b[0m\n\u001b[1;32m      8\u001b[0m \u001b[0;34m\u001b[0m\u001b[0m\n\u001b[0;32m----> 9\u001b[0;31m     \u001b[0;32mreturn\u001b[0m \u001b[0mfibonacci\u001b[0m\u001b[0;34m(\u001b[0m\u001b[0mn\u001b[0m \u001b[0;34m-\u001b[0m \u001b[0;36m1\u001b[0m\u001b[0;34m)\u001b[0m \u001b[0;34m+\u001b[0m \u001b[0mfibonacci\u001b[0m\u001b[0;34m(\u001b[0m\u001b[0mn\u001b[0m \u001b[0;34m-\u001b[0m \u001b[0;36m2\u001b[0m\u001b[0;34m)\u001b[0m\u001b[0;34m\u001b[0m\u001b[0;34m\u001b[0m\u001b[0m\n\u001b[0m\u001b[1;32m     10\u001b[0m \u001b[0;34m\u001b[0m\u001b[0m\n\u001b[1;32m     11\u001b[0m \u001b[0;34m\u001b[0m\u001b[0m\n",
            "\u001b[0;32m<ipython-input-11-2d456ad5f440>\u001b[0m in \u001b[0;36mfibonacci\u001b[0;34m(n)\u001b[0m\n\u001b[1;32m      7\u001b[0m         \u001b[0;32mreturn\u001b[0m \u001b[0;36m1\u001b[0m\u001b[0;34m\u001b[0m\u001b[0;34m\u001b[0m\u001b[0m\n\u001b[1;32m      8\u001b[0m \u001b[0;34m\u001b[0m\u001b[0m\n\u001b[0;32m----> 9\u001b[0;31m     \u001b[0;32mreturn\u001b[0m \u001b[0mfibonacci\u001b[0m\u001b[0;34m(\u001b[0m\u001b[0mn\u001b[0m \u001b[0;34m-\u001b[0m \u001b[0;36m1\u001b[0m\u001b[0;34m)\u001b[0m \u001b[0;34m+\u001b[0m \u001b[0mfibonacci\u001b[0m\u001b[0;34m(\u001b[0m\u001b[0mn\u001b[0m \u001b[0;34m-\u001b[0m \u001b[0;36m2\u001b[0m\u001b[0;34m)\u001b[0m\u001b[0;34m\u001b[0m\u001b[0;34m\u001b[0m\u001b[0m\n\u001b[0m\u001b[1;32m     10\u001b[0m \u001b[0;34m\u001b[0m\u001b[0m\n\u001b[1;32m     11\u001b[0m \u001b[0;34m\u001b[0m\u001b[0m\n",
            "\u001b[0;32m<ipython-input-11-2d456ad5f440>\u001b[0m in \u001b[0;36mfibonacci\u001b[0;34m(n)\u001b[0m\n\u001b[1;32m      7\u001b[0m         \u001b[0;32mreturn\u001b[0m \u001b[0;36m1\u001b[0m\u001b[0;34m\u001b[0m\u001b[0;34m\u001b[0m\u001b[0m\n\u001b[1;32m      8\u001b[0m \u001b[0;34m\u001b[0m\u001b[0m\n\u001b[0;32m----> 9\u001b[0;31m     \u001b[0;32mreturn\u001b[0m \u001b[0mfibonacci\u001b[0m\u001b[0;34m(\u001b[0m\u001b[0mn\u001b[0m \u001b[0;34m-\u001b[0m \u001b[0;36m1\u001b[0m\u001b[0;34m)\u001b[0m \u001b[0;34m+\u001b[0m \u001b[0mfibonacci\u001b[0m\u001b[0;34m(\u001b[0m\u001b[0mn\u001b[0m \u001b[0;34m-\u001b[0m \u001b[0;36m2\u001b[0m\u001b[0;34m)\u001b[0m\u001b[0;34m\u001b[0m\u001b[0;34m\u001b[0m\u001b[0m\n\u001b[0m\u001b[1;32m     10\u001b[0m \u001b[0;34m\u001b[0m\u001b[0m\n\u001b[1;32m     11\u001b[0m \u001b[0;34m\u001b[0m\u001b[0m\n",
            "\u001b[0;32m<ipython-input-11-2d456ad5f440>\u001b[0m in \u001b[0;36mfibonacci\u001b[0;34m(n)\u001b[0m\n\u001b[1;32m      7\u001b[0m         \u001b[0;32mreturn\u001b[0m \u001b[0;36m1\u001b[0m\u001b[0;34m\u001b[0m\u001b[0;34m\u001b[0m\u001b[0m\n\u001b[1;32m      8\u001b[0m \u001b[0;34m\u001b[0m\u001b[0m\n\u001b[0;32m----> 9\u001b[0;31m     \u001b[0;32mreturn\u001b[0m \u001b[0mfibonacci\u001b[0m\u001b[0;34m(\u001b[0m\u001b[0mn\u001b[0m \u001b[0;34m-\u001b[0m \u001b[0;36m1\u001b[0m\u001b[0;34m)\u001b[0m \u001b[0;34m+\u001b[0m \u001b[0mfibonacci\u001b[0m\u001b[0;34m(\u001b[0m\u001b[0mn\u001b[0m \u001b[0;34m-\u001b[0m \u001b[0;36m2\u001b[0m\u001b[0;34m)\u001b[0m\u001b[0;34m\u001b[0m\u001b[0;34m\u001b[0m\u001b[0m\n\u001b[0m\u001b[1;32m     10\u001b[0m \u001b[0;34m\u001b[0m\u001b[0m\n\u001b[1;32m     11\u001b[0m \u001b[0;34m\u001b[0m\u001b[0m\n",
            "\u001b[0;32m<ipython-input-11-2d456ad5f440>\u001b[0m in \u001b[0;36mfibonacci\u001b[0;34m(n)\u001b[0m\n\u001b[1;32m      7\u001b[0m         \u001b[0;32mreturn\u001b[0m \u001b[0;36m1\u001b[0m\u001b[0;34m\u001b[0m\u001b[0;34m\u001b[0m\u001b[0m\n\u001b[1;32m      8\u001b[0m \u001b[0;34m\u001b[0m\u001b[0m\n\u001b[0;32m----> 9\u001b[0;31m     \u001b[0;32mreturn\u001b[0m \u001b[0mfibonacci\u001b[0m\u001b[0;34m(\u001b[0m\u001b[0mn\u001b[0m \u001b[0;34m-\u001b[0m \u001b[0;36m1\u001b[0m\u001b[0;34m)\u001b[0m \u001b[0;34m+\u001b[0m \u001b[0mfibonacci\u001b[0m\u001b[0;34m(\u001b[0m\u001b[0mn\u001b[0m \u001b[0;34m-\u001b[0m \u001b[0;36m2\u001b[0m\u001b[0;34m)\u001b[0m\u001b[0;34m\u001b[0m\u001b[0;34m\u001b[0m\u001b[0m\n\u001b[0m\u001b[1;32m     10\u001b[0m \u001b[0;34m\u001b[0m\u001b[0m\n\u001b[1;32m     11\u001b[0m \u001b[0;34m\u001b[0m\u001b[0m\n",
            "\u001b[0;32m<ipython-input-11-2d456ad5f440>\u001b[0m in \u001b[0;36mfibonacci\u001b[0;34m(n)\u001b[0m\n\u001b[1;32m      7\u001b[0m         \u001b[0;32mreturn\u001b[0m \u001b[0;36m1\u001b[0m\u001b[0;34m\u001b[0m\u001b[0;34m\u001b[0m\u001b[0m\n\u001b[1;32m      8\u001b[0m \u001b[0;34m\u001b[0m\u001b[0m\n\u001b[0;32m----> 9\u001b[0;31m     \u001b[0;32mreturn\u001b[0m \u001b[0mfibonacci\u001b[0m\u001b[0;34m(\u001b[0m\u001b[0mn\u001b[0m \u001b[0;34m-\u001b[0m \u001b[0;36m1\u001b[0m\u001b[0;34m)\u001b[0m \u001b[0;34m+\u001b[0m \u001b[0mfibonacci\u001b[0m\u001b[0;34m(\u001b[0m\u001b[0mn\u001b[0m \u001b[0;34m-\u001b[0m \u001b[0;36m2\u001b[0m\u001b[0;34m)\u001b[0m\u001b[0;34m\u001b[0m\u001b[0;34m\u001b[0m\u001b[0m\n\u001b[0m\u001b[1;32m     10\u001b[0m \u001b[0;34m\u001b[0m\u001b[0m\n\u001b[1;32m     11\u001b[0m \u001b[0;34m\u001b[0m\u001b[0m\n",
            "\u001b[0;32m<ipython-input-11-2d456ad5f440>\u001b[0m in \u001b[0;36mfibonacci\u001b[0;34m(n)\u001b[0m\n\u001b[1;32m      7\u001b[0m         \u001b[0;32mreturn\u001b[0m \u001b[0;36m1\u001b[0m\u001b[0;34m\u001b[0m\u001b[0;34m\u001b[0m\u001b[0m\n\u001b[1;32m      8\u001b[0m \u001b[0;34m\u001b[0m\u001b[0m\n\u001b[0;32m----> 9\u001b[0;31m     \u001b[0;32mreturn\u001b[0m \u001b[0mfibonacci\u001b[0m\u001b[0;34m(\u001b[0m\u001b[0mn\u001b[0m \u001b[0;34m-\u001b[0m \u001b[0;36m1\u001b[0m\u001b[0;34m)\u001b[0m \u001b[0;34m+\u001b[0m \u001b[0mfibonacci\u001b[0m\u001b[0;34m(\u001b[0m\u001b[0mn\u001b[0m \u001b[0;34m-\u001b[0m \u001b[0;36m2\u001b[0m\u001b[0;34m)\u001b[0m\u001b[0;34m\u001b[0m\u001b[0;34m\u001b[0m\u001b[0m\n\u001b[0m\u001b[1;32m     10\u001b[0m \u001b[0;34m\u001b[0m\u001b[0m\n\u001b[1;32m     11\u001b[0m \u001b[0;34m\u001b[0m\u001b[0m\n",
            "\u001b[0;32m<ipython-input-11-2d456ad5f440>\u001b[0m in \u001b[0;36mfibonacci\u001b[0;34m(n)\u001b[0m\n\u001b[1;32m      7\u001b[0m         \u001b[0;32mreturn\u001b[0m \u001b[0;36m1\u001b[0m\u001b[0;34m\u001b[0m\u001b[0;34m\u001b[0m\u001b[0m\n\u001b[1;32m      8\u001b[0m \u001b[0;34m\u001b[0m\u001b[0m\n\u001b[0;32m----> 9\u001b[0;31m     \u001b[0;32mreturn\u001b[0m \u001b[0mfibonacci\u001b[0m\u001b[0;34m(\u001b[0m\u001b[0mn\u001b[0m \u001b[0;34m-\u001b[0m \u001b[0;36m1\u001b[0m\u001b[0;34m)\u001b[0m \u001b[0;34m+\u001b[0m \u001b[0mfibonacci\u001b[0m\u001b[0;34m(\u001b[0m\u001b[0mn\u001b[0m \u001b[0;34m-\u001b[0m \u001b[0;36m2\u001b[0m\u001b[0;34m)\u001b[0m\u001b[0;34m\u001b[0m\u001b[0;34m\u001b[0m\u001b[0m\n\u001b[0m\u001b[1;32m     10\u001b[0m \u001b[0;34m\u001b[0m\u001b[0m\n\u001b[1;32m     11\u001b[0m \u001b[0;34m\u001b[0m\u001b[0m\n",
            "\u001b[0;32m<ipython-input-11-2d456ad5f440>\u001b[0m in \u001b[0;36mfibonacci\u001b[0;34m(n)\u001b[0m\n\u001b[1;32m      7\u001b[0m         \u001b[0;32mreturn\u001b[0m \u001b[0;36m1\u001b[0m\u001b[0;34m\u001b[0m\u001b[0;34m\u001b[0m\u001b[0m\n\u001b[1;32m      8\u001b[0m \u001b[0;34m\u001b[0m\u001b[0m\n\u001b[0;32m----> 9\u001b[0;31m     \u001b[0;32mreturn\u001b[0m \u001b[0mfibonacci\u001b[0m\u001b[0;34m(\u001b[0m\u001b[0mn\u001b[0m \u001b[0;34m-\u001b[0m \u001b[0;36m1\u001b[0m\u001b[0;34m)\u001b[0m \u001b[0;34m+\u001b[0m \u001b[0mfibonacci\u001b[0m\u001b[0;34m(\u001b[0m\u001b[0mn\u001b[0m \u001b[0;34m-\u001b[0m \u001b[0;36m2\u001b[0m\u001b[0;34m)\u001b[0m\u001b[0;34m\u001b[0m\u001b[0;34m\u001b[0m\u001b[0m\n\u001b[0m\u001b[1;32m     10\u001b[0m \u001b[0;34m\u001b[0m\u001b[0m\n\u001b[1;32m     11\u001b[0m \u001b[0;34m\u001b[0m\u001b[0m\n",
            "\u001b[0;32m<ipython-input-11-2d456ad5f440>\u001b[0m in \u001b[0;36mfibonacci\u001b[0;34m(n)\u001b[0m\n\u001b[1;32m      7\u001b[0m         \u001b[0;32mreturn\u001b[0m \u001b[0;36m1\u001b[0m\u001b[0;34m\u001b[0m\u001b[0;34m\u001b[0m\u001b[0m\n\u001b[1;32m      8\u001b[0m \u001b[0;34m\u001b[0m\u001b[0m\n\u001b[0;32m----> 9\u001b[0;31m     \u001b[0;32mreturn\u001b[0m \u001b[0mfibonacci\u001b[0m\u001b[0;34m(\u001b[0m\u001b[0mn\u001b[0m \u001b[0;34m-\u001b[0m \u001b[0;36m1\u001b[0m\u001b[0;34m)\u001b[0m \u001b[0;34m+\u001b[0m \u001b[0mfibonacci\u001b[0m\u001b[0;34m(\u001b[0m\u001b[0mn\u001b[0m \u001b[0;34m-\u001b[0m \u001b[0;36m2\u001b[0m\u001b[0;34m)\u001b[0m\u001b[0;34m\u001b[0m\u001b[0;34m\u001b[0m\u001b[0m\n\u001b[0m\u001b[1;32m     10\u001b[0m \u001b[0;34m\u001b[0m\u001b[0m\n\u001b[1;32m     11\u001b[0m \u001b[0;34m\u001b[0m\u001b[0m\n",
            "\u001b[0;32m<ipython-input-11-2d456ad5f440>\u001b[0m in \u001b[0;36mfibonacci\u001b[0;34m(n)\u001b[0m\n\u001b[1;32m      7\u001b[0m         \u001b[0;32mreturn\u001b[0m \u001b[0;36m1\u001b[0m\u001b[0;34m\u001b[0m\u001b[0;34m\u001b[0m\u001b[0m\n\u001b[1;32m      8\u001b[0m \u001b[0;34m\u001b[0m\u001b[0m\n\u001b[0;32m----> 9\u001b[0;31m     \u001b[0;32mreturn\u001b[0m \u001b[0mfibonacci\u001b[0m\u001b[0;34m(\u001b[0m\u001b[0mn\u001b[0m \u001b[0;34m-\u001b[0m \u001b[0;36m1\u001b[0m\u001b[0;34m)\u001b[0m \u001b[0;34m+\u001b[0m \u001b[0mfibonacci\u001b[0m\u001b[0;34m(\u001b[0m\u001b[0mn\u001b[0m \u001b[0;34m-\u001b[0m \u001b[0;36m2\u001b[0m\u001b[0;34m)\u001b[0m\u001b[0;34m\u001b[0m\u001b[0;34m\u001b[0m\u001b[0m\n\u001b[0m\u001b[1;32m     10\u001b[0m \u001b[0;34m\u001b[0m\u001b[0m\n\u001b[1;32m     11\u001b[0m \u001b[0;34m\u001b[0m\u001b[0m\n",
            "\u001b[0;32m<ipython-input-11-2d456ad5f440>\u001b[0m in \u001b[0;36mfibonacci\u001b[0;34m(n)\u001b[0m\n\u001b[1;32m      7\u001b[0m         \u001b[0;32mreturn\u001b[0m \u001b[0;36m1\u001b[0m\u001b[0;34m\u001b[0m\u001b[0;34m\u001b[0m\u001b[0m\n\u001b[1;32m      8\u001b[0m \u001b[0;34m\u001b[0m\u001b[0m\n\u001b[0;32m----> 9\u001b[0;31m     \u001b[0;32mreturn\u001b[0m \u001b[0mfibonacci\u001b[0m\u001b[0;34m(\u001b[0m\u001b[0mn\u001b[0m \u001b[0;34m-\u001b[0m \u001b[0;36m1\u001b[0m\u001b[0;34m)\u001b[0m \u001b[0;34m+\u001b[0m \u001b[0mfibonacci\u001b[0m\u001b[0;34m(\u001b[0m\u001b[0mn\u001b[0m \u001b[0;34m-\u001b[0m \u001b[0;36m2\u001b[0m\u001b[0;34m)\u001b[0m\u001b[0;34m\u001b[0m\u001b[0;34m\u001b[0m\u001b[0m\n\u001b[0m\u001b[1;32m     10\u001b[0m \u001b[0;34m\u001b[0m\u001b[0m\n\u001b[1;32m     11\u001b[0m \u001b[0;34m\u001b[0m\u001b[0m\n",
            "\u001b[0;32m<ipython-input-11-2d456ad5f440>\u001b[0m in \u001b[0;36mfibonacci\u001b[0;34m(n)\u001b[0m\n\u001b[1;32m      7\u001b[0m         \u001b[0;32mreturn\u001b[0m \u001b[0;36m1\u001b[0m\u001b[0;34m\u001b[0m\u001b[0;34m\u001b[0m\u001b[0m\n\u001b[1;32m      8\u001b[0m \u001b[0;34m\u001b[0m\u001b[0m\n\u001b[0;32m----> 9\u001b[0;31m     \u001b[0;32mreturn\u001b[0m \u001b[0mfibonacci\u001b[0m\u001b[0;34m(\u001b[0m\u001b[0mn\u001b[0m \u001b[0;34m-\u001b[0m \u001b[0;36m1\u001b[0m\u001b[0;34m)\u001b[0m \u001b[0;34m+\u001b[0m \u001b[0mfibonacci\u001b[0m\u001b[0;34m(\u001b[0m\u001b[0mn\u001b[0m \u001b[0;34m-\u001b[0m \u001b[0;36m2\u001b[0m\u001b[0;34m)\u001b[0m\u001b[0;34m\u001b[0m\u001b[0;34m\u001b[0m\u001b[0m\n\u001b[0m\u001b[1;32m     10\u001b[0m \u001b[0;34m\u001b[0m\u001b[0m\n\u001b[1;32m     11\u001b[0m \u001b[0;34m\u001b[0m\u001b[0m\n",
            "\u001b[0;32m<ipython-input-11-2d456ad5f440>\u001b[0m in \u001b[0;36mfibonacci\u001b[0;34m(n)\u001b[0m\n\u001b[1;32m      7\u001b[0m         \u001b[0;32mreturn\u001b[0m \u001b[0;36m1\u001b[0m\u001b[0;34m\u001b[0m\u001b[0;34m\u001b[0m\u001b[0m\n\u001b[1;32m      8\u001b[0m \u001b[0;34m\u001b[0m\u001b[0m\n\u001b[0;32m----> 9\u001b[0;31m     \u001b[0;32mreturn\u001b[0m \u001b[0mfibonacci\u001b[0m\u001b[0;34m(\u001b[0m\u001b[0mn\u001b[0m \u001b[0;34m-\u001b[0m \u001b[0;36m1\u001b[0m\u001b[0;34m)\u001b[0m \u001b[0;34m+\u001b[0m \u001b[0mfibonacci\u001b[0m\u001b[0;34m(\u001b[0m\u001b[0mn\u001b[0m \u001b[0;34m-\u001b[0m \u001b[0;36m2\u001b[0m\u001b[0;34m)\u001b[0m\u001b[0;34m\u001b[0m\u001b[0;34m\u001b[0m\u001b[0m\n\u001b[0m\u001b[1;32m     10\u001b[0m \u001b[0;34m\u001b[0m\u001b[0m\n\u001b[1;32m     11\u001b[0m \u001b[0;34m\u001b[0m\u001b[0m\n",
            "\u001b[0;32m<ipython-input-11-2d456ad5f440>\u001b[0m in \u001b[0;36mfibonacci\u001b[0;34m(n)\u001b[0m\n\u001b[1;32m      7\u001b[0m         \u001b[0;32mreturn\u001b[0m \u001b[0;36m1\u001b[0m\u001b[0;34m\u001b[0m\u001b[0;34m\u001b[0m\u001b[0m\n\u001b[1;32m      8\u001b[0m \u001b[0;34m\u001b[0m\u001b[0m\n\u001b[0;32m----> 9\u001b[0;31m     \u001b[0;32mreturn\u001b[0m \u001b[0mfibonacci\u001b[0m\u001b[0;34m(\u001b[0m\u001b[0mn\u001b[0m \u001b[0;34m-\u001b[0m \u001b[0;36m1\u001b[0m\u001b[0;34m)\u001b[0m \u001b[0;34m+\u001b[0m \u001b[0mfibonacci\u001b[0m\u001b[0;34m(\u001b[0m\u001b[0mn\u001b[0m \u001b[0;34m-\u001b[0m \u001b[0;36m2\u001b[0m\u001b[0;34m)\u001b[0m\u001b[0;34m\u001b[0m\u001b[0;34m\u001b[0m\u001b[0m\n\u001b[0m\u001b[1;32m     10\u001b[0m \u001b[0;34m\u001b[0m\u001b[0m\n\u001b[1;32m     11\u001b[0m \u001b[0;34m\u001b[0m\u001b[0m\n",
            "\u001b[0;32m<ipython-input-11-2d456ad5f440>\u001b[0m in \u001b[0;36mfibonacci\u001b[0;34m(n)\u001b[0m\n\u001b[1;32m      7\u001b[0m         \u001b[0;32mreturn\u001b[0m \u001b[0;36m1\u001b[0m\u001b[0;34m\u001b[0m\u001b[0;34m\u001b[0m\u001b[0m\n\u001b[1;32m      8\u001b[0m \u001b[0;34m\u001b[0m\u001b[0m\n\u001b[0;32m----> 9\u001b[0;31m     \u001b[0;32mreturn\u001b[0m \u001b[0mfibonacci\u001b[0m\u001b[0;34m(\u001b[0m\u001b[0mn\u001b[0m \u001b[0;34m-\u001b[0m \u001b[0;36m1\u001b[0m\u001b[0;34m)\u001b[0m \u001b[0;34m+\u001b[0m \u001b[0mfibonacci\u001b[0m\u001b[0;34m(\u001b[0m\u001b[0mn\u001b[0m \u001b[0;34m-\u001b[0m \u001b[0;36m2\u001b[0m\u001b[0;34m)\u001b[0m\u001b[0;34m\u001b[0m\u001b[0;34m\u001b[0m\u001b[0m\n\u001b[0m\u001b[1;32m     10\u001b[0m \u001b[0;34m\u001b[0m\u001b[0m\n\u001b[1;32m     11\u001b[0m \u001b[0;34m\u001b[0m\u001b[0m\n",
            "\u001b[0;32m<ipython-input-11-2d456ad5f440>\u001b[0m in \u001b[0;36mfibonacci\u001b[0;34m(n)\u001b[0m\n\u001b[1;32m      7\u001b[0m         \u001b[0;32mreturn\u001b[0m \u001b[0;36m1\u001b[0m\u001b[0;34m\u001b[0m\u001b[0;34m\u001b[0m\u001b[0m\n\u001b[1;32m      8\u001b[0m \u001b[0;34m\u001b[0m\u001b[0m\n\u001b[0;32m----> 9\u001b[0;31m     \u001b[0;32mreturn\u001b[0m \u001b[0mfibonacci\u001b[0m\u001b[0;34m(\u001b[0m\u001b[0mn\u001b[0m \u001b[0;34m-\u001b[0m \u001b[0;36m1\u001b[0m\u001b[0;34m)\u001b[0m \u001b[0;34m+\u001b[0m \u001b[0mfibonacci\u001b[0m\u001b[0;34m(\u001b[0m\u001b[0mn\u001b[0m \u001b[0;34m-\u001b[0m \u001b[0;36m2\u001b[0m\u001b[0;34m)\u001b[0m\u001b[0;34m\u001b[0m\u001b[0;34m\u001b[0m\u001b[0m\n\u001b[0m\u001b[1;32m     10\u001b[0m \u001b[0;34m\u001b[0m\u001b[0m\n\u001b[1;32m     11\u001b[0m \u001b[0;34m\u001b[0m\u001b[0m\n",
            "\u001b[0;32m<ipython-input-11-2d456ad5f440>\u001b[0m in \u001b[0;36mfibonacci\u001b[0;34m(n)\u001b[0m\n\u001b[1;32m      7\u001b[0m         \u001b[0;32mreturn\u001b[0m \u001b[0;36m1\u001b[0m\u001b[0;34m\u001b[0m\u001b[0;34m\u001b[0m\u001b[0m\n\u001b[1;32m      8\u001b[0m \u001b[0;34m\u001b[0m\u001b[0m\n\u001b[0;32m----> 9\u001b[0;31m     \u001b[0;32mreturn\u001b[0m \u001b[0mfibonacci\u001b[0m\u001b[0;34m(\u001b[0m\u001b[0mn\u001b[0m \u001b[0;34m-\u001b[0m \u001b[0;36m1\u001b[0m\u001b[0;34m)\u001b[0m \u001b[0;34m+\u001b[0m \u001b[0mfibonacci\u001b[0m\u001b[0;34m(\u001b[0m\u001b[0mn\u001b[0m \u001b[0;34m-\u001b[0m \u001b[0;36m2\u001b[0m\u001b[0;34m)\u001b[0m\u001b[0;34m\u001b[0m\u001b[0;34m\u001b[0m\u001b[0m\n\u001b[0m\u001b[1;32m     10\u001b[0m \u001b[0;34m\u001b[0m\u001b[0m\n\u001b[1;32m     11\u001b[0m \u001b[0;34m\u001b[0m\u001b[0m\n",
            "\u001b[0;32m<ipython-input-11-2d456ad5f440>\u001b[0m in \u001b[0;36mfibonacci\u001b[0;34m(n)\u001b[0m\n\u001b[1;32m      7\u001b[0m         \u001b[0;32mreturn\u001b[0m \u001b[0;36m1\u001b[0m\u001b[0;34m\u001b[0m\u001b[0;34m\u001b[0m\u001b[0m\n\u001b[1;32m      8\u001b[0m \u001b[0;34m\u001b[0m\u001b[0m\n\u001b[0;32m----> 9\u001b[0;31m     \u001b[0;32mreturn\u001b[0m \u001b[0mfibonacci\u001b[0m\u001b[0;34m(\u001b[0m\u001b[0mn\u001b[0m \u001b[0;34m-\u001b[0m \u001b[0;36m1\u001b[0m\u001b[0;34m)\u001b[0m \u001b[0;34m+\u001b[0m \u001b[0mfibonacci\u001b[0m\u001b[0;34m(\u001b[0m\u001b[0mn\u001b[0m \u001b[0;34m-\u001b[0m \u001b[0;36m2\u001b[0m\u001b[0;34m)\u001b[0m\u001b[0;34m\u001b[0m\u001b[0;34m\u001b[0m\u001b[0m\n\u001b[0m\u001b[1;32m     10\u001b[0m \u001b[0;34m\u001b[0m\u001b[0m\n\u001b[1;32m     11\u001b[0m \u001b[0;34m\u001b[0m\u001b[0m\n",
            "\u001b[0;32m<ipython-input-11-2d456ad5f440>\u001b[0m in \u001b[0;36mfibonacci\u001b[0;34m(n)\u001b[0m\n\u001b[1;32m      7\u001b[0m         \u001b[0;32mreturn\u001b[0m \u001b[0;36m1\u001b[0m\u001b[0;34m\u001b[0m\u001b[0;34m\u001b[0m\u001b[0m\n\u001b[1;32m      8\u001b[0m \u001b[0;34m\u001b[0m\u001b[0m\n\u001b[0;32m----> 9\u001b[0;31m     \u001b[0;32mreturn\u001b[0m \u001b[0mfibonacci\u001b[0m\u001b[0;34m(\u001b[0m\u001b[0mn\u001b[0m \u001b[0;34m-\u001b[0m \u001b[0;36m1\u001b[0m\u001b[0;34m)\u001b[0m \u001b[0;34m+\u001b[0m \u001b[0mfibonacci\u001b[0m\u001b[0;34m(\u001b[0m\u001b[0mn\u001b[0m \u001b[0;34m-\u001b[0m \u001b[0;36m2\u001b[0m\u001b[0;34m)\u001b[0m\u001b[0;34m\u001b[0m\u001b[0;34m\u001b[0m\u001b[0m\n\u001b[0m\u001b[1;32m     10\u001b[0m \u001b[0;34m\u001b[0m\u001b[0m\n\u001b[1;32m     11\u001b[0m \u001b[0;34m\u001b[0m\u001b[0m\n",
            "\u001b[0;32m<ipython-input-11-2d456ad5f440>\u001b[0m in \u001b[0;36mfibonacci\u001b[0;34m(n)\u001b[0m\n\u001b[1;32m      7\u001b[0m         \u001b[0;32mreturn\u001b[0m \u001b[0;36m1\u001b[0m\u001b[0;34m\u001b[0m\u001b[0;34m\u001b[0m\u001b[0m\n\u001b[1;32m      8\u001b[0m \u001b[0;34m\u001b[0m\u001b[0m\n\u001b[0;32m----> 9\u001b[0;31m     \u001b[0;32mreturn\u001b[0m \u001b[0mfibonacci\u001b[0m\u001b[0;34m(\u001b[0m\u001b[0mn\u001b[0m \u001b[0;34m-\u001b[0m \u001b[0;36m1\u001b[0m\u001b[0;34m)\u001b[0m \u001b[0;34m+\u001b[0m \u001b[0mfibonacci\u001b[0m\u001b[0;34m(\u001b[0m\u001b[0mn\u001b[0m \u001b[0;34m-\u001b[0m \u001b[0;36m2\u001b[0m\u001b[0;34m)\u001b[0m\u001b[0;34m\u001b[0m\u001b[0;34m\u001b[0m\u001b[0m\n\u001b[0m\u001b[1;32m     10\u001b[0m \u001b[0;34m\u001b[0m\u001b[0m\n\u001b[1;32m     11\u001b[0m \u001b[0;34m\u001b[0m\u001b[0m\n",
            "\u001b[0;32m<ipython-input-11-2d456ad5f440>\u001b[0m in \u001b[0;36mfibonacci\u001b[0;34m(n)\u001b[0m\n\u001b[1;32m      7\u001b[0m         \u001b[0;32mreturn\u001b[0m \u001b[0;36m1\u001b[0m\u001b[0;34m\u001b[0m\u001b[0;34m\u001b[0m\u001b[0m\n\u001b[1;32m      8\u001b[0m \u001b[0;34m\u001b[0m\u001b[0m\n\u001b[0;32m----> 9\u001b[0;31m     \u001b[0;32mreturn\u001b[0m \u001b[0mfibonacci\u001b[0m\u001b[0;34m(\u001b[0m\u001b[0mn\u001b[0m \u001b[0;34m-\u001b[0m \u001b[0;36m1\u001b[0m\u001b[0;34m)\u001b[0m \u001b[0;34m+\u001b[0m \u001b[0mfibonacci\u001b[0m\u001b[0;34m(\u001b[0m\u001b[0mn\u001b[0m \u001b[0;34m-\u001b[0m \u001b[0;36m2\u001b[0m\u001b[0;34m)\u001b[0m\u001b[0;34m\u001b[0m\u001b[0;34m\u001b[0m\u001b[0m\n\u001b[0m\u001b[1;32m     10\u001b[0m \u001b[0;34m\u001b[0m\u001b[0m\n\u001b[1;32m     11\u001b[0m \u001b[0;34m\u001b[0m\u001b[0m\n",
            "\u001b[0;32m<ipython-input-11-2d456ad5f440>\u001b[0m in \u001b[0;36mfibonacci\u001b[0;34m(n)\u001b[0m\n\u001b[1;32m      7\u001b[0m         \u001b[0;32mreturn\u001b[0m \u001b[0;36m1\u001b[0m\u001b[0;34m\u001b[0m\u001b[0;34m\u001b[0m\u001b[0m\n\u001b[1;32m      8\u001b[0m \u001b[0;34m\u001b[0m\u001b[0m\n\u001b[0;32m----> 9\u001b[0;31m     \u001b[0;32mreturn\u001b[0m \u001b[0mfibonacci\u001b[0m\u001b[0;34m(\u001b[0m\u001b[0mn\u001b[0m \u001b[0;34m-\u001b[0m \u001b[0;36m1\u001b[0m\u001b[0;34m)\u001b[0m \u001b[0;34m+\u001b[0m \u001b[0mfibonacci\u001b[0m\u001b[0;34m(\u001b[0m\u001b[0mn\u001b[0m \u001b[0;34m-\u001b[0m \u001b[0;36m2\u001b[0m\u001b[0;34m)\u001b[0m\u001b[0;34m\u001b[0m\u001b[0;34m\u001b[0m\u001b[0m\n\u001b[0m\u001b[1;32m     10\u001b[0m \u001b[0;34m\u001b[0m\u001b[0m\n\u001b[1;32m     11\u001b[0m \u001b[0;34m\u001b[0m\u001b[0m\n",
            "\u001b[0;32m<ipython-input-11-2d456ad5f440>\u001b[0m in \u001b[0;36mfibonacci\u001b[0;34m(n)\u001b[0m\n\u001b[1;32m      7\u001b[0m         \u001b[0;32mreturn\u001b[0m \u001b[0;36m1\u001b[0m\u001b[0;34m\u001b[0m\u001b[0;34m\u001b[0m\u001b[0m\n\u001b[1;32m      8\u001b[0m \u001b[0;34m\u001b[0m\u001b[0m\n\u001b[0;32m----> 9\u001b[0;31m     \u001b[0;32mreturn\u001b[0m \u001b[0mfibonacci\u001b[0m\u001b[0;34m(\u001b[0m\u001b[0mn\u001b[0m \u001b[0;34m-\u001b[0m \u001b[0;36m1\u001b[0m\u001b[0;34m)\u001b[0m \u001b[0;34m+\u001b[0m \u001b[0mfibonacci\u001b[0m\u001b[0;34m(\u001b[0m\u001b[0mn\u001b[0m \u001b[0;34m-\u001b[0m \u001b[0;36m2\u001b[0m\u001b[0;34m)\u001b[0m\u001b[0;34m\u001b[0m\u001b[0;34m\u001b[0m\u001b[0m\n\u001b[0m\u001b[1;32m     10\u001b[0m \u001b[0;34m\u001b[0m\u001b[0m\n\u001b[1;32m     11\u001b[0m \u001b[0;34m\u001b[0m\u001b[0m\n",
            "\u001b[0;32m<ipython-input-11-2d456ad5f440>\u001b[0m in \u001b[0;36mfibonacci\u001b[0;34m(n)\u001b[0m\n\u001b[1;32m      7\u001b[0m         \u001b[0;32mreturn\u001b[0m \u001b[0;36m1\u001b[0m\u001b[0;34m\u001b[0m\u001b[0;34m\u001b[0m\u001b[0m\n\u001b[1;32m      8\u001b[0m \u001b[0;34m\u001b[0m\u001b[0m\n\u001b[0;32m----> 9\u001b[0;31m     \u001b[0;32mreturn\u001b[0m \u001b[0mfibonacci\u001b[0m\u001b[0;34m(\u001b[0m\u001b[0mn\u001b[0m \u001b[0;34m-\u001b[0m \u001b[0;36m1\u001b[0m\u001b[0;34m)\u001b[0m \u001b[0;34m+\u001b[0m \u001b[0mfibonacci\u001b[0m\u001b[0;34m(\u001b[0m\u001b[0mn\u001b[0m \u001b[0;34m-\u001b[0m \u001b[0;36m2\u001b[0m\u001b[0;34m)\u001b[0m\u001b[0;34m\u001b[0m\u001b[0;34m\u001b[0m\u001b[0m\n\u001b[0m\u001b[1;32m     10\u001b[0m \u001b[0;34m\u001b[0m\u001b[0m\n\u001b[1;32m     11\u001b[0m \u001b[0;34m\u001b[0m\u001b[0m\n",
            "\u001b[0;32m<ipython-input-11-2d456ad5f440>\u001b[0m in \u001b[0;36mfibonacci\u001b[0;34m(n)\u001b[0m\n\u001b[1;32m      7\u001b[0m         \u001b[0;32mreturn\u001b[0m \u001b[0;36m1\u001b[0m\u001b[0;34m\u001b[0m\u001b[0;34m\u001b[0m\u001b[0m\n\u001b[1;32m      8\u001b[0m \u001b[0;34m\u001b[0m\u001b[0m\n\u001b[0;32m----> 9\u001b[0;31m     \u001b[0;32mreturn\u001b[0m \u001b[0mfibonacci\u001b[0m\u001b[0;34m(\u001b[0m\u001b[0mn\u001b[0m \u001b[0;34m-\u001b[0m \u001b[0;36m1\u001b[0m\u001b[0;34m)\u001b[0m \u001b[0;34m+\u001b[0m \u001b[0mfibonacci\u001b[0m\u001b[0;34m(\u001b[0m\u001b[0mn\u001b[0m \u001b[0;34m-\u001b[0m \u001b[0;36m2\u001b[0m\u001b[0;34m)\u001b[0m\u001b[0;34m\u001b[0m\u001b[0;34m\u001b[0m\u001b[0m\n\u001b[0m\u001b[1;32m     10\u001b[0m \u001b[0;34m\u001b[0m\u001b[0m\n\u001b[1;32m     11\u001b[0m \u001b[0;34m\u001b[0m\u001b[0m\n",
            "\u001b[0;32m<ipython-input-11-2d456ad5f440>\u001b[0m in \u001b[0;36mfibonacci\u001b[0;34m(n)\u001b[0m\n\u001b[1;32m      7\u001b[0m         \u001b[0;32mreturn\u001b[0m \u001b[0;36m1\u001b[0m\u001b[0;34m\u001b[0m\u001b[0;34m\u001b[0m\u001b[0m\n\u001b[1;32m      8\u001b[0m \u001b[0;34m\u001b[0m\u001b[0m\n\u001b[0;32m----> 9\u001b[0;31m     \u001b[0;32mreturn\u001b[0m \u001b[0mfibonacci\u001b[0m\u001b[0;34m(\u001b[0m\u001b[0mn\u001b[0m \u001b[0;34m-\u001b[0m \u001b[0;36m1\u001b[0m\u001b[0;34m)\u001b[0m \u001b[0;34m+\u001b[0m \u001b[0mfibonacci\u001b[0m\u001b[0;34m(\u001b[0m\u001b[0mn\u001b[0m \u001b[0;34m-\u001b[0m \u001b[0;36m2\u001b[0m\u001b[0;34m)\u001b[0m\u001b[0;34m\u001b[0m\u001b[0;34m\u001b[0m\u001b[0m\n\u001b[0m\u001b[1;32m     10\u001b[0m \u001b[0;34m\u001b[0m\u001b[0m\n\u001b[1;32m     11\u001b[0m \u001b[0;34m\u001b[0m\u001b[0m\n",
            "\u001b[0;32m<ipython-input-11-2d456ad5f440>\u001b[0m in \u001b[0;36mfibonacci\u001b[0;34m(n)\u001b[0m\n\u001b[1;32m      7\u001b[0m         \u001b[0;32mreturn\u001b[0m \u001b[0;36m1\u001b[0m\u001b[0;34m\u001b[0m\u001b[0;34m\u001b[0m\u001b[0m\n\u001b[1;32m      8\u001b[0m \u001b[0;34m\u001b[0m\u001b[0m\n\u001b[0;32m----> 9\u001b[0;31m     \u001b[0;32mreturn\u001b[0m \u001b[0mfibonacci\u001b[0m\u001b[0;34m(\u001b[0m\u001b[0mn\u001b[0m \u001b[0;34m-\u001b[0m \u001b[0;36m1\u001b[0m\u001b[0;34m)\u001b[0m \u001b[0;34m+\u001b[0m \u001b[0mfibonacci\u001b[0m\u001b[0;34m(\u001b[0m\u001b[0mn\u001b[0m \u001b[0;34m-\u001b[0m \u001b[0;36m2\u001b[0m\u001b[0;34m)\u001b[0m\u001b[0;34m\u001b[0m\u001b[0;34m\u001b[0m\u001b[0m\n\u001b[0m\u001b[1;32m     10\u001b[0m \u001b[0;34m\u001b[0m\u001b[0m\n\u001b[1;32m     11\u001b[0m \u001b[0;34m\u001b[0m\u001b[0m\n",
            "\u001b[0;32m<ipython-input-11-2d456ad5f440>\u001b[0m in \u001b[0;36mfibonacci\u001b[0;34m(n)\u001b[0m\n\u001b[1;32m      7\u001b[0m         \u001b[0;32mreturn\u001b[0m \u001b[0;36m1\u001b[0m\u001b[0;34m\u001b[0m\u001b[0;34m\u001b[0m\u001b[0m\n\u001b[1;32m      8\u001b[0m \u001b[0;34m\u001b[0m\u001b[0m\n\u001b[0;32m----> 9\u001b[0;31m     \u001b[0;32mreturn\u001b[0m \u001b[0mfibonacci\u001b[0m\u001b[0;34m(\u001b[0m\u001b[0mn\u001b[0m \u001b[0;34m-\u001b[0m \u001b[0;36m1\u001b[0m\u001b[0;34m)\u001b[0m \u001b[0;34m+\u001b[0m \u001b[0mfibonacci\u001b[0m\u001b[0;34m(\u001b[0m\u001b[0mn\u001b[0m \u001b[0;34m-\u001b[0m \u001b[0;36m2\u001b[0m\u001b[0;34m)\u001b[0m\u001b[0;34m\u001b[0m\u001b[0;34m\u001b[0m\u001b[0m\n\u001b[0m\u001b[1;32m     10\u001b[0m \u001b[0;34m\u001b[0m\u001b[0m\n\u001b[1;32m     11\u001b[0m \u001b[0;34m\u001b[0m\u001b[0m\n",
            "\u001b[0;32m<ipython-input-11-2d456ad5f440>\u001b[0m in \u001b[0;36mfibonacci\u001b[0;34m(n)\u001b[0m\n\u001b[1;32m      7\u001b[0m         \u001b[0;32mreturn\u001b[0m \u001b[0;36m1\u001b[0m\u001b[0;34m\u001b[0m\u001b[0;34m\u001b[0m\u001b[0m\n\u001b[1;32m      8\u001b[0m \u001b[0;34m\u001b[0m\u001b[0m\n\u001b[0;32m----> 9\u001b[0;31m     \u001b[0;32mreturn\u001b[0m \u001b[0mfibonacci\u001b[0m\u001b[0;34m(\u001b[0m\u001b[0mn\u001b[0m \u001b[0;34m-\u001b[0m \u001b[0;36m1\u001b[0m\u001b[0;34m)\u001b[0m \u001b[0;34m+\u001b[0m \u001b[0mfibonacci\u001b[0m\u001b[0;34m(\u001b[0m\u001b[0mn\u001b[0m \u001b[0;34m-\u001b[0m \u001b[0;36m2\u001b[0m\u001b[0;34m)\u001b[0m\u001b[0;34m\u001b[0m\u001b[0;34m\u001b[0m\u001b[0m\n\u001b[0m\u001b[1;32m     10\u001b[0m \u001b[0;34m\u001b[0m\u001b[0m\n\u001b[1;32m     11\u001b[0m \u001b[0;34m\u001b[0m\u001b[0m\n",
            "\u001b[0;32m<ipython-input-11-2d456ad5f440>\u001b[0m in \u001b[0;36mfibonacci\u001b[0;34m(n)\u001b[0m\n\u001b[1;32m      7\u001b[0m         \u001b[0;32mreturn\u001b[0m \u001b[0;36m1\u001b[0m\u001b[0;34m\u001b[0m\u001b[0;34m\u001b[0m\u001b[0m\n\u001b[1;32m      8\u001b[0m \u001b[0;34m\u001b[0m\u001b[0m\n\u001b[0;32m----> 9\u001b[0;31m     \u001b[0;32mreturn\u001b[0m \u001b[0mfibonacci\u001b[0m\u001b[0;34m(\u001b[0m\u001b[0mn\u001b[0m \u001b[0;34m-\u001b[0m \u001b[0;36m1\u001b[0m\u001b[0;34m)\u001b[0m \u001b[0;34m+\u001b[0m \u001b[0mfibonacci\u001b[0m\u001b[0;34m(\u001b[0m\u001b[0mn\u001b[0m \u001b[0;34m-\u001b[0m \u001b[0;36m2\u001b[0m\u001b[0;34m)\u001b[0m\u001b[0;34m\u001b[0m\u001b[0;34m\u001b[0m\u001b[0m\n\u001b[0m\u001b[1;32m     10\u001b[0m \u001b[0;34m\u001b[0m\u001b[0m\n\u001b[1;32m     11\u001b[0m \u001b[0;34m\u001b[0m\u001b[0m\n",
            "\u001b[0;32m<ipython-input-11-2d456ad5f440>\u001b[0m in \u001b[0;36mfibonacci\u001b[0;34m(n)\u001b[0m\n\u001b[1;32m      7\u001b[0m         \u001b[0;32mreturn\u001b[0m \u001b[0;36m1\u001b[0m\u001b[0;34m\u001b[0m\u001b[0;34m\u001b[0m\u001b[0m\n\u001b[1;32m      8\u001b[0m \u001b[0;34m\u001b[0m\u001b[0m\n\u001b[0;32m----> 9\u001b[0;31m     \u001b[0;32mreturn\u001b[0m \u001b[0mfibonacci\u001b[0m\u001b[0;34m(\u001b[0m\u001b[0mn\u001b[0m \u001b[0;34m-\u001b[0m \u001b[0;36m1\u001b[0m\u001b[0;34m)\u001b[0m \u001b[0;34m+\u001b[0m \u001b[0mfibonacci\u001b[0m\u001b[0;34m(\u001b[0m\u001b[0mn\u001b[0m \u001b[0;34m-\u001b[0m \u001b[0;36m2\u001b[0m\u001b[0;34m)\u001b[0m\u001b[0;34m\u001b[0m\u001b[0;34m\u001b[0m\u001b[0m\n\u001b[0m\u001b[1;32m     10\u001b[0m \u001b[0;34m\u001b[0m\u001b[0m\n\u001b[1;32m     11\u001b[0m \u001b[0;34m\u001b[0m\u001b[0m\n",
            "\u001b[0;32m<ipython-input-11-2d456ad5f440>\u001b[0m in \u001b[0;36mfibonacci\u001b[0;34m(n)\u001b[0m\n\u001b[1;32m      7\u001b[0m         \u001b[0;32mreturn\u001b[0m \u001b[0;36m1\u001b[0m\u001b[0;34m\u001b[0m\u001b[0;34m\u001b[0m\u001b[0m\n\u001b[1;32m      8\u001b[0m \u001b[0;34m\u001b[0m\u001b[0m\n\u001b[0;32m----> 9\u001b[0;31m     \u001b[0;32mreturn\u001b[0m \u001b[0mfibonacci\u001b[0m\u001b[0;34m(\u001b[0m\u001b[0mn\u001b[0m \u001b[0;34m-\u001b[0m \u001b[0;36m1\u001b[0m\u001b[0;34m)\u001b[0m \u001b[0;34m+\u001b[0m \u001b[0mfibonacci\u001b[0m\u001b[0;34m(\u001b[0m\u001b[0mn\u001b[0m \u001b[0;34m-\u001b[0m \u001b[0;36m2\u001b[0m\u001b[0;34m)\u001b[0m\u001b[0;34m\u001b[0m\u001b[0;34m\u001b[0m\u001b[0m\n\u001b[0m\u001b[1;32m     10\u001b[0m \u001b[0;34m\u001b[0m\u001b[0m\n\u001b[1;32m     11\u001b[0m \u001b[0;34m\u001b[0m\u001b[0m\n",
            "\u001b[0;32m<ipython-input-11-2d456ad5f440>\u001b[0m in \u001b[0;36mfibonacci\u001b[0;34m(n)\u001b[0m\n\u001b[1;32m      7\u001b[0m         \u001b[0;32mreturn\u001b[0m \u001b[0;36m1\u001b[0m\u001b[0;34m\u001b[0m\u001b[0;34m\u001b[0m\u001b[0m\n\u001b[1;32m      8\u001b[0m \u001b[0;34m\u001b[0m\u001b[0m\n\u001b[0;32m----> 9\u001b[0;31m     \u001b[0;32mreturn\u001b[0m \u001b[0mfibonacci\u001b[0m\u001b[0;34m(\u001b[0m\u001b[0mn\u001b[0m \u001b[0;34m-\u001b[0m \u001b[0;36m1\u001b[0m\u001b[0;34m)\u001b[0m \u001b[0;34m+\u001b[0m \u001b[0mfibonacci\u001b[0m\u001b[0;34m(\u001b[0m\u001b[0mn\u001b[0m \u001b[0;34m-\u001b[0m \u001b[0;36m2\u001b[0m\u001b[0;34m)\u001b[0m\u001b[0;34m\u001b[0m\u001b[0;34m\u001b[0m\u001b[0m\n\u001b[0m\u001b[1;32m     10\u001b[0m \u001b[0;34m\u001b[0m\u001b[0m\n\u001b[1;32m     11\u001b[0m \u001b[0;34m\u001b[0m\u001b[0m\n",
            "\u001b[0;32m<ipython-input-11-2d456ad5f440>\u001b[0m in \u001b[0;36mfibonacci\u001b[0;34m(n)\u001b[0m\n\u001b[1;32m      7\u001b[0m         \u001b[0;32mreturn\u001b[0m \u001b[0;36m1\u001b[0m\u001b[0;34m\u001b[0m\u001b[0;34m\u001b[0m\u001b[0m\n\u001b[1;32m      8\u001b[0m \u001b[0;34m\u001b[0m\u001b[0m\n\u001b[0;32m----> 9\u001b[0;31m     \u001b[0;32mreturn\u001b[0m \u001b[0mfibonacci\u001b[0m\u001b[0;34m(\u001b[0m\u001b[0mn\u001b[0m \u001b[0;34m-\u001b[0m \u001b[0;36m1\u001b[0m\u001b[0;34m)\u001b[0m \u001b[0;34m+\u001b[0m \u001b[0mfibonacci\u001b[0m\u001b[0;34m(\u001b[0m\u001b[0mn\u001b[0m \u001b[0;34m-\u001b[0m \u001b[0;36m2\u001b[0m\u001b[0;34m)\u001b[0m\u001b[0;34m\u001b[0m\u001b[0;34m\u001b[0m\u001b[0m\n\u001b[0m\u001b[1;32m     10\u001b[0m \u001b[0;34m\u001b[0m\u001b[0m\n\u001b[1;32m     11\u001b[0m \u001b[0;34m\u001b[0m\u001b[0m\n",
            "\u001b[0;32m<ipython-input-11-2d456ad5f440>\u001b[0m in \u001b[0;36mfibonacci\u001b[0;34m(n)\u001b[0m\n\u001b[1;32m      7\u001b[0m         \u001b[0;32mreturn\u001b[0m \u001b[0;36m1\u001b[0m\u001b[0;34m\u001b[0m\u001b[0;34m\u001b[0m\u001b[0m\n\u001b[1;32m      8\u001b[0m \u001b[0;34m\u001b[0m\u001b[0m\n\u001b[0;32m----> 9\u001b[0;31m     \u001b[0;32mreturn\u001b[0m \u001b[0mfibonacci\u001b[0m\u001b[0;34m(\u001b[0m\u001b[0mn\u001b[0m \u001b[0;34m-\u001b[0m \u001b[0;36m1\u001b[0m\u001b[0;34m)\u001b[0m \u001b[0;34m+\u001b[0m \u001b[0mfibonacci\u001b[0m\u001b[0;34m(\u001b[0m\u001b[0mn\u001b[0m \u001b[0;34m-\u001b[0m \u001b[0;36m2\u001b[0m\u001b[0;34m)\u001b[0m\u001b[0;34m\u001b[0m\u001b[0;34m\u001b[0m\u001b[0m\n\u001b[0m\u001b[1;32m     10\u001b[0m \u001b[0;34m\u001b[0m\u001b[0m\n\u001b[1;32m     11\u001b[0m \u001b[0;34m\u001b[0m\u001b[0m\n",
            "\u001b[0;32m<ipython-input-11-2d456ad5f440>\u001b[0m in \u001b[0;36mfibonacci\u001b[0;34m(n)\u001b[0m\n\u001b[1;32m      7\u001b[0m         \u001b[0;32mreturn\u001b[0m \u001b[0;36m1\u001b[0m\u001b[0;34m\u001b[0m\u001b[0;34m\u001b[0m\u001b[0m\n\u001b[1;32m      8\u001b[0m \u001b[0;34m\u001b[0m\u001b[0m\n\u001b[0;32m----> 9\u001b[0;31m     \u001b[0;32mreturn\u001b[0m \u001b[0mfibonacci\u001b[0m\u001b[0;34m(\u001b[0m\u001b[0mn\u001b[0m \u001b[0;34m-\u001b[0m \u001b[0;36m1\u001b[0m\u001b[0;34m)\u001b[0m \u001b[0;34m+\u001b[0m \u001b[0mfibonacci\u001b[0m\u001b[0;34m(\u001b[0m\u001b[0mn\u001b[0m \u001b[0;34m-\u001b[0m \u001b[0;36m2\u001b[0m\u001b[0;34m)\u001b[0m\u001b[0;34m\u001b[0m\u001b[0;34m\u001b[0m\u001b[0m\n\u001b[0m\u001b[1;32m     10\u001b[0m \u001b[0;34m\u001b[0m\u001b[0m\n\u001b[1;32m     11\u001b[0m \u001b[0;34m\u001b[0m\u001b[0m\n",
            "\u001b[0;32m<ipython-input-11-2d456ad5f440>\u001b[0m in \u001b[0;36mfibonacci\u001b[0;34m(n)\u001b[0m\n\u001b[1;32m      7\u001b[0m         \u001b[0;32mreturn\u001b[0m \u001b[0;36m1\u001b[0m\u001b[0;34m\u001b[0m\u001b[0;34m\u001b[0m\u001b[0m\n\u001b[1;32m      8\u001b[0m \u001b[0;34m\u001b[0m\u001b[0m\n\u001b[0;32m----> 9\u001b[0;31m     \u001b[0;32mreturn\u001b[0m \u001b[0mfibonacci\u001b[0m\u001b[0;34m(\u001b[0m\u001b[0mn\u001b[0m \u001b[0;34m-\u001b[0m \u001b[0;36m1\u001b[0m\u001b[0;34m)\u001b[0m \u001b[0;34m+\u001b[0m \u001b[0mfibonacci\u001b[0m\u001b[0;34m(\u001b[0m\u001b[0mn\u001b[0m \u001b[0;34m-\u001b[0m \u001b[0;36m2\u001b[0m\u001b[0;34m)\u001b[0m\u001b[0;34m\u001b[0m\u001b[0;34m\u001b[0m\u001b[0m\n\u001b[0m\u001b[1;32m     10\u001b[0m \u001b[0;34m\u001b[0m\u001b[0m\n\u001b[1;32m     11\u001b[0m \u001b[0;34m\u001b[0m\u001b[0m\n",
            "\u001b[0;32m<ipython-input-11-2d456ad5f440>\u001b[0m in \u001b[0;36mfibonacci\u001b[0;34m(n)\u001b[0m\n\u001b[1;32m      7\u001b[0m         \u001b[0;32mreturn\u001b[0m \u001b[0;36m1\u001b[0m\u001b[0;34m\u001b[0m\u001b[0;34m\u001b[0m\u001b[0m\n\u001b[1;32m      8\u001b[0m \u001b[0;34m\u001b[0m\u001b[0m\n\u001b[0;32m----> 9\u001b[0;31m     \u001b[0;32mreturn\u001b[0m \u001b[0mfibonacci\u001b[0m\u001b[0;34m(\u001b[0m\u001b[0mn\u001b[0m \u001b[0;34m-\u001b[0m \u001b[0;36m1\u001b[0m\u001b[0;34m)\u001b[0m \u001b[0;34m+\u001b[0m \u001b[0mfibonacci\u001b[0m\u001b[0;34m(\u001b[0m\u001b[0mn\u001b[0m \u001b[0;34m-\u001b[0m \u001b[0;36m2\u001b[0m\u001b[0;34m)\u001b[0m\u001b[0;34m\u001b[0m\u001b[0;34m\u001b[0m\u001b[0m\n\u001b[0m\u001b[1;32m     10\u001b[0m \u001b[0;34m\u001b[0m\u001b[0m\n\u001b[1;32m     11\u001b[0m \u001b[0;34m\u001b[0m\u001b[0m\n",
            "\u001b[0;32m<ipython-input-11-2d456ad5f440>\u001b[0m in \u001b[0;36mfibonacci\u001b[0;34m(n)\u001b[0m\n\u001b[1;32m      7\u001b[0m         \u001b[0;32mreturn\u001b[0m \u001b[0;36m1\u001b[0m\u001b[0;34m\u001b[0m\u001b[0;34m\u001b[0m\u001b[0m\n\u001b[1;32m      8\u001b[0m \u001b[0;34m\u001b[0m\u001b[0m\n\u001b[0;32m----> 9\u001b[0;31m     \u001b[0;32mreturn\u001b[0m \u001b[0mfibonacci\u001b[0m\u001b[0;34m(\u001b[0m\u001b[0mn\u001b[0m \u001b[0;34m-\u001b[0m \u001b[0;36m1\u001b[0m\u001b[0;34m)\u001b[0m \u001b[0;34m+\u001b[0m \u001b[0mfibonacci\u001b[0m\u001b[0;34m(\u001b[0m\u001b[0mn\u001b[0m \u001b[0;34m-\u001b[0m \u001b[0;36m2\u001b[0m\u001b[0;34m)\u001b[0m\u001b[0;34m\u001b[0m\u001b[0;34m\u001b[0m\u001b[0m\n\u001b[0m\u001b[1;32m     10\u001b[0m \u001b[0;34m\u001b[0m\u001b[0m\n\u001b[1;32m     11\u001b[0m \u001b[0;34m\u001b[0m\u001b[0m\n",
            "\u001b[0;32m<ipython-input-11-2d456ad5f440>\u001b[0m in \u001b[0;36mfibonacci\u001b[0;34m(n)\u001b[0m\n\u001b[1;32m      7\u001b[0m         \u001b[0;32mreturn\u001b[0m \u001b[0;36m1\u001b[0m\u001b[0;34m\u001b[0m\u001b[0;34m\u001b[0m\u001b[0m\n\u001b[1;32m      8\u001b[0m \u001b[0;34m\u001b[0m\u001b[0m\n\u001b[0;32m----> 9\u001b[0;31m     \u001b[0;32mreturn\u001b[0m \u001b[0mfibonacci\u001b[0m\u001b[0;34m(\u001b[0m\u001b[0mn\u001b[0m \u001b[0;34m-\u001b[0m \u001b[0;36m1\u001b[0m\u001b[0;34m)\u001b[0m \u001b[0;34m+\u001b[0m \u001b[0mfibonacci\u001b[0m\u001b[0;34m(\u001b[0m\u001b[0mn\u001b[0m \u001b[0;34m-\u001b[0m \u001b[0;36m2\u001b[0m\u001b[0;34m)\u001b[0m\u001b[0;34m\u001b[0m\u001b[0;34m\u001b[0m\u001b[0m\n\u001b[0m\u001b[1;32m     10\u001b[0m \u001b[0;34m\u001b[0m\u001b[0m\n\u001b[1;32m     11\u001b[0m \u001b[0;34m\u001b[0m\u001b[0m\n",
            "\u001b[0;32m<ipython-input-11-2d456ad5f440>\u001b[0m in \u001b[0;36mfibonacci\u001b[0;34m(n)\u001b[0m\n\u001b[1;32m      7\u001b[0m         \u001b[0;32mreturn\u001b[0m \u001b[0;36m1\u001b[0m\u001b[0;34m\u001b[0m\u001b[0;34m\u001b[0m\u001b[0m\n\u001b[1;32m      8\u001b[0m \u001b[0;34m\u001b[0m\u001b[0m\n\u001b[0;32m----> 9\u001b[0;31m     \u001b[0;32mreturn\u001b[0m \u001b[0mfibonacci\u001b[0m\u001b[0;34m(\u001b[0m\u001b[0mn\u001b[0m \u001b[0;34m-\u001b[0m \u001b[0;36m1\u001b[0m\u001b[0;34m)\u001b[0m \u001b[0;34m+\u001b[0m \u001b[0mfibonacci\u001b[0m\u001b[0;34m(\u001b[0m\u001b[0mn\u001b[0m \u001b[0;34m-\u001b[0m \u001b[0;36m2\u001b[0m\u001b[0;34m)\u001b[0m\u001b[0;34m\u001b[0m\u001b[0;34m\u001b[0m\u001b[0m\n\u001b[0m\u001b[1;32m     10\u001b[0m \u001b[0;34m\u001b[0m\u001b[0m\n\u001b[1;32m     11\u001b[0m \u001b[0;34m\u001b[0m\u001b[0m\n",
            "\u001b[0;32m<ipython-input-11-2d456ad5f440>\u001b[0m in \u001b[0;36mfibonacci\u001b[0;34m(n)\u001b[0m\n\u001b[1;32m      7\u001b[0m         \u001b[0;32mreturn\u001b[0m \u001b[0;36m1\u001b[0m\u001b[0;34m\u001b[0m\u001b[0;34m\u001b[0m\u001b[0m\n\u001b[1;32m      8\u001b[0m \u001b[0;34m\u001b[0m\u001b[0m\n\u001b[0;32m----> 9\u001b[0;31m     \u001b[0;32mreturn\u001b[0m \u001b[0mfibonacci\u001b[0m\u001b[0;34m(\u001b[0m\u001b[0mn\u001b[0m \u001b[0;34m-\u001b[0m \u001b[0;36m1\u001b[0m\u001b[0;34m)\u001b[0m \u001b[0;34m+\u001b[0m \u001b[0mfibonacci\u001b[0m\u001b[0;34m(\u001b[0m\u001b[0mn\u001b[0m \u001b[0;34m-\u001b[0m \u001b[0;36m2\u001b[0m\u001b[0;34m)\u001b[0m\u001b[0;34m\u001b[0m\u001b[0;34m\u001b[0m\u001b[0m\n\u001b[0m\u001b[1;32m     10\u001b[0m \u001b[0;34m\u001b[0m\u001b[0m\n\u001b[1;32m     11\u001b[0m \u001b[0;34m\u001b[0m\u001b[0m\n",
            "\u001b[0;32m<ipython-input-11-2d456ad5f440>\u001b[0m in \u001b[0;36mfibonacci\u001b[0;34m(n)\u001b[0m\n\u001b[1;32m      7\u001b[0m         \u001b[0;32mreturn\u001b[0m \u001b[0;36m1\u001b[0m\u001b[0;34m\u001b[0m\u001b[0;34m\u001b[0m\u001b[0m\n\u001b[1;32m      8\u001b[0m \u001b[0;34m\u001b[0m\u001b[0m\n\u001b[0;32m----> 9\u001b[0;31m     \u001b[0;32mreturn\u001b[0m \u001b[0mfibonacci\u001b[0m\u001b[0;34m(\u001b[0m\u001b[0mn\u001b[0m \u001b[0;34m-\u001b[0m \u001b[0;36m1\u001b[0m\u001b[0;34m)\u001b[0m \u001b[0;34m+\u001b[0m \u001b[0mfibonacci\u001b[0m\u001b[0;34m(\u001b[0m\u001b[0mn\u001b[0m \u001b[0;34m-\u001b[0m \u001b[0;36m2\u001b[0m\u001b[0;34m)\u001b[0m\u001b[0;34m\u001b[0m\u001b[0;34m\u001b[0m\u001b[0m\n\u001b[0m\u001b[1;32m     10\u001b[0m \u001b[0;34m\u001b[0m\u001b[0m\n\u001b[1;32m     11\u001b[0m \u001b[0;34m\u001b[0m\u001b[0m\n",
            "\u001b[0;32m<ipython-input-11-2d456ad5f440>\u001b[0m in \u001b[0;36mfibonacci\u001b[0;34m(n)\u001b[0m\n\u001b[1;32m      7\u001b[0m         \u001b[0;32mreturn\u001b[0m \u001b[0;36m1\u001b[0m\u001b[0;34m\u001b[0m\u001b[0;34m\u001b[0m\u001b[0m\n\u001b[1;32m      8\u001b[0m \u001b[0;34m\u001b[0m\u001b[0m\n\u001b[0;32m----> 9\u001b[0;31m     \u001b[0;32mreturn\u001b[0m \u001b[0mfibonacci\u001b[0m\u001b[0;34m(\u001b[0m\u001b[0mn\u001b[0m \u001b[0;34m-\u001b[0m \u001b[0;36m1\u001b[0m\u001b[0;34m)\u001b[0m \u001b[0;34m+\u001b[0m \u001b[0mfibonacci\u001b[0m\u001b[0;34m(\u001b[0m\u001b[0mn\u001b[0m \u001b[0;34m-\u001b[0m \u001b[0;36m2\u001b[0m\u001b[0;34m)\u001b[0m\u001b[0;34m\u001b[0m\u001b[0;34m\u001b[0m\u001b[0m\n\u001b[0m\u001b[1;32m     10\u001b[0m \u001b[0;34m\u001b[0m\u001b[0m\n\u001b[1;32m     11\u001b[0m \u001b[0;34m\u001b[0m\u001b[0m\n",
            "\u001b[0;32m<ipython-input-11-2d456ad5f440>\u001b[0m in \u001b[0;36mfibonacci\u001b[0;34m(n)\u001b[0m\n\u001b[1;32m      7\u001b[0m         \u001b[0;32mreturn\u001b[0m \u001b[0;36m1\u001b[0m\u001b[0;34m\u001b[0m\u001b[0;34m\u001b[0m\u001b[0m\n\u001b[1;32m      8\u001b[0m \u001b[0;34m\u001b[0m\u001b[0m\n\u001b[0;32m----> 9\u001b[0;31m     \u001b[0;32mreturn\u001b[0m \u001b[0mfibonacci\u001b[0m\u001b[0;34m(\u001b[0m\u001b[0mn\u001b[0m \u001b[0;34m-\u001b[0m \u001b[0;36m1\u001b[0m\u001b[0;34m)\u001b[0m \u001b[0;34m+\u001b[0m \u001b[0mfibonacci\u001b[0m\u001b[0;34m(\u001b[0m\u001b[0mn\u001b[0m \u001b[0;34m-\u001b[0m \u001b[0;36m2\u001b[0m\u001b[0;34m)\u001b[0m\u001b[0;34m\u001b[0m\u001b[0;34m\u001b[0m\u001b[0m\n\u001b[0m\u001b[1;32m     10\u001b[0m \u001b[0;34m\u001b[0m\u001b[0m\n\u001b[1;32m     11\u001b[0m \u001b[0;34m\u001b[0m\u001b[0m\n",
            "\u001b[0;32m<ipython-input-11-2d456ad5f440>\u001b[0m in \u001b[0;36mfibonacci\u001b[0;34m(n)\u001b[0m\n\u001b[1;32m      7\u001b[0m         \u001b[0;32mreturn\u001b[0m \u001b[0;36m1\u001b[0m\u001b[0;34m\u001b[0m\u001b[0;34m\u001b[0m\u001b[0m\n\u001b[1;32m      8\u001b[0m \u001b[0;34m\u001b[0m\u001b[0m\n\u001b[0;32m----> 9\u001b[0;31m     \u001b[0;32mreturn\u001b[0m \u001b[0mfibonacci\u001b[0m\u001b[0;34m(\u001b[0m\u001b[0mn\u001b[0m \u001b[0;34m-\u001b[0m \u001b[0;36m1\u001b[0m\u001b[0;34m)\u001b[0m \u001b[0;34m+\u001b[0m \u001b[0mfibonacci\u001b[0m\u001b[0;34m(\u001b[0m\u001b[0mn\u001b[0m \u001b[0;34m-\u001b[0m \u001b[0;36m2\u001b[0m\u001b[0;34m)\u001b[0m\u001b[0;34m\u001b[0m\u001b[0;34m\u001b[0m\u001b[0m\n\u001b[0m\u001b[1;32m     10\u001b[0m \u001b[0;34m\u001b[0m\u001b[0m\n\u001b[1;32m     11\u001b[0m \u001b[0;34m\u001b[0m\u001b[0m\n",
            "\u001b[0;32m<ipython-input-11-2d456ad5f440>\u001b[0m in \u001b[0;36mfibonacci\u001b[0;34m(n)\u001b[0m\n\u001b[1;32m      7\u001b[0m         \u001b[0;32mreturn\u001b[0m \u001b[0;36m1\u001b[0m\u001b[0;34m\u001b[0m\u001b[0;34m\u001b[0m\u001b[0m\n\u001b[1;32m      8\u001b[0m \u001b[0;34m\u001b[0m\u001b[0m\n\u001b[0;32m----> 9\u001b[0;31m     \u001b[0;32mreturn\u001b[0m \u001b[0mfibonacci\u001b[0m\u001b[0;34m(\u001b[0m\u001b[0mn\u001b[0m \u001b[0;34m-\u001b[0m \u001b[0;36m1\u001b[0m\u001b[0;34m)\u001b[0m \u001b[0;34m+\u001b[0m \u001b[0mfibonacci\u001b[0m\u001b[0;34m(\u001b[0m\u001b[0mn\u001b[0m \u001b[0;34m-\u001b[0m \u001b[0;36m2\u001b[0m\u001b[0;34m)\u001b[0m\u001b[0;34m\u001b[0m\u001b[0;34m\u001b[0m\u001b[0m\n\u001b[0m\u001b[1;32m     10\u001b[0m \u001b[0;34m\u001b[0m\u001b[0m\n\u001b[1;32m     11\u001b[0m \u001b[0;34m\u001b[0m\u001b[0m\n",
            "\u001b[0;32m<ipython-input-11-2d456ad5f440>\u001b[0m in \u001b[0;36mfibonacci\u001b[0;34m(n)\u001b[0m\n\u001b[1;32m      7\u001b[0m         \u001b[0;32mreturn\u001b[0m \u001b[0;36m1\u001b[0m\u001b[0;34m\u001b[0m\u001b[0;34m\u001b[0m\u001b[0m\n\u001b[1;32m      8\u001b[0m \u001b[0;34m\u001b[0m\u001b[0m\n\u001b[0;32m----> 9\u001b[0;31m     \u001b[0;32mreturn\u001b[0m \u001b[0mfibonacci\u001b[0m\u001b[0;34m(\u001b[0m\u001b[0mn\u001b[0m \u001b[0;34m-\u001b[0m \u001b[0;36m1\u001b[0m\u001b[0;34m)\u001b[0m \u001b[0;34m+\u001b[0m \u001b[0mfibonacci\u001b[0m\u001b[0;34m(\u001b[0m\u001b[0mn\u001b[0m \u001b[0;34m-\u001b[0m \u001b[0;36m2\u001b[0m\u001b[0;34m)\u001b[0m\u001b[0;34m\u001b[0m\u001b[0;34m\u001b[0m\u001b[0m\n\u001b[0m\u001b[1;32m     10\u001b[0m \u001b[0;34m\u001b[0m\u001b[0m\n\u001b[1;32m     11\u001b[0m \u001b[0;34m\u001b[0m\u001b[0m\n",
            "\u001b[0;32m<ipython-input-11-2d456ad5f440>\u001b[0m in \u001b[0;36mfibonacci\u001b[0;34m(n)\u001b[0m\n\u001b[1;32m      7\u001b[0m         \u001b[0;32mreturn\u001b[0m \u001b[0;36m1\u001b[0m\u001b[0;34m\u001b[0m\u001b[0;34m\u001b[0m\u001b[0m\n\u001b[1;32m      8\u001b[0m \u001b[0;34m\u001b[0m\u001b[0m\n\u001b[0;32m----> 9\u001b[0;31m     \u001b[0;32mreturn\u001b[0m \u001b[0mfibonacci\u001b[0m\u001b[0;34m(\u001b[0m\u001b[0mn\u001b[0m \u001b[0;34m-\u001b[0m \u001b[0;36m1\u001b[0m\u001b[0;34m)\u001b[0m \u001b[0;34m+\u001b[0m \u001b[0mfibonacci\u001b[0m\u001b[0;34m(\u001b[0m\u001b[0mn\u001b[0m \u001b[0;34m-\u001b[0m \u001b[0;36m2\u001b[0m\u001b[0;34m)\u001b[0m\u001b[0;34m\u001b[0m\u001b[0;34m\u001b[0m\u001b[0m\n\u001b[0m\u001b[1;32m     10\u001b[0m \u001b[0;34m\u001b[0m\u001b[0m\n\u001b[1;32m     11\u001b[0m \u001b[0;34m\u001b[0m\u001b[0m\n",
            "\u001b[0;32m<ipython-input-11-2d456ad5f440>\u001b[0m in \u001b[0;36mfibonacci\u001b[0;34m(n)\u001b[0m\n\u001b[1;32m      7\u001b[0m         \u001b[0;32mreturn\u001b[0m \u001b[0;36m1\u001b[0m\u001b[0;34m\u001b[0m\u001b[0;34m\u001b[0m\u001b[0m\n\u001b[1;32m      8\u001b[0m \u001b[0;34m\u001b[0m\u001b[0m\n\u001b[0;32m----> 9\u001b[0;31m     \u001b[0;32mreturn\u001b[0m \u001b[0mfibonacci\u001b[0m\u001b[0;34m(\u001b[0m\u001b[0mn\u001b[0m \u001b[0;34m-\u001b[0m \u001b[0;36m1\u001b[0m\u001b[0;34m)\u001b[0m \u001b[0;34m+\u001b[0m \u001b[0mfibonacci\u001b[0m\u001b[0;34m(\u001b[0m\u001b[0mn\u001b[0m \u001b[0;34m-\u001b[0m \u001b[0;36m2\u001b[0m\u001b[0;34m)\u001b[0m\u001b[0;34m\u001b[0m\u001b[0;34m\u001b[0m\u001b[0m\n\u001b[0m\u001b[1;32m     10\u001b[0m \u001b[0;34m\u001b[0m\u001b[0m\n\u001b[1;32m     11\u001b[0m \u001b[0;34m\u001b[0m\u001b[0m\n",
            "\u001b[0;32m<ipython-input-11-2d456ad5f440>\u001b[0m in \u001b[0;36mfibonacci\u001b[0;34m(n)\u001b[0m\n\u001b[1;32m      7\u001b[0m         \u001b[0;32mreturn\u001b[0m \u001b[0;36m1\u001b[0m\u001b[0;34m\u001b[0m\u001b[0;34m\u001b[0m\u001b[0m\n\u001b[1;32m      8\u001b[0m \u001b[0;34m\u001b[0m\u001b[0m\n\u001b[0;32m----> 9\u001b[0;31m     \u001b[0;32mreturn\u001b[0m \u001b[0mfibonacci\u001b[0m\u001b[0;34m(\u001b[0m\u001b[0mn\u001b[0m \u001b[0;34m-\u001b[0m \u001b[0;36m1\u001b[0m\u001b[0;34m)\u001b[0m \u001b[0;34m+\u001b[0m \u001b[0mfibonacci\u001b[0m\u001b[0;34m(\u001b[0m\u001b[0mn\u001b[0m \u001b[0;34m-\u001b[0m \u001b[0;36m2\u001b[0m\u001b[0;34m)\u001b[0m\u001b[0;34m\u001b[0m\u001b[0;34m\u001b[0m\u001b[0m\n\u001b[0m\u001b[1;32m     10\u001b[0m \u001b[0;34m\u001b[0m\u001b[0m\n\u001b[1;32m     11\u001b[0m \u001b[0;34m\u001b[0m\u001b[0m\n",
            "\u001b[0;32m<ipython-input-11-2d456ad5f440>\u001b[0m in \u001b[0;36mfibonacci\u001b[0;34m(n)\u001b[0m\n\u001b[1;32m      7\u001b[0m         \u001b[0;32mreturn\u001b[0m \u001b[0;36m1\u001b[0m\u001b[0;34m\u001b[0m\u001b[0;34m\u001b[0m\u001b[0m\n\u001b[1;32m      8\u001b[0m \u001b[0;34m\u001b[0m\u001b[0m\n\u001b[0;32m----> 9\u001b[0;31m     \u001b[0;32mreturn\u001b[0m \u001b[0mfibonacci\u001b[0m\u001b[0;34m(\u001b[0m\u001b[0mn\u001b[0m \u001b[0;34m-\u001b[0m \u001b[0;36m1\u001b[0m\u001b[0;34m)\u001b[0m \u001b[0;34m+\u001b[0m \u001b[0mfibonacci\u001b[0m\u001b[0;34m(\u001b[0m\u001b[0mn\u001b[0m \u001b[0;34m-\u001b[0m \u001b[0;36m2\u001b[0m\u001b[0;34m)\u001b[0m\u001b[0;34m\u001b[0m\u001b[0;34m\u001b[0m\u001b[0m\n\u001b[0m\u001b[1;32m     10\u001b[0m \u001b[0;34m\u001b[0m\u001b[0m\n\u001b[1;32m     11\u001b[0m \u001b[0;34m\u001b[0m\u001b[0m\n",
            "\u001b[0;32m<ipython-input-11-2d456ad5f440>\u001b[0m in \u001b[0;36mfibonacci\u001b[0;34m(n)\u001b[0m\n\u001b[1;32m      7\u001b[0m         \u001b[0;32mreturn\u001b[0m \u001b[0;36m1\u001b[0m\u001b[0;34m\u001b[0m\u001b[0;34m\u001b[0m\u001b[0m\n\u001b[1;32m      8\u001b[0m \u001b[0;34m\u001b[0m\u001b[0m\n\u001b[0;32m----> 9\u001b[0;31m     \u001b[0;32mreturn\u001b[0m \u001b[0mfibonacci\u001b[0m\u001b[0;34m(\u001b[0m\u001b[0mn\u001b[0m \u001b[0;34m-\u001b[0m \u001b[0;36m1\u001b[0m\u001b[0;34m)\u001b[0m \u001b[0;34m+\u001b[0m \u001b[0mfibonacci\u001b[0m\u001b[0;34m(\u001b[0m\u001b[0mn\u001b[0m \u001b[0;34m-\u001b[0m \u001b[0;36m2\u001b[0m\u001b[0;34m)\u001b[0m\u001b[0;34m\u001b[0m\u001b[0;34m\u001b[0m\u001b[0m\n\u001b[0m\u001b[1;32m     10\u001b[0m \u001b[0;34m\u001b[0m\u001b[0m\n\u001b[1;32m     11\u001b[0m \u001b[0;34m\u001b[0m\u001b[0m\n",
            "\u001b[0;32m<ipython-input-11-2d456ad5f440>\u001b[0m in \u001b[0;36mfibonacci\u001b[0;34m(n)\u001b[0m\n\u001b[1;32m      7\u001b[0m         \u001b[0;32mreturn\u001b[0m \u001b[0;36m1\u001b[0m\u001b[0;34m\u001b[0m\u001b[0;34m\u001b[0m\u001b[0m\n\u001b[1;32m      8\u001b[0m \u001b[0;34m\u001b[0m\u001b[0m\n\u001b[0;32m----> 9\u001b[0;31m     \u001b[0;32mreturn\u001b[0m \u001b[0mfibonacci\u001b[0m\u001b[0;34m(\u001b[0m\u001b[0mn\u001b[0m \u001b[0;34m-\u001b[0m \u001b[0;36m1\u001b[0m\u001b[0;34m)\u001b[0m \u001b[0;34m+\u001b[0m \u001b[0mfibonacci\u001b[0m\u001b[0;34m(\u001b[0m\u001b[0mn\u001b[0m \u001b[0;34m-\u001b[0m \u001b[0;36m2\u001b[0m\u001b[0;34m)\u001b[0m\u001b[0;34m\u001b[0m\u001b[0;34m\u001b[0m\u001b[0m\n\u001b[0m\u001b[1;32m     10\u001b[0m \u001b[0;34m\u001b[0m\u001b[0m\n\u001b[1;32m     11\u001b[0m \u001b[0;34m\u001b[0m\u001b[0m\n",
            "\u001b[0;32m<ipython-input-11-2d456ad5f440>\u001b[0m in \u001b[0;36mfibonacci\u001b[0;34m(n)\u001b[0m\n\u001b[1;32m      7\u001b[0m         \u001b[0;32mreturn\u001b[0m \u001b[0;36m1\u001b[0m\u001b[0;34m\u001b[0m\u001b[0;34m\u001b[0m\u001b[0m\n\u001b[1;32m      8\u001b[0m \u001b[0;34m\u001b[0m\u001b[0m\n\u001b[0;32m----> 9\u001b[0;31m     \u001b[0;32mreturn\u001b[0m \u001b[0mfibonacci\u001b[0m\u001b[0;34m(\u001b[0m\u001b[0mn\u001b[0m \u001b[0;34m-\u001b[0m \u001b[0;36m1\u001b[0m\u001b[0;34m)\u001b[0m \u001b[0;34m+\u001b[0m \u001b[0mfibonacci\u001b[0m\u001b[0;34m(\u001b[0m\u001b[0mn\u001b[0m \u001b[0;34m-\u001b[0m \u001b[0;36m2\u001b[0m\u001b[0;34m)\u001b[0m\u001b[0;34m\u001b[0m\u001b[0;34m\u001b[0m\u001b[0m\n\u001b[0m\u001b[1;32m     10\u001b[0m \u001b[0;34m\u001b[0m\u001b[0m\n\u001b[1;32m     11\u001b[0m \u001b[0;34m\u001b[0m\u001b[0m\n",
            "\u001b[0;32m<ipython-input-11-2d456ad5f440>\u001b[0m in \u001b[0;36mfibonacci\u001b[0;34m(n)\u001b[0m\n\u001b[1;32m      7\u001b[0m         \u001b[0;32mreturn\u001b[0m \u001b[0;36m1\u001b[0m\u001b[0;34m\u001b[0m\u001b[0;34m\u001b[0m\u001b[0m\n\u001b[1;32m      8\u001b[0m \u001b[0;34m\u001b[0m\u001b[0m\n\u001b[0;32m----> 9\u001b[0;31m     \u001b[0;32mreturn\u001b[0m \u001b[0mfibonacci\u001b[0m\u001b[0;34m(\u001b[0m\u001b[0mn\u001b[0m \u001b[0;34m-\u001b[0m \u001b[0;36m1\u001b[0m\u001b[0;34m)\u001b[0m \u001b[0;34m+\u001b[0m \u001b[0mfibonacci\u001b[0m\u001b[0;34m(\u001b[0m\u001b[0mn\u001b[0m \u001b[0;34m-\u001b[0m \u001b[0;36m2\u001b[0m\u001b[0;34m)\u001b[0m\u001b[0;34m\u001b[0m\u001b[0;34m\u001b[0m\u001b[0m\n\u001b[0m\u001b[1;32m     10\u001b[0m \u001b[0;34m\u001b[0m\u001b[0m\n\u001b[1;32m     11\u001b[0m \u001b[0;34m\u001b[0m\u001b[0m\n",
            "\u001b[0;32m<ipython-input-11-2d456ad5f440>\u001b[0m in \u001b[0;36mfibonacci\u001b[0;34m(n)\u001b[0m\n\u001b[1;32m      7\u001b[0m         \u001b[0;32mreturn\u001b[0m \u001b[0;36m1\u001b[0m\u001b[0;34m\u001b[0m\u001b[0;34m\u001b[0m\u001b[0m\n\u001b[1;32m      8\u001b[0m \u001b[0;34m\u001b[0m\u001b[0m\n\u001b[0;32m----> 9\u001b[0;31m     \u001b[0;32mreturn\u001b[0m \u001b[0mfibonacci\u001b[0m\u001b[0;34m(\u001b[0m\u001b[0mn\u001b[0m \u001b[0;34m-\u001b[0m \u001b[0;36m1\u001b[0m\u001b[0;34m)\u001b[0m \u001b[0;34m+\u001b[0m \u001b[0mfibonacci\u001b[0m\u001b[0;34m(\u001b[0m\u001b[0mn\u001b[0m \u001b[0;34m-\u001b[0m \u001b[0;36m2\u001b[0m\u001b[0;34m)\u001b[0m\u001b[0;34m\u001b[0m\u001b[0;34m\u001b[0m\u001b[0m\n\u001b[0m\u001b[1;32m     10\u001b[0m \u001b[0;34m\u001b[0m\u001b[0m\n\u001b[1;32m     11\u001b[0m \u001b[0;34m\u001b[0m\u001b[0m\n",
            "\u001b[0;32m<ipython-input-11-2d456ad5f440>\u001b[0m in \u001b[0;36mfibonacci\u001b[0;34m(n)\u001b[0m\n\u001b[1;32m      7\u001b[0m         \u001b[0;32mreturn\u001b[0m \u001b[0;36m1\u001b[0m\u001b[0;34m\u001b[0m\u001b[0;34m\u001b[0m\u001b[0m\n\u001b[1;32m      8\u001b[0m \u001b[0;34m\u001b[0m\u001b[0m\n\u001b[0;32m----> 9\u001b[0;31m     \u001b[0;32mreturn\u001b[0m \u001b[0mfibonacci\u001b[0m\u001b[0;34m(\u001b[0m\u001b[0mn\u001b[0m \u001b[0;34m-\u001b[0m \u001b[0;36m1\u001b[0m\u001b[0;34m)\u001b[0m \u001b[0;34m+\u001b[0m \u001b[0mfibonacci\u001b[0m\u001b[0;34m(\u001b[0m\u001b[0mn\u001b[0m \u001b[0;34m-\u001b[0m \u001b[0;36m2\u001b[0m\u001b[0;34m)\u001b[0m\u001b[0;34m\u001b[0m\u001b[0;34m\u001b[0m\u001b[0m\n\u001b[0m\u001b[1;32m     10\u001b[0m \u001b[0;34m\u001b[0m\u001b[0m\n\u001b[1;32m     11\u001b[0m \u001b[0;34m\u001b[0m\u001b[0m\n",
            "\u001b[0;32m<ipython-input-11-2d456ad5f440>\u001b[0m in \u001b[0;36mfibonacci\u001b[0;34m(n)\u001b[0m\n\u001b[1;32m      7\u001b[0m         \u001b[0;32mreturn\u001b[0m \u001b[0;36m1\u001b[0m\u001b[0;34m\u001b[0m\u001b[0;34m\u001b[0m\u001b[0m\n\u001b[1;32m      8\u001b[0m \u001b[0;34m\u001b[0m\u001b[0m\n\u001b[0;32m----> 9\u001b[0;31m     \u001b[0;32mreturn\u001b[0m \u001b[0mfibonacci\u001b[0m\u001b[0;34m(\u001b[0m\u001b[0mn\u001b[0m \u001b[0;34m-\u001b[0m \u001b[0;36m1\u001b[0m\u001b[0;34m)\u001b[0m \u001b[0;34m+\u001b[0m \u001b[0mfibonacci\u001b[0m\u001b[0;34m(\u001b[0m\u001b[0mn\u001b[0m \u001b[0;34m-\u001b[0m \u001b[0;36m2\u001b[0m\u001b[0;34m)\u001b[0m\u001b[0;34m\u001b[0m\u001b[0;34m\u001b[0m\u001b[0m\n\u001b[0m\u001b[1;32m     10\u001b[0m \u001b[0;34m\u001b[0m\u001b[0m\n\u001b[1;32m     11\u001b[0m \u001b[0;34m\u001b[0m\u001b[0m\n",
            "\u001b[0;32m<ipython-input-11-2d456ad5f440>\u001b[0m in \u001b[0;36mfibonacci\u001b[0;34m(n)\u001b[0m\n\u001b[1;32m      7\u001b[0m         \u001b[0;32mreturn\u001b[0m \u001b[0;36m1\u001b[0m\u001b[0;34m\u001b[0m\u001b[0;34m\u001b[0m\u001b[0m\n\u001b[1;32m      8\u001b[0m \u001b[0;34m\u001b[0m\u001b[0m\n\u001b[0;32m----> 9\u001b[0;31m     \u001b[0;32mreturn\u001b[0m \u001b[0mfibonacci\u001b[0m\u001b[0;34m(\u001b[0m\u001b[0mn\u001b[0m \u001b[0;34m-\u001b[0m \u001b[0;36m1\u001b[0m\u001b[0;34m)\u001b[0m \u001b[0;34m+\u001b[0m \u001b[0mfibonacci\u001b[0m\u001b[0;34m(\u001b[0m\u001b[0mn\u001b[0m \u001b[0;34m-\u001b[0m \u001b[0;36m2\u001b[0m\u001b[0;34m)\u001b[0m\u001b[0;34m\u001b[0m\u001b[0;34m\u001b[0m\u001b[0m\n\u001b[0m\u001b[1;32m     10\u001b[0m \u001b[0;34m\u001b[0m\u001b[0m\n\u001b[1;32m     11\u001b[0m \u001b[0;34m\u001b[0m\u001b[0m\n",
            "\u001b[0;32m<ipython-input-11-2d456ad5f440>\u001b[0m in \u001b[0;36mfibonacci\u001b[0;34m(n)\u001b[0m\n\u001b[1;32m      7\u001b[0m         \u001b[0;32mreturn\u001b[0m \u001b[0;36m1\u001b[0m\u001b[0;34m\u001b[0m\u001b[0;34m\u001b[0m\u001b[0m\n\u001b[1;32m      8\u001b[0m \u001b[0;34m\u001b[0m\u001b[0m\n\u001b[0;32m----> 9\u001b[0;31m     \u001b[0;32mreturn\u001b[0m \u001b[0mfibonacci\u001b[0m\u001b[0;34m(\u001b[0m\u001b[0mn\u001b[0m \u001b[0;34m-\u001b[0m \u001b[0;36m1\u001b[0m\u001b[0;34m)\u001b[0m \u001b[0;34m+\u001b[0m \u001b[0mfibonacci\u001b[0m\u001b[0;34m(\u001b[0m\u001b[0mn\u001b[0m \u001b[0;34m-\u001b[0m \u001b[0;36m2\u001b[0m\u001b[0;34m)\u001b[0m\u001b[0;34m\u001b[0m\u001b[0;34m\u001b[0m\u001b[0m\n\u001b[0m\u001b[1;32m     10\u001b[0m \u001b[0;34m\u001b[0m\u001b[0m\n\u001b[1;32m     11\u001b[0m \u001b[0;34m\u001b[0m\u001b[0m\n",
            "\u001b[0;32m<ipython-input-11-2d456ad5f440>\u001b[0m in \u001b[0;36mfibonacci\u001b[0;34m(n)\u001b[0m\n\u001b[1;32m      7\u001b[0m         \u001b[0;32mreturn\u001b[0m \u001b[0;36m1\u001b[0m\u001b[0;34m\u001b[0m\u001b[0;34m\u001b[0m\u001b[0m\n\u001b[1;32m      8\u001b[0m \u001b[0;34m\u001b[0m\u001b[0m\n\u001b[0;32m----> 9\u001b[0;31m     \u001b[0;32mreturn\u001b[0m \u001b[0mfibonacci\u001b[0m\u001b[0;34m(\u001b[0m\u001b[0mn\u001b[0m \u001b[0;34m-\u001b[0m \u001b[0;36m1\u001b[0m\u001b[0;34m)\u001b[0m \u001b[0;34m+\u001b[0m \u001b[0mfibonacci\u001b[0m\u001b[0;34m(\u001b[0m\u001b[0mn\u001b[0m \u001b[0;34m-\u001b[0m \u001b[0;36m2\u001b[0m\u001b[0;34m)\u001b[0m\u001b[0;34m\u001b[0m\u001b[0;34m\u001b[0m\u001b[0m\n\u001b[0m\u001b[1;32m     10\u001b[0m \u001b[0;34m\u001b[0m\u001b[0m\n\u001b[1;32m     11\u001b[0m \u001b[0;34m\u001b[0m\u001b[0m\n",
            "\u001b[0;32m<ipython-input-11-2d456ad5f440>\u001b[0m in \u001b[0;36mfibonacci\u001b[0;34m(n)\u001b[0m\n\u001b[1;32m      7\u001b[0m         \u001b[0;32mreturn\u001b[0m \u001b[0;36m1\u001b[0m\u001b[0;34m\u001b[0m\u001b[0;34m\u001b[0m\u001b[0m\n\u001b[1;32m      8\u001b[0m \u001b[0;34m\u001b[0m\u001b[0m\n\u001b[0;32m----> 9\u001b[0;31m     \u001b[0;32mreturn\u001b[0m \u001b[0mfibonacci\u001b[0m\u001b[0;34m(\u001b[0m\u001b[0mn\u001b[0m \u001b[0;34m-\u001b[0m \u001b[0;36m1\u001b[0m\u001b[0;34m)\u001b[0m \u001b[0;34m+\u001b[0m \u001b[0mfibonacci\u001b[0m\u001b[0;34m(\u001b[0m\u001b[0mn\u001b[0m \u001b[0;34m-\u001b[0m \u001b[0;36m2\u001b[0m\u001b[0;34m)\u001b[0m\u001b[0;34m\u001b[0m\u001b[0;34m\u001b[0m\u001b[0m\n\u001b[0m\u001b[1;32m     10\u001b[0m \u001b[0;34m\u001b[0m\u001b[0m\n\u001b[1;32m     11\u001b[0m \u001b[0;34m\u001b[0m\u001b[0m\n",
            "\u001b[0;32m<ipython-input-11-2d456ad5f440>\u001b[0m in \u001b[0;36mfibonacci\u001b[0;34m(n)\u001b[0m\n\u001b[1;32m      7\u001b[0m         \u001b[0;32mreturn\u001b[0m \u001b[0;36m1\u001b[0m\u001b[0;34m\u001b[0m\u001b[0;34m\u001b[0m\u001b[0m\n\u001b[1;32m      8\u001b[0m \u001b[0;34m\u001b[0m\u001b[0m\n\u001b[0;32m----> 9\u001b[0;31m     \u001b[0;32mreturn\u001b[0m \u001b[0mfibonacci\u001b[0m\u001b[0;34m(\u001b[0m\u001b[0mn\u001b[0m \u001b[0;34m-\u001b[0m \u001b[0;36m1\u001b[0m\u001b[0;34m)\u001b[0m \u001b[0;34m+\u001b[0m \u001b[0mfibonacci\u001b[0m\u001b[0;34m(\u001b[0m\u001b[0mn\u001b[0m \u001b[0;34m-\u001b[0m \u001b[0;36m2\u001b[0m\u001b[0;34m)\u001b[0m\u001b[0;34m\u001b[0m\u001b[0;34m\u001b[0m\u001b[0m\n\u001b[0m\u001b[1;32m     10\u001b[0m \u001b[0;34m\u001b[0m\u001b[0m\n\u001b[1;32m     11\u001b[0m \u001b[0;34m\u001b[0m\u001b[0m\n",
            "\u001b[0;32m<ipython-input-11-2d456ad5f440>\u001b[0m in \u001b[0;36mfibonacci\u001b[0;34m(n)\u001b[0m\n\u001b[1;32m      7\u001b[0m         \u001b[0;32mreturn\u001b[0m \u001b[0;36m1\u001b[0m\u001b[0;34m\u001b[0m\u001b[0;34m\u001b[0m\u001b[0m\n\u001b[1;32m      8\u001b[0m \u001b[0;34m\u001b[0m\u001b[0m\n\u001b[0;32m----> 9\u001b[0;31m     \u001b[0;32mreturn\u001b[0m \u001b[0mfibonacci\u001b[0m\u001b[0;34m(\u001b[0m\u001b[0mn\u001b[0m \u001b[0;34m-\u001b[0m \u001b[0;36m1\u001b[0m\u001b[0;34m)\u001b[0m \u001b[0;34m+\u001b[0m \u001b[0mfibonacci\u001b[0m\u001b[0;34m(\u001b[0m\u001b[0mn\u001b[0m \u001b[0;34m-\u001b[0m \u001b[0;36m2\u001b[0m\u001b[0;34m)\u001b[0m\u001b[0;34m\u001b[0m\u001b[0;34m\u001b[0m\u001b[0m\n\u001b[0m\u001b[1;32m     10\u001b[0m \u001b[0;34m\u001b[0m\u001b[0m\n\u001b[1;32m     11\u001b[0m \u001b[0;34m\u001b[0m\u001b[0m\n",
            "\u001b[0;32m<ipython-input-11-2d456ad5f440>\u001b[0m in \u001b[0;36mfibonacci\u001b[0;34m(n)\u001b[0m\n\u001b[1;32m      7\u001b[0m         \u001b[0;32mreturn\u001b[0m \u001b[0;36m1\u001b[0m\u001b[0;34m\u001b[0m\u001b[0;34m\u001b[0m\u001b[0m\n\u001b[1;32m      8\u001b[0m \u001b[0;34m\u001b[0m\u001b[0m\n\u001b[0;32m----> 9\u001b[0;31m     \u001b[0;32mreturn\u001b[0m \u001b[0mfibonacci\u001b[0m\u001b[0;34m(\u001b[0m\u001b[0mn\u001b[0m \u001b[0;34m-\u001b[0m \u001b[0;36m1\u001b[0m\u001b[0;34m)\u001b[0m \u001b[0;34m+\u001b[0m \u001b[0mfibonacci\u001b[0m\u001b[0;34m(\u001b[0m\u001b[0mn\u001b[0m \u001b[0;34m-\u001b[0m \u001b[0;36m2\u001b[0m\u001b[0;34m)\u001b[0m\u001b[0;34m\u001b[0m\u001b[0;34m\u001b[0m\u001b[0m\n\u001b[0m\u001b[1;32m     10\u001b[0m \u001b[0;34m\u001b[0m\u001b[0m\n\u001b[1;32m     11\u001b[0m \u001b[0;34m\u001b[0m\u001b[0m\n",
            "\u001b[0;32m<ipython-input-11-2d456ad5f440>\u001b[0m in \u001b[0;36mfibonacci\u001b[0;34m(n)\u001b[0m\n\u001b[1;32m      7\u001b[0m         \u001b[0;32mreturn\u001b[0m \u001b[0;36m1\u001b[0m\u001b[0;34m\u001b[0m\u001b[0;34m\u001b[0m\u001b[0m\n\u001b[1;32m      8\u001b[0m \u001b[0;34m\u001b[0m\u001b[0m\n\u001b[0;32m----> 9\u001b[0;31m     \u001b[0;32mreturn\u001b[0m \u001b[0mfibonacci\u001b[0m\u001b[0;34m(\u001b[0m\u001b[0mn\u001b[0m \u001b[0;34m-\u001b[0m \u001b[0;36m1\u001b[0m\u001b[0;34m)\u001b[0m \u001b[0;34m+\u001b[0m \u001b[0mfibonacci\u001b[0m\u001b[0;34m(\u001b[0m\u001b[0mn\u001b[0m \u001b[0;34m-\u001b[0m \u001b[0;36m2\u001b[0m\u001b[0;34m)\u001b[0m\u001b[0;34m\u001b[0m\u001b[0;34m\u001b[0m\u001b[0m\n\u001b[0m\u001b[1;32m     10\u001b[0m \u001b[0;34m\u001b[0m\u001b[0m\n\u001b[1;32m     11\u001b[0m \u001b[0;34m\u001b[0m\u001b[0m\n",
            "\u001b[0;32m<ipython-input-11-2d456ad5f440>\u001b[0m in \u001b[0;36mfibonacci\u001b[0;34m(n)\u001b[0m\n\u001b[1;32m      7\u001b[0m         \u001b[0;32mreturn\u001b[0m \u001b[0;36m1\u001b[0m\u001b[0;34m\u001b[0m\u001b[0;34m\u001b[0m\u001b[0m\n\u001b[1;32m      8\u001b[0m \u001b[0;34m\u001b[0m\u001b[0m\n\u001b[0;32m----> 9\u001b[0;31m     \u001b[0;32mreturn\u001b[0m \u001b[0mfibonacci\u001b[0m\u001b[0;34m(\u001b[0m\u001b[0mn\u001b[0m \u001b[0;34m-\u001b[0m \u001b[0;36m1\u001b[0m\u001b[0;34m)\u001b[0m \u001b[0;34m+\u001b[0m \u001b[0mfibonacci\u001b[0m\u001b[0;34m(\u001b[0m\u001b[0mn\u001b[0m \u001b[0;34m-\u001b[0m \u001b[0;36m2\u001b[0m\u001b[0;34m)\u001b[0m\u001b[0;34m\u001b[0m\u001b[0;34m\u001b[0m\u001b[0m\n\u001b[0m\u001b[1;32m     10\u001b[0m \u001b[0;34m\u001b[0m\u001b[0m\n\u001b[1;32m     11\u001b[0m \u001b[0;34m\u001b[0m\u001b[0m\n",
            "\u001b[0;32m<ipython-input-11-2d456ad5f440>\u001b[0m in \u001b[0;36mfibonacci\u001b[0;34m(n)\u001b[0m\n\u001b[1;32m      7\u001b[0m         \u001b[0;32mreturn\u001b[0m \u001b[0;36m1\u001b[0m\u001b[0;34m\u001b[0m\u001b[0;34m\u001b[0m\u001b[0m\n\u001b[1;32m      8\u001b[0m \u001b[0;34m\u001b[0m\u001b[0m\n\u001b[0;32m----> 9\u001b[0;31m     \u001b[0;32mreturn\u001b[0m \u001b[0mfibonacci\u001b[0m\u001b[0;34m(\u001b[0m\u001b[0mn\u001b[0m \u001b[0;34m-\u001b[0m \u001b[0;36m1\u001b[0m\u001b[0;34m)\u001b[0m \u001b[0;34m+\u001b[0m \u001b[0mfibonacci\u001b[0m\u001b[0;34m(\u001b[0m\u001b[0mn\u001b[0m \u001b[0;34m-\u001b[0m \u001b[0;36m2\u001b[0m\u001b[0;34m)\u001b[0m\u001b[0;34m\u001b[0m\u001b[0;34m\u001b[0m\u001b[0m\n\u001b[0m\u001b[1;32m     10\u001b[0m \u001b[0;34m\u001b[0m\u001b[0m\n\u001b[1;32m     11\u001b[0m \u001b[0;34m\u001b[0m\u001b[0m\n",
            "\u001b[0;32m<ipython-input-11-2d456ad5f440>\u001b[0m in \u001b[0;36mfibonacci\u001b[0;34m(n)\u001b[0m\n\u001b[1;32m      7\u001b[0m         \u001b[0;32mreturn\u001b[0m \u001b[0;36m1\u001b[0m\u001b[0;34m\u001b[0m\u001b[0;34m\u001b[0m\u001b[0m\n\u001b[1;32m      8\u001b[0m \u001b[0;34m\u001b[0m\u001b[0m\n\u001b[0;32m----> 9\u001b[0;31m     \u001b[0;32mreturn\u001b[0m \u001b[0mfibonacci\u001b[0m\u001b[0;34m(\u001b[0m\u001b[0mn\u001b[0m \u001b[0;34m-\u001b[0m \u001b[0;36m1\u001b[0m\u001b[0;34m)\u001b[0m \u001b[0;34m+\u001b[0m \u001b[0mfibonacci\u001b[0m\u001b[0;34m(\u001b[0m\u001b[0mn\u001b[0m \u001b[0;34m-\u001b[0m \u001b[0;36m2\u001b[0m\u001b[0;34m)\u001b[0m\u001b[0;34m\u001b[0m\u001b[0;34m\u001b[0m\u001b[0m\n\u001b[0m\u001b[1;32m     10\u001b[0m \u001b[0;34m\u001b[0m\u001b[0m\n\u001b[1;32m     11\u001b[0m \u001b[0;34m\u001b[0m\u001b[0m\n",
            "\u001b[0;32m<ipython-input-11-2d456ad5f440>\u001b[0m in \u001b[0;36mfibonacci\u001b[0;34m(n)\u001b[0m\n\u001b[1;32m      7\u001b[0m         \u001b[0;32mreturn\u001b[0m \u001b[0;36m1\u001b[0m\u001b[0;34m\u001b[0m\u001b[0;34m\u001b[0m\u001b[0m\n\u001b[1;32m      8\u001b[0m \u001b[0;34m\u001b[0m\u001b[0m\n\u001b[0;32m----> 9\u001b[0;31m     \u001b[0;32mreturn\u001b[0m \u001b[0mfibonacci\u001b[0m\u001b[0;34m(\u001b[0m\u001b[0mn\u001b[0m \u001b[0;34m-\u001b[0m \u001b[0;36m1\u001b[0m\u001b[0;34m)\u001b[0m \u001b[0;34m+\u001b[0m \u001b[0mfibonacci\u001b[0m\u001b[0;34m(\u001b[0m\u001b[0mn\u001b[0m \u001b[0;34m-\u001b[0m \u001b[0;36m2\u001b[0m\u001b[0;34m)\u001b[0m\u001b[0;34m\u001b[0m\u001b[0;34m\u001b[0m\u001b[0m\n\u001b[0m\u001b[1;32m     10\u001b[0m \u001b[0;34m\u001b[0m\u001b[0m\n\u001b[1;32m     11\u001b[0m \u001b[0;34m\u001b[0m\u001b[0m\n",
            "\u001b[0;32m<ipython-input-11-2d456ad5f440>\u001b[0m in \u001b[0;36mfibonacci\u001b[0;34m(n)\u001b[0m\n\u001b[1;32m      7\u001b[0m         \u001b[0;32mreturn\u001b[0m \u001b[0;36m1\u001b[0m\u001b[0;34m\u001b[0m\u001b[0;34m\u001b[0m\u001b[0m\n\u001b[1;32m      8\u001b[0m \u001b[0;34m\u001b[0m\u001b[0m\n\u001b[0;32m----> 9\u001b[0;31m     \u001b[0;32mreturn\u001b[0m \u001b[0mfibonacci\u001b[0m\u001b[0;34m(\u001b[0m\u001b[0mn\u001b[0m \u001b[0;34m-\u001b[0m \u001b[0;36m1\u001b[0m\u001b[0;34m)\u001b[0m \u001b[0;34m+\u001b[0m \u001b[0mfibonacci\u001b[0m\u001b[0;34m(\u001b[0m\u001b[0mn\u001b[0m \u001b[0;34m-\u001b[0m \u001b[0;36m2\u001b[0m\u001b[0;34m)\u001b[0m\u001b[0;34m\u001b[0m\u001b[0;34m\u001b[0m\u001b[0m\n\u001b[0m\u001b[1;32m     10\u001b[0m \u001b[0;34m\u001b[0m\u001b[0m\n\u001b[1;32m     11\u001b[0m \u001b[0;34m\u001b[0m\u001b[0m\n",
            "\u001b[0;32m<ipython-input-11-2d456ad5f440>\u001b[0m in \u001b[0;36mfibonacci\u001b[0;34m(n)\u001b[0m\n\u001b[1;32m      7\u001b[0m         \u001b[0;32mreturn\u001b[0m \u001b[0;36m1\u001b[0m\u001b[0;34m\u001b[0m\u001b[0;34m\u001b[0m\u001b[0m\n\u001b[1;32m      8\u001b[0m \u001b[0;34m\u001b[0m\u001b[0m\n\u001b[0;32m----> 9\u001b[0;31m     \u001b[0;32mreturn\u001b[0m \u001b[0mfibonacci\u001b[0m\u001b[0;34m(\u001b[0m\u001b[0mn\u001b[0m \u001b[0;34m-\u001b[0m \u001b[0;36m1\u001b[0m\u001b[0;34m)\u001b[0m \u001b[0;34m+\u001b[0m \u001b[0mfibonacci\u001b[0m\u001b[0;34m(\u001b[0m\u001b[0mn\u001b[0m \u001b[0;34m-\u001b[0m \u001b[0;36m2\u001b[0m\u001b[0;34m)\u001b[0m\u001b[0;34m\u001b[0m\u001b[0;34m\u001b[0m\u001b[0m\n\u001b[0m\u001b[1;32m     10\u001b[0m \u001b[0;34m\u001b[0m\u001b[0m\n\u001b[1;32m     11\u001b[0m \u001b[0;34m\u001b[0m\u001b[0m\n",
            "\u001b[0;32m<ipython-input-11-2d456ad5f440>\u001b[0m in \u001b[0;36mfibonacci\u001b[0;34m(n)\u001b[0m\n\u001b[1;32m      7\u001b[0m         \u001b[0;32mreturn\u001b[0m \u001b[0;36m1\u001b[0m\u001b[0;34m\u001b[0m\u001b[0;34m\u001b[0m\u001b[0m\n\u001b[1;32m      8\u001b[0m \u001b[0;34m\u001b[0m\u001b[0m\n\u001b[0;32m----> 9\u001b[0;31m     \u001b[0;32mreturn\u001b[0m \u001b[0mfibonacci\u001b[0m\u001b[0;34m(\u001b[0m\u001b[0mn\u001b[0m \u001b[0;34m-\u001b[0m \u001b[0;36m1\u001b[0m\u001b[0;34m)\u001b[0m \u001b[0;34m+\u001b[0m \u001b[0mfibonacci\u001b[0m\u001b[0;34m(\u001b[0m\u001b[0mn\u001b[0m \u001b[0;34m-\u001b[0m \u001b[0;36m2\u001b[0m\u001b[0;34m)\u001b[0m\u001b[0;34m\u001b[0m\u001b[0;34m\u001b[0m\u001b[0m\n\u001b[0m\u001b[1;32m     10\u001b[0m \u001b[0;34m\u001b[0m\u001b[0m\n\u001b[1;32m     11\u001b[0m \u001b[0;34m\u001b[0m\u001b[0m\n",
            "\u001b[0;32m<ipython-input-11-2d456ad5f440>\u001b[0m in \u001b[0;36mfibonacci\u001b[0;34m(n)\u001b[0m\n\u001b[1;32m      7\u001b[0m         \u001b[0;32mreturn\u001b[0m \u001b[0;36m1\u001b[0m\u001b[0;34m\u001b[0m\u001b[0;34m\u001b[0m\u001b[0m\n\u001b[1;32m      8\u001b[0m \u001b[0;34m\u001b[0m\u001b[0m\n\u001b[0;32m----> 9\u001b[0;31m     \u001b[0;32mreturn\u001b[0m \u001b[0mfibonacci\u001b[0m\u001b[0;34m(\u001b[0m\u001b[0mn\u001b[0m \u001b[0;34m-\u001b[0m \u001b[0;36m1\u001b[0m\u001b[0;34m)\u001b[0m \u001b[0;34m+\u001b[0m \u001b[0mfibonacci\u001b[0m\u001b[0;34m(\u001b[0m\u001b[0mn\u001b[0m \u001b[0;34m-\u001b[0m \u001b[0;36m2\u001b[0m\u001b[0;34m)\u001b[0m\u001b[0;34m\u001b[0m\u001b[0;34m\u001b[0m\u001b[0m\n\u001b[0m\u001b[1;32m     10\u001b[0m \u001b[0;34m\u001b[0m\u001b[0m\n\u001b[1;32m     11\u001b[0m \u001b[0;34m\u001b[0m\u001b[0m\n",
            "\u001b[0;32m<ipython-input-11-2d456ad5f440>\u001b[0m in \u001b[0;36mfibonacci\u001b[0;34m(n)\u001b[0m\n\u001b[1;32m      7\u001b[0m         \u001b[0;32mreturn\u001b[0m \u001b[0;36m1\u001b[0m\u001b[0;34m\u001b[0m\u001b[0;34m\u001b[0m\u001b[0m\n\u001b[1;32m      8\u001b[0m \u001b[0;34m\u001b[0m\u001b[0m\n\u001b[0;32m----> 9\u001b[0;31m     \u001b[0;32mreturn\u001b[0m \u001b[0mfibonacci\u001b[0m\u001b[0;34m(\u001b[0m\u001b[0mn\u001b[0m \u001b[0;34m-\u001b[0m \u001b[0;36m1\u001b[0m\u001b[0;34m)\u001b[0m \u001b[0;34m+\u001b[0m \u001b[0mfibonacci\u001b[0m\u001b[0;34m(\u001b[0m\u001b[0mn\u001b[0m \u001b[0;34m-\u001b[0m \u001b[0;36m2\u001b[0m\u001b[0;34m)\u001b[0m\u001b[0;34m\u001b[0m\u001b[0;34m\u001b[0m\u001b[0m\n\u001b[0m\u001b[1;32m     10\u001b[0m \u001b[0;34m\u001b[0m\u001b[0m\n\u001b[1;32m     11\u001b[0m \u001b[0;34m\u001b[0m\u001b[0m\n",
            "\u001b[0;32m<ipython-input-11-2d456ad5f440>\u001b[0m in \u001b[0;36mfibonacci\u001b[0;34m(n)\u001b[0m\n\u001b[1;32m      7\u001b[0m         \u001b[0;32mreturn\u001b[0m \u001b[0;36m1\u001b[0m\u001b[0;34m\u001b[0m\u001b[0;34m\u001b[0m\u001b[0m\n\u001b[1;32m      8\u001b[0m \u001b[0;34m\u001b[0m\u001b[0m\n\u001b[0;32m----> 9\u001b[0;31m     \u001b[0;32mreturn\u001b[0m \u001b[0mfibonacci\u001b[0m\u001b[0;34m(\u001b[0m\u001b[0mn\u001b[0m \u001b[0;34m-\u001b[0m \u001b[0;36m1\u001b[0m\u001b[0;34m)\u001b[0m \u001b[0;34m+\u001b[0m \u001b[0mfibonacci\u001b[0m\u001b[0;34m(\u001b[0m\u001b[0mn\u001b[0m \u001b[0;34m-\u001b[0m \u001b[0;36m2\u001b[0m\u001b[0;34m)\u001b[0m\u001b[0;34m\u001b[0m\u001b[0;34m\u001b[0m\u001b[0m\n\u001b[0m\u001b[1;32m     10\u001b[0m \u001b[0;34m\u001b[0m\u001b[0m\n\u001b[1;32m     11\u001b[0m \u001b[0;34m\u001b[0m\u001b[0m\n",
            "\u001b[0;32m<ipython-input-11-2d456ad5f440>\u001b[0m in \u001b[0;36mfibonacci\u001b[0;34m(n)\u001b[0m\n\u001b[1;32m      7\u001b[0m         \u001b[0;32mreturn\u001b[0m \u001b[0;36m1\u001b[0m\u001b[0;34m\u001b[0m\u001b[0;34m\u001b[0m\u001b[0m\n\u001b[1;32m      8\u001b[0m \u001b[0;34m\u001b[0m\u001b[0m\n\u001b[0;32m----> 9\u001b[0;31m     \u001b[0;32mreturn\u001b[0m \u001b[0mfibonacci\u001b[0m\u001b[0;34m(\u001b[0m\u001b[0mn\u001b[0m \u001b[0;34m-\u001b[0m \u001b[0;36m1\u001b[0m\u001b[0;34m)\u001b[0m \u001b[0;34m+\u001b[0m \u001b[0mfibonacci\u001b[0m\u001b[0;34m(\u001b[0m\u001b[0mn\u001b[0m \u001b[0;34m-\u001b[0m \u001b[0;36m2\u001b[0m\u001b[0;34m)\u001b[0m\u001b[0;34m\u001b[0m\u001b[0;34m\u001b[0m\u001b[0m\n\u001b[0m\u001b[1;32m     10\u001b[0m \u001b[0;34m\u001b[0m\u001b[0m\n\u001b[1;32m     11\u001b[0m \u001b[0;34m\u001b[0m\u001b[0m\n",
            "\u001b[0;32m<ipython-input-11-2d456ad5f440>\u001b[0m in \u001b[0;36mfibonacci\u001b[0;34m(n)\u001b[0m\n\u001b[1;32m      7\u001b[0m         \u001b[0;32mreturn\u001b[0m \u001b[0;36m1\u001b[0m\u001b[0;34m\u001b[0m\u001b[0;34m\u001b[0m\u001b[0m\n\u001b[1;32m      8\u001b[0m \u001b[0;34m\u001b[0m\u001b[0m\n\u001b[0;32m----> 9\u001b[0;31m     \u001b[0;32mreturn\u001b[0m \u001b[0mfibonacci\u001b[0m\u001b[0;34m(\u001b[0m\u001b[0mn\u001b[0m \u001b[0;34m-\u001b[0m \u001b[0;36m1\u001b[0m\u001b[0;34m)\u001b[0m \u001b[0;34m+\u001b[0m \u001b[0mfibonacci\u001b[0m\u001b[0;34m(\u001b[0m\u001b[0mn\u001b[0m \u001b[0;34m-\u001b[0m \u001b[0;36m2\u001b[0m\u001b[0;34m)\u001b[0m\u001b[0;34m\u001b[0m\u001b[0;34m\u001b[0m\u001b[0m\n\u001b[0m\u001b[1;32m     10\u001b[0m \u001b[0;34m\u001b[0m\u001b[0m\n\u001b[1;32m     11\u001b[0m \u001b[0;34m\u001b[0m\u001b[0m\n",
            "\u001b[0;31mKeyboardInterrupt\u001b[0m: "
          ]
        }
      ]
    },
    {
      "cell_type": "markdown",
      "source": [
        "---\n",
        "\n",
        "Writing recursive functions is often not easy. For instance, the Fibonacci function we defined above suffers from a very simple, but lethal, problem. Can you spot it?\n",
        "\n",
        "Another way to obtain the same result is to use iterative functions. Here is an example that calculates the same thing, but it is safe from the issue of the function defined above:\n",
        "\n",
        "---"
      ],
      "metadata": {
        "id": "lgrAtXurH7_X"
      }
    },
    {
      "cell_type": "code",
      "source": [
        "def fibonacci(n):\n",
        "    current=0\n",
        "    next = 1 #this is a nice and compact way to define two variables in a single line\n",
        "\n",
        "    for i in range(n):\n",
        "        current = next\n",
        "        next = current + next\n",
        "\n",
        "    return current\n",
        "\n"
      ],
      "metadata": {
        "id": "6SRyMIh5HhMz"
      },
      "execution_count": null,
      "outputs": []
    },
    {
      "cell_type": "markdown",
      "source": [
        "##**Passing a list of variable length**"
      ],
      "metadata": {
        "id": "ZBTdmC50Kl_2"
      }
    },
    {
      "cell_type": "markdown",
      "source": [
        "Sometimes we may want to pass a variable-length list of positional or keyword parameters into a function. We can put * before a parameter name to indicate that it is a variable-length tuple of positional parameters, and we can use ** to indicate that a parameter is a variable-length dictionary of keyword parameters. By convention, the parameter name often used for the tuple is `args` and the name we use for the dictionary is `kwargs`.\n",
        "\n",
        "---"
      ],
      "metadata": {
        "id": "lH9n3gk7LO3j"
      }
    },
    {
      "cell_type": "code",
      "source": [
        "def print_args(*args):\n",
        "    for arg in args:\n",
        "        print(arg)\n",
        "\n",
        "def print_kwargs(**kwargs):\n",
        "    for k, v in kwargs.items():\n",
        "        print(\"%s: %s\" % (k, v))\n",
        "\n",
        "print_args(\"one\", \"two\", \"three\")\n",
        "print(\"\\n-------------\\n\")\n",
        "print_args(\"one\", \"two\", \"three\", \"four\")\n",
        "print(\"\\n-------------\\n\")\n",
        "print_kwargs(name=\"Lorenzo\", surname=\"Capriotti\", amazing=True)\n"
      ],
      "metadata": {
        "id": "wsYpdwQAIgR5",
        "colab": {
          "base_uri": "https://localhost:8080/"
        },
        "outputId": "de085ea3-dca5-4db5-c73f-23887f56c6d0"
      },
      "execution_count": null,
      "outputs": [
        {
          "output_type": "stream",
          "name": "stdout",
          "text": [
            "one\n",
            "two\n",
            "three\n",
            "\n",
            "-------------\n",
            "\n",
            "one\n",
            "two\n",
            "three\n",
            "four\n",
            "\n",
            "-------------\n",
            "\n",
            "name: Lorenzo\n",
            "surname: Capriotti\n",
            "amazing: True\n"
          ]
        }
      ]
    },
    {
      "cell_type": "markdown",
      "source": [
        "---\n",
        "\n",
        "The real power of args and kwargs lies in the fact that we can define extremely general functions\n",
        "\n",
        "---"
      ],
      "metadata": {
        "id": "JJF8kEPWMjyH"
      }
    },
    {
      "cell_type": "code",
      "source": [
        "a = (8,9)\n",
        "a.append(7)"
      ],
      "metadata": {
        "colab": {
          "base_uri": "https://localhost:8080/",
          "height": 162
        },
        "id": "ynqJN6Ofk24X",
        "outputId": "c2067f5d-41ca-482d-cafe-4692d74d7e9c"
      },
      "execution_count": null,
      "outputs": [
        {
          "output_type": "error",
          "ename": "AttributeError",
          "evalue": "'tuple' object has no attribute 'append'",
          "traceback": [
            "\u001b[0;31m---------------------------------------------------------------------------\u001b[0m",
            "\u001b[0;31mAttributeError\u001b[0m                            Traceback (most recent call last)",
            "\u001b[0;32m<ipython-input-16-d24f4248fe02>\u001b[0m in \u001b[0;36m<cell line: 2>\u001b[0;34m()\u001b[0m\n\u001b[1;32m      1\u001b[0m \u001b[0ma\u001b[0m \u001b[0;34m=\u001b[0m \u001b[0;34m(\u001b[0m\u001b[0;36m8\u001b[0m\u001b[0;34m,\u001b[0m\u001b[0;36m9\u001b[0m\u001b[0;34m)\u001b[0m\u001b[0;34m\u001b[0m\u001b[0;34m\u001b[0m\u001b[0m\n\u001b[0;32m----> 2\u001b[0;31m \u001b[0ma\u001b[0m\u001b[0;34m.\u001b[0m\u001b[0mappend\u001b[0m\u001b[0;34m(\u001b[0m\u001b[0;36m7\u001b[0m\u001b[0;34m)\u001b[0m\u001b[0;34m\u001b[0m\u001b[0;34m\u001b[0m\u001b[0m\n\u001b[0m",
            "\u001b[0;31mAttributeError\u001b[0m: 'tuple' object has no attribute 'append'"
          ]
        }
      ]
    },
    {
      "cell_type": "code",
      "source": [
        "def print_everything(*args, **kwargs):\n",
        "    for arg in args:\n",
        "        print(arg)\n",
        "\n",
        "    for k, v in kwargs.items():\n",
        "        print(\"%s: %s\" % (k, v))\n",
        "\n",
        "# we can write all the parameters individually\n",
        "print_everything(\"cat\", \"dog\", day=\"Tuesday\")\n",
        "print(\"\\n-------------\\n\")\n",
        "\n",
        "t = (\"cat\", \"dog\")\n",
        "d = {\"day\": \"Tuesday\"}\n",
        "\n",
        "# we can unpack a tuple and a dictionary\n",
        "print_everything(*t, **d)\n",
        "print(\"\\n-------------\\n\")\n",
        "\n",
        "# or just one of them\n",
        "print_everything(*t, day=\"Tuesday\")\n",
        "print(\"\\n-------------\\n\")\n",
        "print_everything(\"cat\", \"dog\", **d)\n",
        "print(\"\\n-------------\\n\")\n",
        "\n",
        "# we can mix * and ** with explicit parameters\n",
        "print_everything(\"Jane\", *t, **d)\n",
        "print(\"\\n-------------\\n\")\n",
        "print_everything(\"Jane\", *t, time=\"evening\", **d)\n",
        "print(\"\\n-------------\\n\")\n",
        "print_everything(time=\"evening\", *t, **d)\n",
        "print(\"\\n-------------\\n\")"
      ],
      "metadata": {
        "id": "vHXInewGL5HC",
        "colab": {
          "base_uri": "https://localhost:8080/"
        },
        "outputId": "530a49bf-eff0-4bbd-b3c0-056256b31088"
      },
      "execution_count": null,
      "outputs": [
        {
          "output_type": "stream",
          "name": "stdout",
          "text": [
            "cat\n",
            "dog\n",
            "day: Tuesday\n",
            "\n",
            "-------------\n",
            "\n",
            "cat\n",
            "dog\n",
            "day: Tuesday\n",
            "\n",
            "-------------\n",
            "\n",
            "cat\n",
            "dog\n",
            "day: Tuesday\n",
            "\n",
            "-------------\n",
            "\n",
            "cat\n",
            "dog\n",
            "day: Tuesday\n",
            "\n",
            "-------------\n",
            "\n",
            "Jane\n",
            "cat\n",
            "dog\n",
            "day: Tuesday\n",
            "\n",
            "-------------\n",
            "\n",
            "Jane\n",
            "cat\n",
            "dog\n",
            "time: evening\n",
            "day: Tuesday\n",
            "\n",
            "-------------\n",
            "\n",
            "cat\n",
            "dog\n",
            "time: evening\n",
            "day: Tuesday\n",
            "\n",
            "-------------\n",
            "\n"
          ]
        }
      ]
    },
    {
      "cell_type": "markdown",
      "source": [
        "# <font color='red'>**Classes**\n"
      ],
      "metadata": {
        "id": "S54McpRGN3F4"
      }
    },
    {
      "cell_type": "markdown",
      "source": [
        "We have already seen how we can use a dictionary to group related data together, and how we can use functions to create shortcuts for commonly used groups of statements. A function performs an action using some set of input parameters. Not all functions are applicable to all kinds of data. Classes are a way of grouping together related data and functions which act upon that data.\n",
        "\n",
        "A class is a kind of data type, just like a string, integer or list. When we create an object of that data type, we call it an *instance* of a class.\n",
        "\n",
        "As we have already mentioned, in some other languages some entities are objects and some are not. In Python, everything is an object, i.e. everything is an instance of some class.\n",
        "\n",
        "The data values which we store inside an object are called **attributes**, and the functions which are associated with the object are called **methods**. We have already used the methods of some built-in objects, like strings and lists.\n",
        "\n",
        "When we design our own objects, we have to decide how we are going to group things together, and what our objects are going to represent.\n",
        "\n",
        "As a first example, let's have a look at a class that we can use to store all the personal information of a person.\n",
        "\n",
        "---"
      ],
      "metadata": {
        "id": "cbTB541cORYz"
      }
    },
    {
      "cell_type": "code",
      "source": [
        "import datetime # we will use this for date objects\n",
        "\n",
        "class Person:\n",
        "\n",
        "    def __init__(self, name, surname, birthdate, film, animal, music):\n",
        "        self.name = name\n",
        "        self.surname = surname\n",
        "        self.birthdate = birthdate\n",
        "\n",
        "        self.film = film\n",
        "        self.animal = animal\n",
        "        self.music = music\n",
        "\n",
        "    def age(self):\n",
        "        today = datetime.date.today()\n",
        "        age = today.year - self.birthdate.year\n",
        "\n",
        "        if today < datetime.date(today.year, self.birthdate.month, self.birthdate.day):\n",
        "            age -= 1\n",
        "\n",
        "        return age"
      ],
      "metadata": {
        "id": "5adRdwH2M-_e"
      },
      "execution_count": null,
      "outputs": []
    },
    {
      "cell_type": "markdown",
      "source": [
        "---\n",
        "\n",
        "Great! Now we only need a person :)\n",
        "\n",
        "---"
      ],
      "metadata": {
        "id": "oh-8lcMdPe67"
      }
    },
    {
      "cell_type": "code",
      "source": [
        "female= Person(\n",
        "    \"winfred\",\n",
        "    \"kangai\",\n",
        "    datetime.date(1989,4,12),\n",
        "    \"bella\",\n",
        "    \"dog\",\n",
        "    \"gospel\"\n",
        ")"
      ],
      "metadata": {
        "id": "iwMXRaRZPfhN"
      },
      "execution_count": null,
      "outputs": []
    },
    {
      "cell_type": "code",
      "source": [
        "print(female.age())"
      ],
      "metadata": {
        "id": "kMqUp1qSQzEN",
        "colab": {
          "base_uri": "https://localhost:8080/"
        },
        "outputId": "f8913530-ec16-412f-f3ed-b4f727bd9f17"
      },
      "execution_count": null,
      "outputs": [
        {
          "output_type": "stream",
          "name": "stdout",
          "text": [
            "35\n"
          ]
        }
      ]
    },
    {
      "cell_type": "markdown",
      "source": [
        "# <font color='red'>**Final exercises**\n"
      ],
      "metadata": {
        "id": "DixisPz2o8Lm"
      }
    },
    {
      "cell_type": "markdown",
      "source": [
        "---\n",
        "\n",
        "Try it yourself now: define a function with name `remove_n` which takes as input a string and an integer `n` and removes the first n letters of the string. Check that it does indeed what you want!\n",
        "\n",
        "---"
      ],
      "metadata": {
        "id": "Po6NANlHilI-"
      }
    },
    {
      "cell_type": "code",
      "source": [
        "def remove_n(string, n):\n",
        "  #...your code here\n",
        "  if n >= len(string):\n",
        "    return \"\"\n",
        "  else:\n",
        "    return string[n:]\n",
        "\n",
        "string1 = \"Hello there, you guy my guy\"\n",
        "remove_n(string1, 9)\n",
        "\n"
      ],
      "metadata": {
        "id": "pgEhGwv_i5Io",
        "colab": {
          "base_uri": "https://localhost:8080/",
          "height": 36
        },
        "outputId": "61ea07d1-921e-4eff-9fe2-f18d37c29351"
      },
      "execution_count": null,
      "outputs": [
        {
          "output_type": "execute_result",
          "data": {
            "text/plain": [
              "'re, you guy my guy'"
            ],
            "application/vnd.google.colaboratory.intrinsic+json": {
              "type": "string"
            }
          },
          "metadata": {},
          "execution_count": 20
        }
      ]
    },
    {
      "cell_type": "markdown",
      "source": [
        "---\n",
        "\n",
        "Here is another exercise: write a function that returns a list of all prime numbers between 1 and n. Remember that to check if a number `a` is a factor of another number `b` you can use the condition `b%a==0`. This means that the rest of the division between `b` and `a` is zero, i.e. `a` is a factor of `b`.\n",
        "\n",
        "---"
      ],
      "metadata": {
        "id": "qKvxdFchnII6"
      }
    },
    {
      "cell_type": "code",
      "source": [
        "def prime_numbers(n):\n",
        "  #...your code here\n",
        "  list = [1,2,4,32,434,343,341,342,12]\n",
        "  for num in list:\n",
        "    if num % 2 == 0:\n",
        "      print(list)\n",
        "    else:\n",
        "      print(\"No numbers\")\n",
        "\n",
        "print(prime_numbers(list))"
      ],
      "metadata": {
        "id": "gdT8o-ocnUEd",
        "colab": {
          "base_uri": "https://localhost:8080/",
          "height": 185
        },
        "outputId": "bce2e1d7-0aec-46c8-b1d5-b6fec3a7b2dd"
      },
      "execution_count": null,
      "outputs": [
        {
          "output_type": "error",
          "ename": "TypeError",
          "evalue": "prime_numbers() missing 1 required positional argument: 'list'",
          "traceback": [
            "\u001b[0;31m---------------------------------------------------------------------------\u001b[0m",
            "\u001b[0;31mTypeError\u001b[0m                                 Traceback (most recent call last)",
            "\u001b[0;32m<ipython-input-17-8b957f27f1ac>\u001b[0m in \u001b[0;36m<cell line: 10>\u001b[0;34m()\u001b[0m\n\u001b[1;32m      8\u001b[0m       \u001b[0mprint\u001b[0m\u001b[0;34m(\u001b[0m\u001b[0;34m\"No numbers\"\u001b[0m\u001b[0;34m)\u001b[0m\u001b[0;34m\u001b[0m\u001b[0;34m\u001b[0m\u001b[0m\n\u001b[1;32m      9\u001b[0m \u001b[0mlist\u001b[0m \u001b[0;34m=\u001b[0m \u001b[0;34m[\u001b[0m\u001b[0;36m1\u001b[0m\u001b[0;34m,\u001b[0m\u001b[0;36m2\u001b[0m\u001b[0;34m,\u001b[0m\u001b[0;36m4\u001b[0m\u001b[0;34m,\u001b[0m\u001b[0;36m32\u001b[0m\u001b[0;34m,\u001b[0m\u001b[0;36m434\u001b[0m\u001b[0;34m,\u001b[0m\u001b[0;36m343\u001b[0m\u001b[0;34m,\u001b[0m\u001b[0;36m341\u001b[0m\u001b[0;34m,\u001b[0m\u001b[0;36m342\u001b[0m\u001b[0;34m,\u001b[0m\u001b[0;36m12\u001b[0m\u001b[0;34m]\u001b[0m\u001b[0;34m\u001b[0m\u001b[0;34m\u001b[0m\u001b[0m\n\u001b[0;32m---> 10\u001b[0;31m \u001b[0mprint\u001b[0m\u001b[0;34m(\u001b[0m\u001b[0mprime_numbers\u001b[0m\u001b[0;34m(\u001b[0m\u001b[0mlist\u001b[0m\u001b[0;34m)\u001b[0m\u001b[0;34m)\u001b[0m\u001b[0;34m\u001b[0m\u001b[0;34m\u001b[0m\u001b[0m\n\u001b[0m",
            "\u001b[0;31mTypeError\u001b[0m: prime_numbers() missing 1 required positional argument: 'list'"
          ]
        }
      ]
    },
    {
      "cell_type": "code",
      "source": [],
      "metadata": {
        "id": "2qndjvAhp9hW"
      },
      "execution_count": null,
      "outputs": []
    }
  ]
}